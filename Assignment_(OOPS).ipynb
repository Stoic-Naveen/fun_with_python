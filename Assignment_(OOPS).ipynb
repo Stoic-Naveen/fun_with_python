{
  "nbformat": 4,
  "nbformat_minor": 0,
  "metadata": {
    "colab": {
      "provenance": [],
      "authorship_tag": "ABX9TyO+QjEz3fXe9LRb4tI3izkz"
    },
    "kernelspec": {
      "name": "python3",
      "display_name": "Python 3"
    },
    "language_info": {
      "name": "python"
    }
  },
  "cells": [
    {
      "cell_type": "markdown",
      "source": [
        "#Theoretical Questions"
      ],
      "metadata": {
        "id": "v5GZ7dhEaj2P"
      }
    },
    {
      "cell_type": "markdown",
      "source": [
        "1. What is Object-Oriented Programming (OOP)?\n",
        "\n",
        "- **Object-Oriented Programming (OOP)** is a programming paradigm based on the concept of \"objects,\" which can contain data (attributes) and code (methods).\n",
        "\n",
        "- It focuses on representing real-world entities and their interactions as objects. OOP principles include :\n",
        "\n",
        "- **Abstraction :** Simplifying complex systems by focusing on essential features and hiding unnecessary details.\n",
        "\n",
        "- **Encapsulation :** Bundling data (attributes) and methods that operate on that data within a single unit (class), controlling access to the data.\n",
        "\n",
        "- **Inheritance :** Creating new classes (subclasses) from existing ones (superclasses), inheriting their properties and behaviors.\n",
        "\n",
        "- **Polymorphism :** The ability of objects of different classes to be treated as objects of a common type.\n",
        "\n",
        "\n",
        "\n",
        "2. What is a class in OOP?\n",
        "\n",
        "- A class is a blueprint or template for creating objects. It defines the attributes (data) and methods (functions) that objects of that class will have.\n",
        "\n",
        "- For example, a \"Car\" class might define attributes like \"color,\" \"make,\" \"model,\" and methods like \"start,\" \"accelerate,\" and \"brake\".\n",
        "\n",
        "\n",
        "\n",
        "\n",
        "3. What is an object in OOP?\n",
        "\n",
        "- An object is an instance of a class. It represents a specific entity with its own set of data values for the attributes defined in the class.\n",
        "\n",
        "- For example, a \"red Ferrari\" would be an object of the \"Car\" class.\n",
        "\n",
        "\n",
        "\n",
        "\n",
        "4. What is the difference between abstraction and encapsulation?\n",
        "\n",
        "- **Abstraction :** Focuses on simplifying complex systems by identifying and highlighting only the essential features, hiding unnecessary details. It's about what the object does, not how it does it.\n",
        "\n",
        "- **Encapsulation :** Bundles data (attributes) and methods that operate on that data within a single unit (class). It controls access to the data, making it private and preventing unauthorized modifications.\n",
        "\n",
        "\n",
        "\n",
        "5. What are dunder methods in Python?\n",
        "\n",
        "- **Dunder methods**, also known as magic methods, are special methods in Python that start and end with double underscores (e.g., __init__, __str__, __add__). They are used to define how objects of a class behave in certain situations, such as object creation, string representation, and arithmetic operations.\n",
        "\n",
        "\n",
        "\n",
        "\n",
        "6. Explain the concept of inheritance in OOP.\n",
        "\n",
        "- Inheritance allows you to create new classes (subclasses) from existing ones (superclasses). Subclasses inherit the attributes and methods of their parent class, enabling code reusability and a hierarchical organization of classes.\n",
        "\n",
        "- For example, a \"SportsCar\" class could inherit from a \"Car\" class, inheriting common properties and methods.\n",
        "\n",
        "\n",
        "\n",
        "\n",
        "7. What is polymorphism in OOP?\n",
        "\n",
        "- Polymorphism is the ability of objects of different classes to be treated as objects of a common type. This allows you to write code that can work with objects of different classes in a uniform way.\n",
        "\n",
        "- For example, you can have a list of different animal objects, and you can call a \"make_sound\" method on each animal, and they will make their respective sounds (e.g., a dog barks, a cat meows).\n",
        "\n",
        "\n",
        "\n",
        "\n",
        "8. How is encapsulation achieved in Python?\n",
        "\n",
        "- Encapsulation in Python is achieved by using the _ (single underscore) or __ (double underscore) naming conventions for attributes.\n",
        "\n",
        "- Single underscore (_): Conventionally indicates that the attribute is meant to be private and should not be accessed directly from outside the class.\n",
        "\n",
        "- Double underscore (__): Triggers name mangling, making the attribute less accessible from outside the class.\n",
        "\n",
        "\n",
        "\n",
        "9. What is a constructor in Python?\n",
        "\n",
        "- A constructor is a special method in Python that is called automatically when an object of a class is created. It is typically used to initialize the object's attributes with initial values. The constructor is defined using the __init__ method.\n",
        "\n",
        "\n",
        "\n",
        "\n",
        "10. What are class and static methods in Python?\n",
        "\n",
        "- **Class methods :** Are bound to the class, not the object. They can access and modify class-level attributes. They are defined using the @classmethod decorator.\n",
        "\n",
        "- **Static methods :** Are not bound to the class or the object. They are simply functions that are defined within a class for organizational purposes. They are defined using the @staticmethod decorator.\n",
        "\n",
        "\n",
        "\n",
        "11. What is method overloading in Python?\n",
        "\n",
        "- Method overloading is not directly supported in Python. Python uses dynamic typing, so the same method can accept different types of arguments, effectively achieving method overloading.\n",
        "\n",
        "\n",
        "\n",
        "\n",
        "12. What is method overriding in OOP?\n",
        "\n",
        "- Method overriding occurs when a subclass provides a different implementation for a method that is already defined in its superclass. This allows subclasses to customize behavior while still maintaining a common interface.\n",
        "\n",
        "\n",
        "\n",
        "\n",
        "13. What is a property decorator in Python?\n",
        "\n",
        "- The **@property decorator** allows you to define methods that can be accessed like attributes. It provides a way to control access to and modify the values of attributes while maintaining a clean interface.\n",
        "\n",
        "\n",
        "\n",
        "\n",
        "14. Why is polymorphism important in OOP?\n",
        "\n",
        "- Polymorphism is important because it makes your code more flexible, reusable, and easier to maintain. It allows you to write code that can work with objects of different classes in a uniform way, making it easier to add new classes or modify existing ones without affecting other parts of the code.\n",
        "\n",
        "\n",
        "\n",
        "\n",
        "15. What is an abstract class in Python?\n",
        "\n",
        "- An abstract class is a class that cannot be instantiated directly. It serves as a template for other classes and often contains abstract methods (methods without implementation). Subclasses must provide implementations for these abstract methods.\n",
        "\n",
        "\n",
        "\n",
        "\n",
        "16. What are the advantages of OOP?\n",
        "\n",
        "- **Code Reusability :** Inheritance allows you to reuse code from existing classes.\n",
        "\n",
        "- **Modularity :** OOP promotes breaking down complex problems into smaller, manageable units (classes).\n",
        "\n",
        "- **Maintainability :** Encapsulation makes it easier to modify and maintain code without affecting other parts of the system.\n",
        "\n",
        "- **Flexibility :** Polymorphism allows you to write more flexible and adaptable code.\n",
        "\n",
        "\n",
        "\n",
        "17. What is the difference between a class variable and an instance variable?\n",
        "\n",
        "- **Class variable :** Belongs to the class itself and is shared among all instances of the class. It is defined within the class but outside any method.\n",
        "\n",
        "- **Instance variable :** Belongs to a specific instance of the class and holds data unique to that object. It is defined within the __init__ method or other instance methods.\n",
        "\n",
        "\n",
        "\n",
        "18. What is multiple inheritance in Python?\n",
        "\n",
        "- Multiple inheritance allows a class to inherit from multiple parent classes. This can lead to complex relationships and potential issues like the \"diamond problem\" (multiple inheritance ambiguity).\n",
        "\n",
        "\n",
        "\n",
        "\n",
        "19. Explain the purpose of __str__ and __repr__ methods in Python.\n",
        "\n",
        "- **__str__ :** Returns a human-readable string representation of the object.\n",
        "\n",
        "- **__repr__ :** Returns a string representation that can be used to recreate the object. It is often more technical and intended for developers.\n",
        "\n",
        "\n",
        "\n",
        "20. What is the significance of the super() function in Python?\n",
        "\n",
        "- The super() function allows you to call methods of the parent class from within a subclass. It is useful for overriding methods while still using the parent class's implementation.\n",
        "\n",
        "\n",
        "\n",
        "\n",
        "21. What is the significance of the __del__ method in Python?\n",
        "\n",
        "- The __del__ method, also known as the destructor, is called when an object is about to be garbage collected. It can be used to perform cleanup operations, such as closing file handles or releasing resources. However, relying heavily on __del__ is generally discouraged.\n",
        "\n",
        "\n",
        "\n",
        "\n",
        "22. What is the difference between @staticmethod and @classmethod in Python?\n",
        "\n",
        "- **@staticmethod :** Defines a static method that is not bound to the class or the object. It can be called directly on the class or an object.\n",
        "\n",
        "- **@classmethod :** Defines a class method that is bound to the class. It can access and modify class-level attributes.\n",
        "\n",
        "\n",
        "\n",
        "\n",
        "23. How does polymorphism work in Python with inheritance?\n",
        "\n",
        "- Polymorphism in Python with inheritance works by allowing objects of subclasses to be treated as objects of their superclass. This is because subclasses inherit the methods and attributes of their superclasses.\n",
        "\n",
        "\n",
        "\n",
        "\n",
        "24. What is method chaining in Python OOP?\n",
        "\n",
        "- Method chaining is a technique where you call multiple methods on an object in a single line, with each method returning the object itself. This creates a fluent and concise way to perform multiple operations on an object.\n",
        "\n",
        "\n",
        "\n",
        "\n",
        "25. What is the purpose of the __call__ method in Python?\n",
        "\n",
        "- The **__call__** method allows you to make objects of a class callable, meaning you can treat them like functions. When you call an object with parentheses, the **__call__** method is invoked.\n",
        "\n",
        "\n"
      ],
      "metadata": {
        "id": "O4ayo3TbDMa9"
      }
    },
    {
      "cell_type": "markdown",
      "source": [
        "#Practical Questions"
      ],
      "metadata": {
        "id": "ZZLTKKY7L1JF"
      }
    },
    {
      "cell_type": "markdown",
      "source": [
        "1.) Create a parent class Animal with a method speak( ) that prints a generic message. Create a child class Dog that overrides the speak( ) method to print \"Bark!\"."
      ],
      "metadata": {
        "id": "gFOBeVA-L3oe"
      }
    },
    {
      "cell_type": "code",
      "source": [
        "class Animal():\n",
        "  def speak(self):\n",
        "    print(\"I am an animal\")\n",
        "\n",
        "class Dog(Animal):\n",
        "  def speak(self):\n",
        "    print(\"Bark!\")\n",
        "\n",
        "dog = Dog()\n",
        "dog.speak()"
      ],
      "metadata": {
        "colab": {
          "base_uri": "https://localhost:8080/"
        },
        "id": "BVKQ6O5LPyhR",
        "outputId": "c1842e4c-3c15-4847-b14d-f24ced2b2d4d"
      },
      "execution_count": 1,
      "outputs": [
        {
          "output_type": "stream",
          "name": "stdout",
          "text": [
            "Bark!\n"
          ]
        }
      ]
    },
    {
      "cell_type": "markdown",
      "source": [
        "2.) Write a program to create an abstract class Shape with a method area( ). Derive classes Circle and Rectangle from it and implement the area( ) method in both."
      ],
      "metadata": {
        "id": "J65MSyTVL-Um"
      }
    },
    {
      "cell_type": "code",
      "source": [
        "from abc import ABC , abstractmethod\n",
        "class Shape():\n",
        "    @abstractmethod\n",
        "    def area(self):\n",
        "        return\n",
        "\n",
        "class Rectangle(Shape):\n",
        "    def __init__(self,length,width):\n",
        "        self.length = length\n",
        "        self.width = width\n",
        "    def area(self):\n",
        "        return self.length*self.width\n",
        "\n",
        "class Circle(Shape):\n",
        "    def __init__(self,radius):\n",
        "        self.radius = radius\n",
        "    def area(self):\n",
        "        return 3.14 * self.radius * self.radius\n",
        "\n",
        "rectangle = Rectangle(10,20)\n",
        "print(rectangle.area())\n",
        "\n",
        "circle = Circle(10)\n",
        "print(circle.area())"
      ],
      "metadata": {
        "colab": {
          "base_uri": "https://localhost:8080/"
        },
        "id": "LtRRz2c4Py00",
        "outputId": "10a8f9d5-0ed7-4634-e113-3daa11ac7a8a"
      },
      "execution_count": 2,
      "outputs": [
        {
          "output_type": "stream",
          "name": "stdout",
          "text": [
            "200\n",
            "314.0\n"
          ]
        }
      ]
    },
    {
      "cell_type": "markdown",
      "source": [
        "3.) Implement a multi-level inheritance scenario where a class Vehicle has an attribute type. Derive a class Car and further derive a class ElectricCar that adds a battery attribute."
      ],
      "metadata": {
        "id": "XX77uj1IL-LN"
      }
    },
    {
      "cell_type": "code",
      "source": [
        "class Vehicle():\n",
        "    def __init__(self,type):\n",
        "        self.type = type\n",
        "\n",
        "class Car(Vehicle):\n",
        "    def __init__(self,type,color):\n",
        "        self.type = type\n",
        "        self.color = color\n",
        "\n",
        "class ElectricCar(Car):\n",
        "    def __init__(self,type,color,battery):\n",
        "        self.type = type\n",
        "        self.color = color\n",
        "        self.battery = battery\n",
        "\n",
        "electric_car = ElectricCar(\"Car\",\"Red\",100)\n",
        "print(electric_car.type)\n",
        "print(electric_car.color)\n",
        "print(electric_car.battery)"
      ],
      "metadata": {
        "colab": {
          "base_uri": "https://localhost:8080/"
        },
        "id": "VSk_ivCHPzzk",
        "outputId": "97334f5e-a26e-4adf-8ac0-abe8904ac6ce"
      },
      "execution_count": 3,
      "outputs": [
        {
          "output_type": "stream",
          "name": "stdout",
          "text": [
            "Car\n",
            "Red\n",
            "100\n"
          ]
        }
      ]
    },
    {
      "cell_type": "markdown",
      "source": [
        "4.) Implement a multi-level inheritance scenario where a class Vehicle has an attribute type. Derive a class Car and further derive a class ElectricCar that adds a battery attribute."
      ],
      "metadata": {
        "id": "NcF9QV2LL-DX"
      }
    },
    {
      "cell_type": "code",
      "source": [
        "class Vehicle():\n",
        "    def __init__(self,type):\n",
        "        self.type = type\n",
        "\n",
        "class Car(Vehicle):\n",
        "    def __init__(self,type,color):\n",
        "        self.type = type\n",
        "        self.color = color\n",
        "\n",
        "class ElectricCar(Car):\n",
        "    def __init__(self,type,color,battery):\n",
        "        self.type = type\n",
        "        self.color = color\n",
        "        self.battery = battery\n",
        "\n",
        "electric_car = ElectricCar(\"Car\",\"Red\",100)\n",
        "print(electric_car.type)\n",
        "print(electric_car.color)\n",
        "print(electric_car.battery)"
      ],
      "metadata": {
        "colab": {
          "base_uri": "https://localhost:8080/"
        },
        "id": "vDBAYDESP0SS",
        "outputId": "55a22b6b-fd82-425a-d7ef-552495b56331"
      },
      "execution_count": 4,
      "outputs": [
        {
          "output_type": "stream",
          "name": "stdout",
          "text": [
            "Car\n",
            "Red\n",
            "100\n"
          ]
        }
      ]
    },
    {
      "cell_type": "markdown",
      "source": [
        "5.)  Write a program to demonstrate encapsulation by creating a class BankAccount with private attributes balance and methods to deposit, withdraw, and check balance."
      ],
      "metadata": {
        "id": "jp-J9I8oL96T"
      }
    },
    {
      "cell_type": "code",
      "source": [
        "class BankAccount():\n",
        "    def __init__(self,balance):\n",
        "        self.__balance = balance\n",
        "    def deposit(self,amount):\n",
        "        self.__balance += amount\n",
        "    def withdraw(self,amount):\n",
        "        if amount <= self.__balance:\n",
        "            self.__balance -= amount\n",
        "        else:\n",
        "            print(\"Insufficient balance\")\n",
        "\n",
        "\n",
        "Ram_account = BankAccount(1000)\n",
        "Ram_account.deposit(1000)\n",
        "print(Ram_account._BankAccount__balance)\n",
        "Ram_account.withdraw(500)\n",
        "print(Ram_account._BankAccount__balance)\n",
        "Ram_account.withdraw(1000)"
      ],
      "metadata": {
        "colab": {
          "base_uri": "https://localhost:8080/"
        },
        "id": "Ajd9wUFVP04E",
        "outputId": "098227ea-7a62-4067-99fa-61c88768b297"
      },
      "execution_count": 5,
      "outputs": [
        {
          "output_type": "stream",
          "name": "stdout",
          "text": [
            "2000\n",
            "1500\n"
          ]
        }
      ]
    },
    {
      "cell_type": "markdown",
      "source": [
        "6.) Demonstrate runtime polymorphism using a method play( ) in a base class Instrument. Derive classes Guitar and Piano that implement their own version of play( )."
      ],
      "metadata": {
        "id": "KZpPX4Y3L9yO"
      }
    },
    {
      "cell_type": "code",
      "source": [
        "from abc import ABC, abstractmethod\n",
        "class Instrument(ABC):\n",
        "    @abstractmethod\n",
        "    def play(self):\n",
        "        return\n",
        "\n",
        "class Guitar(Instrument):\n",
        "    def play(self):\n",
        "        print(\"Guitar is playing\")\n",
        "\n",
        "class Piano(Instrument):\n",
        "    def play(self):\n",
        "        print(\"Piano is playing\")\n",
        "\n",
        "guitar = Guitar()\n",
        "\n",
        "piano = Piano()\n",
        "\n",
        "l=[guitar,piano]\n",
        "\n",
        "for i in l:\n",
        "    i.play()"
      ],
      "metadata": {
        "colab": {
          "base_uri": "https://localhost:8080/"
        },
        "id": "2X25Wej_P1R1",
        "outputId": "f48867b7-81ee-4de9-e706-d096b3c5d153"
      },
      "execution_count": 7,
      "outputs": [
        {
          "output_type": "stream",
          "name": "stdout",
          "text": [
            "Guitar is playing\n",
            "Piano is playing\n"
          ]
        }
      ]
    },
    {
      "cell_type": "markdown",
      "source": [
        "7.) Create a class MathOperations with a class method add_numbers( ) to add two numbers and a static method subtract_numbers( ) to subtract two numbers.\n",
        "\n"
      ],
      "metadata": {
        "id": "qiAqtOUuL9qZ"
      }
    },
    {
      "cell_type": "code",
      "source": [
        "class MathOperations():\n",
        "    @classmethod\n",
        "    def add_numbers(cls,a,b):\n",
        "        return a+b\n",
        "    @staticmethod\n",
        "    def subtract_numbers(a,b):\n",
        "        return a-b\n",
        "\n",
        "print(MathOperations.add_numbers(10,20))\n",
        "print(MathOperations.subtract_numbers(10,20))"
      ],
      "metadata": {
        "colab": {
          "base_uri": "https://localhost:8080/"
        },
        "id": "CSg8JDMlP1t-",
        "outputId": "91c150a4-9931-4f81-cef2-520343ac94ea"
      },
      "execution_count": 8,
      "outputs": [
        {
          "output_type": "stream",
          "name": "stdout",
          "text": [
            "30\n",
            "-10\n"
          ]
        }
      ]
    },
    {
      "cell_type": "markdown",
      "source": [
        "8.) Implement a class Person with a class method to count the total number of persons created."
      ],
      "metadata": {
        "id": "_7MdGG10L9il"
      }
    },
    {
      "cell_type": "code",
      "source": [
        "class Person():\n",
        "    count = 0\n",
        "    def __init__(self,name):\n",
        "        self.name = name\n",
        "        Person.count += 1\n",
        "\n",
        "a=Person(\"Ajay\")\n",
        "b=Person(\"Vijay\")\n",
        "c=Person(\"Raj\")\n",
        "print(Person.count)"
      ],
      "metadata": {
        "colab": {
          "base_uri": "https://localhost:8080/"
        },
        "id": "hDspozdCP2Q1",
        "outputId": "314e1801-a0bf-4ccc-f1d8-dfffa05c2bfd"
      },
      "execution_count": 9,
      "outputs": [
        {
          "output_type": "stream",
          "name": "stdout",
          "text": [
            "3\n"
          ]
        }
      ]
    },
    {
      "cell_type": "markdown",
      "source": [
        "9.) Write a class Fraction with attributes numerator and denominator. Override the str method to display the fraction as \"numerator/denominator\"."
      ],
      "metadata": {
        "id": "t3rmd3JuL9ah"
      }
    },
    {
      "cell_type": "code",
      "source": [
        "class Fraction():\n",
        "    def __init__(self,numerator,denominator):\n",
        "        self.numerator = numerator\n",
        "        self.denominator = denominator\n",
        "    def __str__(self):\n",
        "        return f\"{self.numerator}/{self.denominator}\"\n",
        "\n",
        "fraction = Fraction(1,2)\n",
        "print(fraction)"
      ],
      "metadata": {
        "colab": {
          "base_uri": "https://localhost:8080/"
        },
        "id": "5gV02lKPP2-Z",
        "outputId": "0df15867-a371-432f-e21f-3d9200ceb74a"
      },
      "execution_count": 10,
      "outputs": [
        {
          "output_type": "stream",
          "name": "stdout",
          "text": [
            "1/2\n"
          ]
        }
      ]
    },
    {
      "cell_type": "markdown",
      "source": [
        "10.) Demonstrate operator overloading by creating a class Vector and overriding the add method to add two vectors."
      ],
      "metadata": {
        "id": "xJAYBhtTL9S-"
      }
    },
    {
      "cell_type": "code",
      "source": [
        "class Vector():\n",
        "    def __init__(self,x,y):\n",
        "        self.x = x\n",
        "        self.y = y\n",
        "    def __add__(self,other):\n",
        "        return Vector(self.x+other.x,self.y+other.y)\n",
        "\n",
        "a=Vector(1,2)\n",
        "b=Vector(3,4)\n",
        "c=a+b\n",
        "print(c.x,c.y)"
      ],
      "metadata": {
        "colab": {
          "base_uri": "https://localhost:8080/"
        },
        "id": "sjLRiF8wP3iI",
        "outputId": "93d3dbd1-fe2b-4791-91ca-a64e2eab0c44"
      },
      "execution_count": 11,
      "outputs": [
        {
          "output_type": "stream",
          "name": "stdout",
          "text": [
            "4 6\n"
          ]
        }
      ]
    },
    {
      "cell_type": "markdown",
      "source": [
        "11.) Create a class Person with attributes name and age. Add a method greet( ) that prints \"Hello, my name is {name} and I am {age} years old.\""
      ],
      "metadata": {
        "id": "Ok228SsKL9K6"
      }
    },
    {
      "cell_type": "code",
      "source": [
        "class Person():\n",
        "    def __init__(self,name,age):\n",
        "        self.name = name\n",
        "        self.age = age\n",
        "    def greet(self):\n",
        "        print(f\"Hello, my name is {self.name} and I am {self.age} years old.\")\n",
        "\n",
        "Person1=Person(\"Naveen\",25)\n",
        "Person1.greet()"
      ],
      "metadata": {
        "colab": {
          "base_uri": "https://localhost:8080/"
        },
        "id": "JoHoDIGsP38q",
        "outputId": "81ba6c11-4125-4960-aeb9-5f75485de941"
      },
      "execution_count": 13,
      "outputs": [
        {
          "output_type": "stream",
          "name": "stdout",
          "text": [
            "Hello, my name is Naveen and I am 25 years old.\n"
          ]
        }
      ]
    },
    {
      "cell_type": "markdown",
      "source": [
        "12.)  Implement a class Student with attributes name and grades. Create a method average_grade( ) to compute the average of the grades."
      ],
      "metadata": {
        "id": "CwMwPuZdL9D3"
      }
    },
    {
      "cell_type": "code",
      "source": [
        "class Students():\n",
        "    def __init__(self,name,grades):\n",
        "        self.name = name\n",
        "        self.grades = grades\n",
        "    def average_grade(self):\n",
        "        print(f\"The average of grades is : { sum(self.grades)/len(self.grades)}\")\n",
        "\n",
        "student = Students(\"Naveen\",[10,20,30,40])\n",
        "student.average_grade()"
      ],
      "metadata": {
        "colab": {
          "base_uri": "https://localhost:8080/"
        },
        "id": "CmjKP9GCP4dN",
        "outputId": "2039622c-b196-44fa-fefc-241e7c41addc"
      },
      "execution_count": 17,
      "outputs": [
        {
          "output_type": "stream",
          "name": "stdout",
          "text": [
            "The average of grades is : 25.0\n"
          ]
        }
      ]
    },
    {
      "cell_type": "markdown",
      "source": [
        "13.) Create a class Rectangle with methods set_dimensions( ) to set the dimensions and area( ) to calculate the area."
      ],
      "metadata": {
        "id": "oFZz4Mo4L87y"
      }
    },
    {
      "cell_type": "code",
      "source": [
        "class Rectangle():\n",
        "    def __init__(self,length,width):\n",
        "        self.length = length\n",
        "        self.width = width\n",
        "    def set_dimensions(self,length,width):\n",
        "        self.length = length\n",
        "        self.width = width\n",
        "    def area(self):\n",
        "      print(f\"The area of rectangle is : {self.length*self.width}\")\n",
        "\n",
        "Rectangle1=Rectangle(10,20)\n",
        "Rectangle1.set_dimensions(20,30)\n",
        "Rectangle1.area()\n"
      ],
      "metadata": {
        "colab": {
          "base_uri": "https://localhost:8080/"
        },
        "id": "-U8SvDMqP5hs",
        "outputId": "88f87321-5c89-44e7-843d-cce53b9349e1"
      },
      "execution_count": 20,
      "outputs": [
        {
          "output_type": "stream",
          "name": "stdout",
          "text": [
            "The area of rectangle is : 600\n"
          ]
        }
      ]
    },
    {
      "cell_type": "markdown",
      "source": [
        "14.) Create a class Employee with a method calculate_salary( ) that computes the salary based on hours worked and hourly rate. Create a derived class Manager that adds a bonus to the salary."
      ],
      "metadata": {
        "id": "KNmlY1F_L8z_"
      }
    },
    {
      "cell_type": "code",
      "source": [
        "class Employee():\n",
        "    def __init__(self,name,hours_worked,hourly_rate):\n",
        "        self.name = name\n",
        "        self.hours_worked = hours_worked\n",
        "        self.hourly_rate = hourly_rate\n",
        "    def calculate_salary(self):\n",
        "        print(f\"The salary of {self.name} is : {self.hours_worked*self.hourly_rate}\")\n",
        "\n",
        "class Manager(Employee):\n",
        "    def __init__(self,name,hours_worked,hourly_rate,bonus):\n",
        "        self.name = name\n",
        "        self.hours_worked = hours_worked\n",
        "        self.hourly_rate = hourly_rate\n",
        "        self.bonus = bonus\n",
        "\n",
        "    def calculate_salary(self):\n",
        "        print(f\"The salary of {self.name} is : {self.hours_worked*self.hourly_rate+self.bonus}\")\n",
        "\n",
        "\n",
        "Employee1=Employee(\"Naveen\",100,10)\n",
        "\n",
        "Manager1=Manager(\"Naveen\",100,10,1000)\n",
        "Manager1.calculate_salary()"
      ],
      "metadata": {
        "colab": {
          "base_uri": "https://localhost:8080/"
        },
        "id": "XFdM04NwP59R",
        "outputId": "170ae423-27fa-4955-b001-57506630a969"
      },
      "execution_count": 23,
      "outputs": [
        {
          "output_type": "stream",
          "name": "stdout",
          "text": [
            "The salary of Naveen is : 2000\n"
          ]
        }
      ]
    },
    {
      "cell_type": "markdown",
      "source": [
        "15.) Create a class Product with attributes name, price, and quantity. Implement a method total_price( ) that calculates the total price of the product."
      ],
      "metadata": {
        "id": "PaY9aDyCL8r6"
      }
    },
    {
      "cell_type": "code",
      "source": [
        "class Product():\n",
        "    def __init__(self, name, price, quantity):\n",
        "        self.name = name\n",
        "        self.price = price\n",
        "        self.quantity = quantity\n",
        "\n",
        "    def total_price(self):\n",
        "        return self.price * self.quantity\n",
        "\n",
        "product = Product(\"Apple\", 10, 2)\n",
        "print(f\"The price of {product.name} is {product.total_price()}\")"
      ],
      "metadata": {
        "colab": {
          "base_uri": "https://localhost:8080/"
        },
        "id": "k8bqFD7AP6gd",
        "outputId": "db208b92-214f-4c92-d024-a0679b60da65"
      },
      "execution_count": 27,
      "outputs": [
        {
          "output_type": "stream",
          "name": "stdout",
          "text": [
            "The price of Apple is 20\n"
          ]
        }
      ]
    },
    {
      "cell_type": "markdown",
      "source": [
        "16.) Create a class Animal with an abstract method sound( ). Create two derived classes Cow and Sheep that implement the sound( ) method."
      ],
      "metadata": {
        "id": "EJe5g34WL8k1"
      }
    },
    {
      "cell_type": "code",
      "source": [
        "from abc import ABC,abstractmethod\n",
        "\n",
        "class Animal():\n",
        "  @abstractmethod\n",
        "  def sound(self):\n",
        "    return\n",
        "\n",
        "class Cow(Animal):\n",
        "  def sound(self):\n",
        "    print(\"Moo\")\n",
        "\n",
        "class Sheep(Animal):\n",
        "  def sound(self):\n",
        "    print(\"Baa\")\n",
        "\n",
        "cow = Cow()\n",
        "sheep= Sheep()\n",
        "l=[cow,sheep]\n",
        "for i in l:\n",
        "  i.sound()\n"
      ],
      "metadata": {
        "colab": {
          "base_uri": "https://localhost:8080/"
        },
        "id": "ob0lv4_RP63X",
        "outputId": "91b64789-d53a-42e0-8e17-c7c84bff1cb2"
      },
      "execution_count": 31,
      "outputs": [
        {
          "output_type": "stream",
          "name": "stdout",
          "text": [
            "Moo\n",
            "Baa\n"
          ]
        }
      ]
    },
    {
      "cell_type": "markdown",
      "source": [
        "17.) Create a class Book with attributes title, author, and year_published. Add a method get_book_info( ) that returns a formatted string with the book's details."
      ],
      "metadata": {
        "id": "ZxYX6gmUL8cz"
      }
    },
    {
      "cell_type": "code",
      "source": [
        "class Book():\n",
        "    def __init__(self,title,author,year_published):\n",
        "        self.title = title\n",
        "        self.author = author\n",
        "        self.year_published = year_published\n",
        "\n",
        "    def get_book_info(self):\n",
        "        return f\"The book {self.title} is written by {self.author} and published in {self.year_published}\"\n",
        "\n",
        "book = Book(\"The Alchemist\",\"Paulo Coelho\",1988)\n",
        "print(Book.get_book_info(book))"
      ],
      "metadata": {
        "colab": {
          "base_uri": "https://localhost:8080/"
        },
        "id": "Pes9k03KP7bD",
        "outputId": "46ec76b4-1196-46db-b472-528479a2984d"
      },
      "execution_count": 32,
      "outputs": [
        {
          "output_type": "stream",
          "name": "stdout",
          "text": [
            "The book The Alchemist is written by Paulo Coelho and published in 1988\n"
          ]
        }
      ]
    },
    {
      "cell_type": "markdown",
      "source": [
        "18.) Create a class House with attributes address and price. Create a derived class Mansion that adds an attribute number_of_rooms."
      ],
      "metadata": {
        "id": "Mk2vX-UDL78g"
      }
    },
    {
      "cell_type": "code",
      "source": [
        "class House():\n",
        "    def __init__(self, address, price):\n",
        "        self.address = address\n",
        "        self.price = price\n",
        "\n",
        "    def __str__(self):\n",
        "        return f\"House(address: {self.address}, price: {self.price})\"\n",
        "\n",
        "class Mansion(House):\n",
        "    def __init__(self, address, price, number_of_rooms):\n",
        "        super().__init__(address, price)\n",
        "        self.number_of_rooms = number_of_rooms\n",
        "\n",
        "    def __str__(self):\n",
        "        return f\"Mansion(address: {self.address}, price: {self.price}, number_of_rooms: {self.number_of_rooms})\"\n",
        "\n",
        "\n",
        "mansion = Mansion(\"Jaipur\", 1500000, 10)\n",
        "print(mansion)\n",
        "\n",
        "house=House(\"Delhi\", 1500000)\n",
        "print(house)"
      ],
      "metadata": {
        "colab": {
          "base_uri": "https://localhost:8080/"
        },
        "id": "FZqxUhieX5cw",
        "outputId": "ece1a68d-dfb5-4784-f151-c7ed21360e75"
      },
      "execution_count": 43,
      "outputs": [
        {
          "output_type": "stream",
          "name": "stdout",
          "text": [
            "Mansion(address: Jaipur, price: 1500000, number_of_rooms: 10)\n",
            "House(address: Delhi, price: 1500000)\n"
          ]
        }
      ]
    }
  ]
}