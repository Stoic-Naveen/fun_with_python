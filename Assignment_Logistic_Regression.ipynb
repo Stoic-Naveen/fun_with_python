{
  "nbformat": 4,
  "nbformat_minor": 0,
  "metadata": {
    "colab": {
      "provenance": [],
      "authorship_tag": "ABX9TyPSAAm0POVc6gp18iYAxEmU"
    },
    "kernelspec": {
      "name": "python3",
      "display_name": "Python 3"
    },
    "language_info": {
      "name": "python"
    }
  },
  "cells": [
    {
      "cell_type": "markdown",
      "source": [
        "#Theoretical questions"
      ],
      "metadata": {
        "id": "PNLft3ppKk9L"
      }
    },
    {
      "cell_type": "markdown",
      "source": [
        "1.) What is Logistic Regression, and how does it differ from Linear Regression?\n",
        "\n",
        "- Logistic Regression is a statistical method used for binary classification problems. It predicts the probability of a data point belonging to a particular category.\n",
        "\n",
        "- Linear Regression predicts continuous values, while Logistic Regression predicts probabilities for categorical outcomes.\n",
        "\n",
        "\n",
        "\n",
        "\n",
        "2.) What is the mathematical equation of Logistic Regression?\n",
        "\n",
        "- The equation for Logistic Regression is :\n",
        "\n",
        "- p = 1 / (1 + e^(-(β₀ + β₁x₁ + β₂x₂ + ... + βₙxₙ)))\n",
        "\n",
        "- Where:\n",
        "\n",
        "- p is the probability of the outcome\n",
        "- e is the base of the natural logarithm\n",
        "- β₀, β₁, β₂, ..., βₙ are the coefficients\n",
        "- x₁, x₂, ..., xₙ are the independent variables.\n",
        "\n",
        "\n",
        "\n",
        "\n",
        "3.) Why do we use the Sigmoid function in Logistic Regression?\n",
        "\n",
        "- We use the Sigmoid function because it maps any real value into a probability between 0 and 1, which is essential for binary classification.\n",
        "\n",
        "\n",
        "\n",
        "\n",
        "4.) What is the cost function of Logistic Regression?\n",
        "\n",
        "- The cost function for Logistic Regression is typically the Cross-Entropy Loss (also called Log Loss) :\n",
        "\n",
        "- J(θ) = -1/m Σ [yᵢ log(hθ(xᵢ)) + (1 - yᵢ) log(1 - hθ(xᵢ))]\n",
        "\n",
        "Where:\n",
        "\n",
        "- J(θ) is the cost function\n",
        "- m is the number of training examples\n",
        "- yᵢ is the actual label (0 or 1)\n",
        "- hθ(xᵢ) is the predicted probability\n",
        "\n",
        "\n",
        "\n",
        "\n",
        "5.) What is Regularization in Logistic Regression? Why is it needed?\n",
        "\n",
        "- Regularization is a technique used to prevent overfitting in Logistic Regression.\n",
        "\n",
        "- It adds a penalty term to the cost function to discourage large coefficients.  This helps the model generalize better to unseen data.\n",
        "\n",
        "\n",
        "\n",
        "\n",
        "\n",
        "6.) Explain the difference between Lasso, Ridge, and Elastic Net regression.\n",
        "\n",
        "- Lasso (L1) Regression : Adds the absolute values of the coefficients to the penalty term. It can shrink some coefficients to exactly zero, performing feature selection.\n",
        "- Ridge (L2) Regression : Adds the squared values of the coefficients to the penalty term. It shrinks coefficients towards zero but rarely to exact zero.\n",
        "- Elastic Net Regression : A combination of Lasso and Ridge, adding both L1 and L2 penalties. It provides a balance between feature selection and coefficient shrinkage.\n",
        "\n",
        "\n",
        "\n",
        "\n",
        "7.) When should we use Elastic Net instead of Lasso or Ridge?\n",
        "\n",
        "- Elastic Net is preferred when dealing with datasets with a large number of features that are correlated. It combines the benefits of both Lasso and Ridge, providing feature selection and handling multicollinearity.\n",
        "\n",
        "\n",
        "\n",
        "\n",
        "8.) What is the impact of the regularization parameter (λ) in Logistic Regression?\n",
        "\n",
        "- The regularization parameter (λ) controls the strength of the regularization.\n",
        "- A larger λ increases the regularization strength, leading to simpler models and potentially preventing overfitting.\n",
        "- A smaller λ reduces the regularization strength, allowing the model to fit the training data more closely.\n",
        "\n",
        "\n",
        "\n",
        "\n",
        "\n",
        "9.) What are the key assumptions of Logistic Regression?\n",
        "\n",
        "- Key assumptions include :\n",
        "- Binary or ordinal dependent variable.\n",
        "- Independence of observations.\n",
        "- Linearity between the independent variables and the log-odds of the outcome.\n",
        "- Sufficiently large sample size.\n",
        "- Multicollinearity should be minimal.\n",
        "\n",
        "\n",
        "\n",
        "\n",
        "10.) What are some alternatives to Logistic Regression for classification tasks?\n",
        "\n",
        "- Alternatives include :\n",
        "- Support Vector Machines (SVM)\n",
        "- Decision Trees\n",
        "- Random Forest\n",
        "- Gradient Boosting Machines (e.g., XGBoost, LightGBM)\n",
        "- Neural Networks\n",
        "\n",
        "\n",
        "\n",
        "\n",
        "11.) What are Classification Evaluation Metrics?\n",
        "\n",
        "- Classification evaluation metrics are used to assess the performance of a classification model. Common metrics include :\n",
        "\n",
        "- Accuracy\n",
        "- Precision\n",
        "- Recall\n",
        "- F1-score\n",
        "- ROC-AUC\n",
        "- Confusion Matrix\n",
        "\n",
        "\n",
        "\n",
        "\n",
        "\n",
        "12.) How does class imbalance affect Logistic Regression?\n",
        "\n",
        "- Class imbalance, where one class has significantly more samples than the other, can bias Logistic Regression.  It can lead to a model that performs well on the majority class but poorly on the minority class.\n",
        "\n",
        "\n",
        "\n",
        "\n",
        "13.) What is Hyperparameter Tuning in Logistic Regression?\n",
        "\n",
        "- Hyperparameter tuning involves selecting the best values for the model's hyperparameters (e.g., regularization strength, solver) to optimize its performance.  Techniques like Grid Search and Randomized Search are used for this purpose.\n",
        "\n",
        "\n",
        "\n",
        "\n",
        "\n",
        "14.) What are different solvers in Logistic Regression? Which one should be used?\n",
        "\n",
        "- Solvers are algorithms used to optimize the cost function in Logistic Regression.  Different solvers include:\n",
        "- 'liblinear' : Suitable for small datasets.\n",
        "- 'lbfgs' : A good default choice for many cases.\n",
        "- 'newton-cg' : Another good option for small to medium-sized datasets.\n",
        "- 'sag' and 'saga' : Recommended for large datasets.\n",
        "\n",
        "- The choice of solver depends on the dataset size, the penalty used, and other factors.\n",
        "\n",
        "\n",
        "\n",
        "\n",
        "\n",
        "15.) How is Logistic Regression extended for multiclass classification?\n",
        "\n",
        "- Logistic Regression can be extended for multiclass classification using techniques like :\n",
        "- One-vs-Rest (OvR) : Training a binary classifier for each class against all others.\n",
        "- Softmax Regression : Generalizing the Logistic Regression equation to handle multiple classes directly.\n",
        "- One-vs-One (OvO) : Training a binary classifier for every pair of classes.\n",
        "\n",
        "\n",
        "\n",
        "\n",
        "16.) What are the advantages and disadvantages of Logistic Regression?\n",
        "\n",
        "- Advantages :\n",
        "- Simple and easy to implement.\n",
        "- Efficient to train.  \n",
        "- Provides interpretable probabilities.\n",
        "- Works well for linearly separable data.\n",
        "- Disadvantages :\n",
        "- Assumes linearity between independent variables and log-odds.\n",
        "- Can be sensitive to multicollinearity.\n",
        "- May not perform well with complex non-linear relationships.\n",
        "\n",
        "\n",
        "\n",
        "\n",
        "17.) What are some use cases of Logistic Regression?\n",
        "\n",
        "- Use cases include :\n",
        "- Medical diagnosis (e.g., disease prediction)\n",
        "- Spam detection\n",
        "- Customer churn prediction\n",
        "- Credit risk assessment\n",
        "\n",
        "\n",
        "\n",
        "\n",
        "\n",
        "18.) What is the difference between Softmax Regression and Logistic Regression?\n",
        "\n",
        "- Logistic Regression is used for binary classification, while Softmax Regression is used for multiclass classification. Softmax generalizes the Sigmoid function to multiple classes.\n",
        "\n",
        "\n",
        "\n",
        "\n",
        "\n",
        "19.) How do we choose between One-vs-Rest (OvR) and Softmax for multiclass classification?\n",
        "\n",
        "- OvR is simpler to implement but can suffer from imbalances if the classes are not well-separated. Softmax is more suitable when the classes are mutually exclusive.\n",
        "\n",
        "\n",
        "\n",
        "\n",
        "\n",
        "\n",
        "20.) How do we interpret coefficients in Logistic Regression?\n",
        "\n",
        "- Coefficients in Logistic Regression represent the change in the log-odds of the outcome variable for a one-unit change in the predictor variable, holding other variables constant.\n",
        "- A positive coefficient indicates an increased likelihood of the outcome, while a negative coefficient indicates a decreased likelihood.\n"
      ],
      "metadata": {
        "id": "Zcb9Wn8FKqUs"
      }
    },
    {
      "cell_type": "markdown",
      "source": [
        "#Practical Questions"
      ],
      "metadata": {
        "id": "dq_jBZKqZNG4"
      }
    },
    {
      "cell_type": "markdown",
      "source": [
        "1.) Write a Python program that loads a dataset, splits it into training and testing sets, applies Logistic Regression, and prints the model accuracy."
      ],
      "metadata": {
        "id": "dfoEhXpXZSOP"
      }
    },
    {
      "cell_type": "code",
      "source": [
        "import pandas as pd\n",
        "from sklearn.model_selection import train_test_split\n",
        "from sklearn.linear_model import LogisticRegression\n",
        "from sklearn.metrics import accuracy_score\n",
        "from sklearn.datasets import load_breast_cancer\n",
        "\n",
        "data=load_breast_cancer()\n",
        "df=pd.DataFrame(data.data,columns=data.feature_names)\n",
        "df['target']=data.target\n",
        "\n",
        "\n",
        "X = df.drop('target', axis=1)\n",
        "y = df['target']\n",
        "\n",
        "X_train, X_test, y_train, y_test = train_test_split(X, y, test_size=0.2, random_state=42)\n",
        "\n",
        "model = LogisticRegression()\n",
        "model.fit(X_train, y_train)\n",
        "\n",
        "y_pred = model.predict(X_test)\n",
        "\n",
        "accuracy = accuracy_score(y_test, y_pred)\n",
        "print(\"Model Accuracy:\", accuracy)"
      ],
      "metadata": {
        "colab": {
          "base_uri": "https://localhost:8080/"
        },
        "id": "oQqeuowmmoL7",
        "outputId": "c3fa705a-7060-4145-ef66-f462ebe880cc"
      },
      "execution_count": 53,
      "outputs": [
        {
          "output_type": "stream",
          "name": "stdout",
          "text": [
            "Model Accuracy: 0.9649122807017544\n"
          ]
        }
      ]
    },
    {
      "cell_type": "markdown",
      "source": [
        "2.) Write a Python program to apply L1 regularization (Lasso) on a dataset using LogisticRegression(penalty='l1') and print the model accuracy."
      ],
      "metadata": {
        "id": "g16VmcfRZnhN"
      }
    },
    {
      "cell_type": "code",
      "source": [
        "import pandas as pd\n",
        "from sklearn.model_selection import train_test_split\n",
        "from sklearn.linear_model import LogisticRegression\n",
        "from sklearn.metrics import accuracy_score\n",
        "from sklearn.datasets import load_breast_cancer\n",
        "\n",
        "data=load_breast_cancer()\n",
        "df=pd.DataFrame(data.data,columns=data.feature_names)\n",
        "df['target']=data.target\n",
        "\n",
        "X = df.drop('target', axis=1)\n",
        "y = df['target']\n",
        "\n",
        "X_train, X_test, y_train, y_test = train_test_split(X, y, test_size=0.2, random_state=42)\n",
        "\n",
        "\n",
        "model = LogisticRegression(penalty='l1', solver='liblinear')\n",
        "model.fit(X_train, y_train)\n",
        "\n",
        "y_pred = model.predict(X_test)\n",
        "\n",
        "\n",
        "accuracy = accuracy_score(y_test, y_pred)\n",
        "print(\"Model Accuracy:\", accuracy)"
      ],
      "metadata": {
        "colab": {
          "base_uri": "https://localhost:8080/"
        },
        "id": "_1X4hOUjmov2",
        "outputId": "4b67ddb6-4754-4bec-9525-b2a9ad846bf7"
      },
      "execution_count": 52,
      "outputs": [
        {
          "output_type": "stream",
          "name": "stdout",
          "text": [
            "Model Accuracy: 0.956140350877193\n"
          ]
        }
      ]
    },
    {
      "cell_type": "markdown",
      "source": [
        "3.) Write a Python program to train Logistic Regression with L2 regularization (Ridge) using LogisticRegression(penalty='l2'). Print model accuracy and coefficients."
      ],
      "metadata": {
        "id": "iYzzuoKTZr8W"
      }
    },
    {
      "cell_type": "code",
      "source": [
        "import pandas as pd\n",
        "from sklearn.model_selection import train_test_split\n",
        "from sklearn.linear_model import LogisticRegression\n",
        "from sklearn.metrics import accuracy_score\n",
        "from sklearn.datasets import load_breast_cancer\n",
        "\n",
        "data=load_breast_cancer()\n",
        "df=pd.DataFrame(data.data,columns=data.feature_names)\n",
        "df['target']=data.target\n",
        "\n",
        "X = df.drop('target', axis=1)\n",
        "y = df['target']\n",
        "\n",
        "\n",
        "X_train, X_test, y_train, y_test = train_test_split(X, y, test_size=0.2, random_state=42)\n",
        "\n",
        "model = LogisticRegression(penalty='l2')\n",
        "model.fit(X_train, y_train)\n",
        "\n",
        "\n",
        "y_pred = model.predict(X_test)\n",
        "\n",
        "\n",
        "accuracy = accuracy_score(y_test, y_pred)\n",
        "print(\"Model Accuracy:\", accuracy)\n",
        "\n",
        "\n",
        "print(\"Coefficients:\", model.coef_)"
      ],
      "metadata": {
        "colab": {
          "base_uri": "https://localhost:8080/"
        },
        "id": "7VSWhZ6dmpFc",
        "outputId": "ef45e0e2-1c10-4027-f5c9-657c2b8aec6f"
      },
      "execution_count": 51,
      "outputs": [
        {
          "output_type": "stream",
          "name": "stdout",
          "text": [
            "Model Accuracy: 0.9649122807017544\n",
            "Coefficients: [[ 1.31791802  0.5492192   0.14095363 -0.01321325 -0.0501786  -0.23997959\n",
            "  -0.33168731 -0.14185473 -0.07488245 -0.01515096  0.04531186  0.5676034\n",
            "   0.05202447 -0.1100058  -0.00467958 -0.04922902 -0.06791217 -0.01825224\n",
            "  -0.01764088 -0.0043182   1.3862889  -0.62988771 -0.19751658 -0.01892662\n",
            "  -0.08937345 -0.72495091 -0.89622599 -0.26245018 -0.24137919 -0.06732606]]\n"
          ]
        }
      ]
    },
    {
      "cell_type": "markdown",
      "source": [
        "4.) Write a Python program to train Logistic Regression with Elastic Net Regularization (penalty='elasticnet')."
      ],
      "metadata": {
        "id": "rWfH4fqLZryL"
      }
    },
    {
      "cell_type": "code",
      "source": [
        "import pandas as pd\n",
        "from sklearn.model_selection import train_test_split\n",
        "from sklearn.linear_model import LogisticRegression\n",
        "from sklearn.metrics import accuracy_score\n",
        "from sklearn.datasets import load_breast_cancer\n",
        "import warnings\n",
        "warnings.filterwarnings(\"ignore\")\n",
        "\n",
        "data=load_breast_cancer()\n",
        "df=pd.DataFrame(data.data,columns=data.feature_names)\n",
        "df['target']=data.target\n",
        "\n",
        "\n",
        "X = df.drop('target', axis=1)\n",
        "y = df['target']\n",
        "\n",
        "\n",
        "X_train, X_test, y_train, y_test = train_test_split(X, y, test_size=0.2, random_state=42)\n",
        "\n",
        "\n",
        "model = LogisticRegression(penalty='elasticnet', solver='saga', l1_ratio=0.5)\n",
        "model.fit(X_train, y_train)\n",
        "\n",
        "\n",
        "y_pred = model.predict(X_test)\n",
        "\n",
        "\n",
        "accuracy = accuracy_score(y_test, y_pred)\n",
        "print(\"Model Accuracy:\", accuracy)"
      ],
      "metadata": {
        "colab": {
          "base_uri": "https://localhost:8080/"
        },
        "id": "zbd5TPvSmpnB",
        "outputId": "44f912bd-12d4-4c73-dd71-3b1c4a939141"
      },
      "execution_count": 50,
      "outputs": [
        {
          "output_type": "stream",
          "name": "stdout",
          "text": [
            "Model Accuracy: 0.9473684210526315\n"
          ]
        }
      ]
    },
    {
      "cell_type": "markdown",
      "source": [
        "5.) Write a Python program to train a Logistic Regression model for multiclass classification using multi_class='ovr'."
      ],
      "metadata": {
        "id": "MjIt3knIZrqH"
      }
    },
    {
      "cell_type": "code",
      "source": [
        "import pandas as pd\n",
        "from sklearn.model_selection import train_test_split\n",
        "from sklearn.linear_model import LogisticRegression\n",
        "from sklearn.metrics import accuracy_score\n",
        "from sklearn.datasets import load_iris\n",
        "\n",
        "data=load_iris()\n",
        "df=pd.DataFrame(data.data,columns=data.feature_names)\n",
        "df['target']=data.target\n",
        "\n",
        "\n",
        "X = df.drop('target', axis=1)\n",
        "y = df['target']\n",
        "\n",
        "\n",
        "X_train, X_test, y_train, y_test = train_test_split(X, y, test_size=0.2, random_state=42)\n",
        "\n",
        "\n",
        "model = LogisticRegression(multi_class='ovr', solver='liblinear')\n",
        "model.fit(X_train, y_train)\n",
        "\n",
        "\n",
        "y_pred = model.predict(X_test)\n",
        "\n",
        "\n",
        "accuracy = accuracy_score(y_test, y_pred)\n",
        "print(\"Model Accuracy:\", accuracy)"
      ],
      "metadata": {
        "colab": {
          "base_uri": "https://localhost:8080/"
        },
        "id": "P6qD8Q45mqCs",
        "outputId": "efef3b9d-58a7-40b7-f715-23c250bb9c0d"
      },
      "execution_count": 11,
      "outputs": [
        {
          "output_type": "stream",
          "name": "stdout",
          "text": [
            "Model Accuracy: 1.0\n"
          ]
        }
      ]
    },
    {
      "cell_type": "markdown",
      "source": [
        "6.) Write a Python program to apply GridSearchCV to tune the hyperparameters (C and penalty) of Logistic Regression. Print the best parameters and accuracy."
      ],
      "metadata": {
        "id": "Mr8P2potZrhh"
      }
    },
    {
      "cell_type": "code",
      "source": [
        "import pandas as pd\n",
        "from sklearn.model_selection import train_test_split, GridSearchCV\n",
        "from sklearn.linear_model import LogisticRegression\n",
        "from sklearn.metrics import accuracy_score\n",
        "from sklearn.datasets import load_breast_cancer\n",
        "import warnings\n",
        "warnings.filterwarnings(\"ignore\")\n",
        "\n",
        "data=load_breast_cancer()\n",
        "df=pd.DataFrame(data.data,columns=data.feature_names)\n",
        "df['target']=data.target\n",
        "\n",
        "\n",
        "X = df.drop('target', axis=1)\n",
        "y = df['target']\n",
        "\n",
        "\n",
        "X_train, X_test, y_train, y_test = train_test_split(X, y, test_size=0.2, random_state=42)\n",
        "\n",
        "param_grid = {\n",
        "    'C': [0.001, 0.01, 0.1, 1, 10, 100],\n",
        "    'penalty': ['l1', 'l2', 'elasticnet', None],\n",
        "    'solver': ['liblinear', 'saga']\n",
        "}\n",
        "\n",
        "\n",
        "model = LogisticRegression()\n",
        "grid_search = GridSearchCV(model, param_grid, cv=5)\n",
        "grid_search.fit(X_train, y_train)\n",
        "\n",
        "\n",
        "print(\"Best Parameters:\", grid_search.best_params_)\n",
        "\n",
        "y_pred = grid_search.predict(X_test)\n",
        "\n",
        "\n",
        "accuracy = accuracy_score(y_test, y_pred)\n",
        "print(\"Best Accuracy:\", accuracy)"
      ],
      "metadata": {
        "colab": {
          "base_uri": "https://localhost:8080/"
        },
        "id": "VBm0Uvbbmqcc",
        "outputId": "5e28ee0f-4b3e-4743-d4ea-1743031efbf1"
      },
      "execution_count": 54,
      "outputs": [
        {
          "output_type": "stream",
          "name": "stdout",
          "text": [
            "Best Parameters: {'C': 100, 'penalty': 'l1', 'solver': 'liblinear'}\n",
            "Best Accuracy: 0.9824561403508771\n"
          ]
        }
      ]
    },
    {
      "cell_type": "markdown",
      "source": [
        "7.) Write a Python program to evaluate Logistic Regression using Stratified K-Fold Cross-Validation. Print the average accuracy."
      ],
      "metadata": {
        "id": "zkBCwanfZrYq"
      }
    },
    {
      "cell_type": "code",
      "source": [
        "from sklearn.datasets import load_breast_cancer\n",
        "from sklearn.model_selection import train_test_split, StratifiedKFold, cross_val_score\n",
        "from sklearn.linear_model import LogisticRegression\n",
        "\n",
        "X, y = load_breast_cancer(return_X_y=True)\n",
        "X_train, X_test, y_train, y_test = train_test_split(X, y, test_size=0.2, random_state=42)\n",
        "\n",
        "model = LogisticRegression(max_iter=1000)\n",
        "cv = StratifiedKFold(n_splits=5)\n",
        "scores = cross_val_score(model, X_train, y_train, cv=cv)\n",
        "print(f\"CV Accuracy: {scores.mean():.4f} ± {scores.std():.4f}\")\n",
        "\n",
        "model.fit(X_train, y_train)\n",
        "y_pred = model.predict(X_test)\n",
        "print(f\"Test Accuracy: {accuracy_score(y_test, y_pred):.4f}\")"
      ],
      "metadata": {
        "colab": {
          "base_uri": "https://localhost:8080/"
        },
        "id": "xEsA8HkEmq2O",
        "outputId": "d19cffc5-ee0f-4b64-98f4-4fe9818b9908"
      },
      "execution_count": 56,
      "outputs": [
        {
          "output_type": "stream",
          "name": "stdout",
          "text": [
            "CV Accuracy: 0.9516 ± 0.0192\n",
            "Test Accuracy: 0.9561\n"
          ]
        }
      ]
    },
    {
      "cell_type": "markdown",
      "source": [
        "8.) Write a Python program to load a dataset from a CSV file, apply Logistic Regression, and evaluate its accuracy."
      ],
      "metadata": {
        "id": "iTWmytc0ZrQm"
      }
    },
    {
      "cell_type": "code",
      "source": [
        "import pandas as pd\n",
        "from sklearn.model_selection import train_test_split\n",
        "from sklearn.linear_model import LogisticRegression\n",
        "from sklearn.metrics import accuracy_score\n",
        "\n",
        "df = pd.read_csv('breast-cancer.csv')\n",
        "X = df.drop('diagnosis', axis=1)\n",
        "y = df['diagnosis']\n",
        "\n",
        "X_train, X_test, y_train, y_test = train_test_split(X, y, test_size=0.2, random_state=42)\n",
        "\n",
        "model = LogisticRegression(max_iter=1000)\n",
        "model.fit(X_train, y_train)\n",
        "y_pred = model.predict(X_test)\n",
        "print(f\"Accuracy: {accuracy_score(y_test, y_pred):.4f}\")"
      ],
      "metadata": {
        "colab": {
          "base_uri": "https://localhost:8080/"
        },
        "id": "Re4oQVEMmrNI",
        "outputId": "be6457aa-1860-4963-8d75-4b955bddfd08"
      },
      "execution_count": 57,
      "outputs": [
        {
          "output_type": "stream",
          "name": "stdout",
          "text": [
            "Accuracy: 0.9561\n"
          ]
        }
      ]
    },
    {
      "cell_type": "markdown",
      "source": [
        "9.) Write a Python program to apply RandomizedSearchCV for tuning hyperparameters (C, penalty, solver) in Logistic Regression. Print the best parameters and accuracy."
      ],
      "metadata": {
        "id": "mKDwCfBbZrHO"
      }
    },
    {
      "cell_type": "code",
      "source": [
        "from sklearn.datasets import load_breast_cancer\n",
        "from sklearn.model_selection import train_test_split, RandomizedSearchCV\n",
        "from sklearn.linear_model import LogisticRegression\n",
        "from sklearn.metrics import accuracy_score\n",
        "from scipy.stats import loguniform\n",
        "\n",
        "X, y = load_breast_cancer(return_X_y=True)\n",
        "X_train, X_test, y_train, y_test = train_test_split(X, y, test_size=0.2, random_state=42)\n",
        "\n",
        "param_dist = {'C': loguniform(1e-4, 100), 'penalty': ['l1', 'l2']}\n",
        "model = LogisticRegression(solver='liblinear', max_iter=1000)\n",
        "search = RandomizedSearchCV(model, param_dist, n_iter=10, cv=3)\n",
        "search.fit(X_train, y_train)\n",
        "\n",
        "y_pred = search.predict(X_test)\n",
        "print(f\"Best Accuracy: {accuracy_score(y_test, y_pred):.4f}\")\n",
        "print(f\"Best Params: {search.best_params_}\")"
      ],
      "metadata": {
        "colab": {
          "base_uri": "https://localhost:8080/"
        },
        "id": "eCOe0waRmrhc",
        "outputId": "03d96096-d680-4a64-8a0c-0c1d35064cc0"
      },
      "execution_count": 58,
      "outputs": [
        {
          "output_type": "stream",
          "name": "stdout",
          "text": [
            "Best Accuracy: 0.9649\n",
            "Best Params: {'C': np.float64(15.985858401951246), 'penalty': 'l1'}\n"
          ]
        }
      ]
    },
    {
      "cell_type": "markdown",
      "source": [
        "10.) Write a Python program to implement One-vs-One (OvO) Multiclass Logistic Regression and print accuracy."
      ],
      "metadata": {
        "id": "kNUPnxE1Zq-G"
      }
    },
    {
      "cell_type": "code",
      "source": [
        "from sklearn.datasets import load_iris\n",
        "from sklearn.model_selection import train_test_split\n",
        "from sklearn.multiclass import OneVsOneClassifier\n",
        "from sklearn.linear_model import LogisticRegression\n",
        "from sklearn.metrics import accuracy_score\n",
        "\n",
        "X, y = load_iris(return_X_y=True)\n",
        "X_train, X_test, y_train, y_test = train_test_split(X, y, test_size=0.2, random_state=42)\n",
        "\n",
        "model = OneVsOneClassifier(LogisticRegression(max_iter=1000))\n",
        "model.fit(X_train, y_train)\n",
        "y_pred = model.predict(X_test)\n",
        "print(f\"OvO Accuracy: {accuracy_score(y_test, y_pred):.4f}\")"
      ],
      "metadata": {
        "colab": {
          "base_uri": "https://localhost:8080/"
        },
        "id": "I49HqEfKmr4n",
        "outputId": "aa97ebf4-b5f8-4ae4-ca8d-4679d4860f4e"
      },
      "execution_count": 59,
      "outputs": [
        {
          "output_type": "stream",
          "name": "stdout",
          "text": [
            "OvO Accuracy: 1.0000\n"
          ]
        }
      ]
    },
    {
      "cell_type": "markdown",
      "source": [
        "11.) Write a Python program to train a Logistic Regression model and visualize the confusion matrix for binary classification."
      ],
      "metadata": {
        "id": "AcV4bXU2Zq1P"
      }
    },
    {
      "cell_type": "code",
      "source": [
        "from sklearn.datasets import load_breast_cancer\n",
        "from sklearn.model_selection import train_test_split\n",
        "from sklearn.linear_model import LogisticRegression\n",
        "from sklearn.metrics import confusion_matrix, ConfusionMatrixDisplay\n",
        "import matplotlib.pyplot as plt\n",
        "\n",
        "X, y = load_breast_cancer(return_X_y=True)\n",
        "X_train, X_test, y_train, y_test = train_test_split(X, y, test_size=0.2, random_state=42)\n",
        "\n",
        "model = LogisticRegression(max_iter=1000)\n",
        "model.fit(X_train, y_train)\n",
        "y_pred = model.predict(X_test)\n",
        "\n",
        "cm = confusion_matrix(y_test, y_pred)\n",
        "disp = ConfusionMatrixDisplay(confusion_matrix=cm)\n",
        "disp.plot()\n",
        "plt.show()\n",
        "\n",
        "print(f\"Accuracy: {accuracy_score(y_test, y_pred):.4f}\")"
      ],
      "metadata": {
        "colab": {
          "base_uri": "https://localhost:8080/",
          "height": 473
        },
        "id": "rPQbHwIzmsKV",
        "outputId": "c81610ae-968e-4e3f-ee70-80663fd62c61"
      },
      "execution_count": 60,
      "outputs": [
        {
          "output_type": "display_data",
          "data": {
            "text/plain": [
              "<Figure size 640x480 with 2 Axes>"
            ],
            "image/png": "[encoded data removed]"
          },
          "metadata": {}
        },
        {
          "output_type": "stream",
          "name": "stdout",
          "text": [
            "Accuracy: 0.9561\n"
          ]
        }
      ]
    },
    {
      "cell_type": "markdown",
      "source": [
        "12.) Write a Python program to train a Logistic Regression model and evaluate its performance using Precision, Recall, and F1-Score."
      ],
      "metadata": {
        "id": "Zl11dqahZqso"
      }
    },
    {
      "cell_type": "code",
      "source": [
        "from sklearn.datasets import load_breast_cancer\n",
        "from sklearn.model_selection import train_test_split\n",
        "from sklearn.linear_model import LogisticRegression\n",
        "from sklearn.metrics import classification_report, accuracy_score\n",
        "\n",
        "X, y = load_breast_cancer(return_X_y=True)\n",
        "X_train, X_test, y_train, y_test = train_test_split(X, y, test_size=0.2, random_state=42)\n",
        "\n",
        "model = LogisticRegression(max_iter=1000)\n",
        "model.fit(X_train, y_train)\n",
        "y_pred = model.predict(X_test)\n",
        "\n",
        "print(classification_report(y_test, y_pred))\n",
        "print(f\"Accuracy: {accuracy_score(y_test, y_pred):.4f}\")"
      ],
      "metadata": {
        "colab": {
          "base_uri": "https://localhost:8080/"
        },
        "id": "Y8q2zPQtmspX",
        "outputId": "d3357463-c7e1-4998-f709-524eb78eade1"
      },
      "execution_count": 61,
      "outputs": [
        {
          "output_type": "stream",
          "name": "stdout",
          "text": [
            "              precision    recall  f1-score   support\n",
            "\n",
            "           0       0.97      0.91      0.94        43\n",
            "           1       0.95      0.99      0.97        71\n",
            "\n",
            "    accuracy                           0.96       114\n",
            "   macro avg       0.96      0.95      0.95       114\n",
            "weighted avg       0.96      0.96      0.96       114\n",
            "\n",
            "Accuracy: 0.9561\n"
          ]
        }
      ]
    },
    {
      "cell_type": "markdown",
      "source": [
        "13.) Write a Python program to train a Logistic Regression model on imbalanced data and apply class weights to improve model performance."
      ],
      "metadata": {
        "id": "C29KUtYQZqjS"
      }
    },
    {
      "cell_type": "code",
      "source": [
        "from sklearn.datasets import make_classification\n",
        "from sklearn.model_selection import train_test_split\n",
        "from sklearn.linear_model import LogisticRegression\n",
        "from sklearn.metrics import accuracy_score\n",
        "\n",
        "X, y = make_classification(n_samples=1000, weights=[0.9, 0.1], random_state=42)\n",
        "X_train, X_test, y_train, y_test = train_test_split(X, y, test_size=0.2, random_state=42)\n",
        "\n",
        "model = LogisticRegression(class_weight='balanced', max_iter=1000)\n",
        "model.fit(X_train, y_train)\n",
        "y_pred = model.predict(X_test)\n",
        "print(f\"Balanced Accuracy: {accuracy_score(y_test, y_pred):.4f}\")"
      ],
      "metadata": {
        "colab": {
          "base_uri": "https://localhost:8080/"
        },
        "id": "bRHvSDG6mtKp",
        "outputId": "007e1065-0158-4b1d-d19e-088ca8d2021e"
      },
      "execution_count": 62,
      "outputs": [
        {
          "output_type": "stream",
          "name": "stdout",
          "text": [
            "Balanced Accuracy: 0.8650\n"
          ]
        }
      ]
    },
    {
      "cell_type": "markdown",
      "source": [
        "14.) Write a Python program to train Logistic Regression on the Titanic dataset, handle missing values, and evaluate performance."
      ],
      "metadata": {
        "id": "4e5kKnSBZqaL"
      }
    },
    {
      "cell_type": "code",
      "source": [
        "import pandas as pd\n",
        "from sklearn.model_selection import train_test_split\n",
        "from sklearn.linear_model import LogisticRegression\n",
        "from sklearn.impute import SimpleImputer\n",
        "from sklearn.preprocessing import LabelEncoder\n",
        "from sklearn.metrics import accuracy_score\n",
        "\n",
        "df = pd.read_csv('Titanic.csv')\n",
        "X = df[['Pclass', 'Sex', 'Age', 'Fare']]\n",
        "y = df['Survived']\n",
        "\n",
        "X['Sex'] = LabelEncoder().fit_transform(X['Sex'])\n",
        "imputer = SimpleImputer(strategy='mean')\n",
        "X = imputer.fit_transform(X)\n",
        "\n",
        "X_train, X_test, y_train, y_test = train_test_split(X, y, test_size=0.2, random_state=42)\n",
        "\n",
        "model = LogisticRegression(max_iter=1000)\n",
        "model.fit(X_train, y_train)\n",
        "y_pred = model.predict(X_test)\n",
        "print(f\"Titanic Accuracy: {accuracy_score(y_test, y_pred):.4f}\")"
      ],
      "metadata": {
        "colab": {
          "base_uri": "https://localhost:8080/"
        },
        "id": "hPjhMJL-mthD",
        "outputId": "a28e6f09-135f-461f-cac5-733e7aeb95f4"
      },
      "execution_count": 63,
      "outputs": [
        {
          "output_type": "stream",
          "name": "stdout",
          "text": [
            "Titanic Accuracy: 0.7989\n"
          ]
        }
      ]
    },
    {
      "cell_type": "markdown",
      "source": [
        "15.) Write a Python program to apply feature scaling (Standardization) before training a Logistic Regression model. Evaluate its accuracy and compare results with and without scaling."
      ],
      "metadata": {
        "id": "YG6NY1K2ZqQi"
      }
    },
    {
      "cell_type": "code",
      "source": [
        "from sklearn.datasets import load_breast_cancer\n",
        "from sklearn.model_selection import train_test_split\n",
        "from sklearn.preprocessing import StandardScaler\n",
        "from sklearn.linear_model import LogisticRegression\n",
        "from sklearn.metrics import accuracy_score\n",
        "\n",
        "X, y = load_breast_cancer(return_X_y=True)\n",
        "X_train, X_test, y_train, y_test = train_test_split(X, y, test_size=0.2, random_state=42)\n",
        "\n",
        "scaler = StandardScaler()\n",
        "X_train_scaled = scaler.fit_transform(X_train)\n",
        "X_test_scaled = scaler.transform(X_test)\n",
        "\n",
        "model = LogisticRegression(max_iter=1000)\n",
        "model.fit(X_train_scaled, y_train)\n",
        "y_pred = model.predict(X_test_scaled)\n",
        "print(f\"Scaled Accuracy: {accuracy_score(y_test, y_pred):.4f}\")"
      ],
      "metadata": {
        "colab": {
          "base_uri": "https://localhost:8080/"
        },
        "id": "yWoBpwyJmt4g",
        "outputId": "6076cec7-9b2f-44dc-af57-bab44f7ecb4e"
      },
      "execution_count": 64,
      "outputs": [
        {
          "output_type": "stream",
          "name": "stdout",
          "text": [
            "Scaled Accuracy: 0.9737\n"
          ]
        }
      ]
    },
    {
      "cell_type": "markdown",
      "source": [
        "16.) Write a Python program to train Logistic Regression and evaluate its performance using ROC-AUC score."
      ],
      "metadata": {
        "id": "RzN9tZQAZqHZ"
      }
    },
    {
      "cell_type": "code",
      "source": [
        "from sklearn.datasets import load_breast_cancer\n",
        "from sklearn.model_selection import train_test_split\n",
        "from sklearn.linear_model import LogisticRegression\n",
        "from sklearn.metrics import roc_auc_score\n",
        "\n",
        "data = load_breast_cancer()\n",
        "X = data.data\n",
        "y = data.target\n",
        "\n",
        "X_train, X_test, y_train, y_test = train_test_split(X, y, test_size=0.2, random_state=42)\n",
        "log_reg = LogisticRegression(max_iter=1000)\n",
        "log_reg.fit(X_train, y_train)\n",
        "\n",
        "y_scores = log_reg.predict_proba(X_test)[:, 1]\n",
        "roc_auc = roc_auc_score(y_test, y_scores)\n",
        "print(f\"ROC-AUC Score: {roc_auc:.4f}\")"
      ],
      "metadata": {
        "colab": {
          "base_uri": "https://localhost:8080/"
        },
        "id": "gNZoccDumuMB",
        "outputId": "8e6e2bf9-84dc-42fa-88cc-a0738237d0f4"
      },
      "execution_count": 38,
      "outputs": [
        {
          "output_type": "stream",
          "name": "stdout",
          "text": [
            "ROC-AUC Score: 0.9974\n"
          ]
        }
      ]
    },
    {
      "cell_type": "markdown",
      "source": [
        "17.) Write a Python program to train Logistic Regression using a custom learning rate (C=0.5) and evaluate accuracy."
      ],
      "metadata": {
        "id": "7rrvvzDgZp_V"
      }
    },
    {
      "cell_type": "code",
      "source": [
        "from sklearn.datasets import load_breast_cancer\n",
        "from sklearn.model_selection import train_test_split\n",
        "from sklearn.linear_model import SGDClassifier\n",
        "from sklearn.metrics import accuracy_score\n",
        "\n",
        "X, y = load_breast_cancer(return_X_y=True)\n",
        "X_train, X_test, y_train, y_test = train_test_split(X, y, test_size=0.2, random_state=42)\n",
        "\n",
        "model = SGDClassifier(loss='log_loss', learning_rate='constant', eta0=0.5, max_iter=1000)\n",
        "model.fit(X_train, y_train)\n",
        "y_pred = model.predict(X_test)\n",
        "print(f\"Custom LR Accuracy: {accuracy_score(y_test, y_pred):.4f}\")"
      ],
      "metadata": {
        "colab": {
          "base_uri": "https://localhost:8080/"
        },
        "id": "5EywHAz6mu6I",
        "outputId": "29a6fc6b-a9ba-45b6-e80c-50b39da60379"
      },
      "execution_count": 65,
      "outputs": [
        {
          "output_type": "stream",
          "name": "stdout",
          "text": [
            "Custom LR Accuracy: 0.8421\n"
          ]
        }
      ]
    },
    {
      "cell_type": "markdown",
      "source": [
        "18.) Write a Python program to train Logistic Regression and identify important features based on model coefficients."
      ],
      "metadata": {
        "id": "qBulsjlVZp2O"
      }
    },
    {
      "cell_type": "code",
      "source": [
        "from sklearn.datasets import load_breast_cancer\n",
        "from sklearn.model_selection import train_test_split\n",
        "from sklearn.linear_model import LogisticRegression\n",
        "from sklearn.metrics import accuracy_score\n",
        "import matplotlib.pyplot as plt\n",
        "\n",
        "data = load_breast_cancer()\n",
        "X, y = data.data, data.target\n",
        "X_train, X_test, y_train, y_test = train_test_split(X, y, test_size=0.2, random_state=42)\n",
        "\n",
        "model = LogisticRegression(max_iter=1000)\n",
        "model.fit(X_train, y_train)\n",
        "y_pred = model.predict(X_test)\n",
        "\n",
        "plt.figure(figsize=(10, 6))\n",
        "plt.barh(data.feature_names, model.coef_[0])\n",
        "plt.title(\"Feature Importance (Coefficients)\")\n",
        "plt.show()\n",
        "\n",
        "print(f\"Accuracy: {accuracy_score(y_test, y_pred):.4f}\")"
      ],
      "metadata": {
        "colab": {
          "base_uri": "https://localhost:8080/",
          "height": 563
        },
        "id": "5zzB2YqimvVu",
        "outputId": "9c61a476-e909-4320-a7f0-310dc62d4f58"
      },
      "execution_count": 66,
      "outputs": [
        {
          "output_type": "display_data",
          "data": {
            "text/plain": [
              "<Figure size 1000x600 with 1 Axes>"
            ],
            "image/png": "[encoded data removed]"
          },
          "metadata": {}
        },
        {
          "output_type": "stream",
          "name": "stdout",
          "text": [
            "Accuracy: 0.9561\n"
          ]
        }
      ]
    },
    {
      "cell_type": "markdown",
      "source": [
        "19.) Write a Python program to train Logistic Regression and evaluate its performance using Cohen’s Kappa Score."
      ],
      "metadata": {
        "id": "NZEdBEVHZps2"
      }
    },
    {
      "cell_type": "code",
      "source": [
        "from sklearn.datasets import load_breast_cancer\n",
        "from sklearn.model_selection import train_test_split\n",
        "from sklearn.linear_model import LogisticRegression\n",
        "from sklearn.metrics import cohen_kappa_score\n",
        "\n",
        "data = load_breast_cancer()\n",
        "X = data.data\n",
        "y = data.target\n",
        "\n",
        "X_train, X_test, y_train, y_test = train_test_split(X, y, test_size=0.2, random_state=42)\n",
        "log_reg = LogisticRegression(max_iter=1000)\n",
        "log_reg.fit(X_train, y_train)\n",
        "\n",
        "y_pred = log_reg.predict(X_test)\n",
        "kappa = cohen_kappa_score(y_test, y_pred)\n",
        "print(f\"Cohen's Kappa: {kappa:.4f}\")"
      ],
      "metadata": {
        "colab": {
          "base_uri": "https://localhost:8080/"
        },
        "id": "uMwx3cq6mvuO",
        "outputId": "39592253-b294-4fbe-81de-aea3ab983db5"
      },
      "execution_count": 41,
      "outputs": [
        {
          "output_type": "stream",
          "name": "stdout",
          "text": [
            "Cohen's Kappa: 0.9053\n"
          ]
        }
      ]
    },
    {
      "cell_type": "markdown",
      "source": [
        "20.) Write a Python program to train Logistic Regression and visualize the Precision-Recall Curve for binary classification."
      ],
      "metadata": {
        "id": "ird2fysxZpje"
      }
    },
    {
      "cell_type": "code",
      "source": [
        "from sklearn.datasets import load_breast_cancer\n",
        "from sklearn.model_selection import train_test_split\n",
        "from sklearn.linear_model import LogisticRegression\n",
        "from sklearn.metrics import PrecisionRecallDisplay\n",
        "import matplotlib.pyplot as plt\n",
        "\n",
        "data = load_breast_cancer()\n",
        "X = data.data\n",
        "y = data.target\n",
        "\n",
        "X_train, X_test, y_train, y_test = train_test_split(X, y, test_size=0.2, random_state=42)\n",
        "log_reg = LogisticRegression(max_iter=1000)\n",
        "log_reg.fit(X_train, y_train)\n",
        "\n",
        "PrecisionRecallDisplay.from_estimator(log_reg, X_test, y_test)\n",
        "plt.show()"
      ],
      "metadata": {
        "colab": {
          "base_uri": "https://localhost:8080/",
          "height": 451
        },
        "id": "xJbaJR1hmwF3",
        "outputId": "f9b2a5cc-3e5d-4e59-a3ce-ddc33139132d"
      },
      "execution_count": 42,
      "outputs": [
        {
          "output_type": "display_data",
          "data": {
            "text/plain": [
              "<Figure size 640x480 with 1 Axes>"
            ],
            "image/png": "[encoded data removed]"
          },
          "metadata": {}
        }
      ]
    },
    {
      "cell_type": "markdown",
      "source": [
        "21.) Write a Python program to train Logistic Regression with different solvers (liblinear, saga, lbfgs) and compare their accuracy."
      ],
      "metadata": {
        "id": "VinroOCGZpZl"
      }
    },
    {
      "cell_type": "code",
      "source": [
        "from sklearn.datasets import load_breast_cancer\n",
        "from sklearn.model_selection import train_test_split\n",
        "from sklearn.linear_model import LogisticRegression\n",
        "from sklearn.metrics import accuracy_score\n",
        "\n",
        "X, y = load_breast_cancer(return_X_y=True)\n",
        "X_train, X_test, y_train, y_test = train_test_split(X, y, test_size=0.2, random_state=42)\n",
        "\n",
        "solvers = ['lbfgs', 'liblinear', 'saga']\n",
        "for solver in solvers:\n",
        "    model = LogisticRegression(solver=solver, max_iter=1000)\n",
        "    model.fit(X_train, y_train)\n",
        "    y_pred = model.predict(X_test)\n",
        "    print(f\"{solver} Accuracy: {accuracy_score(y_test, y_pred):.4f}\")"
      ],
      "metadata": {
        "colab": {
          "base_uri": "https://localhost:8080/"
        },
        "id": "GKcpDjYbmwe6",
        "outputId": "25462d5d-fc56-4f39-b3f2-396533c160c6"
      },
      "execution_count": 67,
      "outputs": [
        {
          "output_type": "stream",
          "name": "stdout",
          "text": [
            "lbfgs Accuracy: 0.9561\n",
            "liblinear Accuracy: 0.9561\n",
            "saga Accuracy: 0.9649\n"
          ]
        }
      ]
    },
    {
      "cell_type": "markdown",
      "source": [
        "22.) Write a Python program to train Logistic Regression and evaluate its performance using Matthews Correlation Coefficient (MCC)."
      ],
      "metadata": {
        "id": "GTL8QyHUZpPY"
      }
    },
    {
      "cell_type": "code",
      "source": [
        "from sklearn.datasets import load_breast_cancer\n",
        "from sklearn.model_selection import train_test_split\n",
        "from sklearn.linear_model import LogisticRegression\n",
        "from sklearn.metrics import matthews_corrcoef, accuracy_score\n",
        "\n",
        "X, y = load_breast_cancer(return_X_y=True)\n",
        "X_train, X_test, y_train, y_test = train_test_split(X, y, test_size=0.2, random_state=42)\n",
        "\n",
        "model = LogisticRegression(max_iter=1000)\n",
        "model.fit(X_train, y_train)\n",
        "y_pred = model.predict(X_test)\n",
        "\n",
        "print(f\"Accuracy: {accuracy_score(y_test, y_pred):.4f}\")\n",
        "print(f\"MCC: {matthews_corrcoef(y_test, y_pred):.4f}\")"
      ],
      "metadata": {
        "colab": {
          "base_uri": "https://localhost:8080/"
        },
        "id": "kyCjxG_jmwz_",
        "outputId": "093c6f02-259a-4d80-e04e-a7abe4ea9757"
      },
      "execution_count": 68,
      "outputs": [
        {
          "output_type": "stream",
          "name": "stdout",
          "text": [
            "Accuracy: 0.9561\n",
            "MCC: 0.9068\n"
          ]
        }
      ]
    },
    {
      "cell_type": "markdown",
      "source": [
        "23.) Write a Python program to train Logistic Regression on both raw and standardized data. Compare their accuracy to see the impact of feature scaling."
      ],
      "metadata": {
        "id": "g2GKbFbqZpFA"
      }
    },
    {
      "cell_type": "code",
      "source": [
        "from sklearn.datasets import load_breast_cancer\n",
        "from sklearn.model_selection import train_test_split\n",
        "from sklearn.preprocessing import StandardScaler\n",
        "from sklearn.linear_model import LogisticRegression\n",
        "from sklearn.metrics import accuracy_score\n",
        "\n",
        "X, y = load_breast_cancer(return_X_y=True)\n",
        "X_train, X_test, y_train, y_test = train_test_split(X, y, test_size=0.2, random_state=42)\n",
        "\n",
        "# Without scaling\n",
        "model = LogisticRegression(max_iter=1000)\n",
        "model.fit(X_train, y_train)\n",
        "y_pred = model.predict(X_test)\n",
        "print(f\"Raw Accuracy: {accuracy_score(y_test, y_pred):.4f}\")\n",
        "\n",
        "# With scaling\n",
        "scaler = StandardScaler()\n",
        "X_train_scaled = scaler.fit_transform(X_train)\n",
        "X_test_scaled = scaler.transform(X_test)\n",
        "model = LogisticRegression(max_iter=1000)\n",
        "model.fit(X_train_scaled, y_train)\n",
        "y_pred = model.predict(X_test_scaled)\n",
        "print(f\"Scaled Accuracy: {accuracy_score(y_test, y_pred):.4f}\")"
      ],
      "metadata": {
        "colab": {
          "base_uri": "https://localhost:8080/"
        },
        "id": "Kl6hD0VXmxf_",
        "outputId": "4bf3c34a-ac66-4ead-e609-7818f9a8831c"
      },
      "execution_count": 69,
      "outputs": [
        {
          "output_type": "stream",
          "name": "stdout",
          "text": [
            "Raw Accuracy: 0.9561\n",
            "Scaled Accuracy: 0.9737\n"
          ]
        }
      ]
    },
    {
      "cell_type": "markdown",
      "source": [
        "24.) Write a Python program to train Logistic Regression and find the optimal C (regularization strength) using cross-validation."
      ],
      "metadata": {
        "id": "Mg54uFSPZo8K"
      }
    },
    {
      "cell_type": "code",
      "source": [
        "from sklearn.datasets import load_breast_cancer\n",
        "from sklearn.model_selection import train_test_split, cross_val_score\n",
        "from sklearn.linear_model import LogisticRegression\n",
        "from sklearn.metrics import accuracy_score\n",
        "\n",
        "X, y = load_breast_cancer(return_X_y=True)\n",
        "X_train, X_test, y_train, y_test = train_test_split(X, y, test_size=0.2, random_state=42)\n",
        "\n",
        "best_score = 0\n",
        "best_C = None\n",
        "for C in [0.001, 0.01, 0.1, 1, 10, 100]:\n",
        "    model = LogisticRegression(C=C, max_iter=1000)\n",
        "    scores = cross_val_score(model, X_train, y_train, cv=5, verbose=3)\n",
        "    mean_score = scores.mean()\n",
        "    if mean_score > best_score:\n",
        "        best_score = mean_score\n",
        "        best_C = C\n",
        "\n",
        "model = LogisticRegression(C=best_C, max_iter=1000)\n",
        "model.fit(X_train, y_train)\n",
        "y_pred = model.predict(X_test)\n",
        "print(f\"Best C: {best_C}, Test Accuracy: {accuracy_score(y_test, y_pred):.4f}\")"
      ],
      "metadata": {
        "colab": {
          "base_uri": "https://localhost:8080/"
        },
        "id": "AMvAioESmx5A",
        "outputId": "6107919a-68ba-40fa-8f17-cf30c155f3ac"
      },
      "execution_count": 70,
      "outputs": [
        {
          "output_type": "stream",
          "name": "stdout",
          "text": [
            "[CV] END ................................ score: (test=0.989) total time=   0.1s\n",
            "[CV] END ................................ score: (test=0.879) total time=   0.1s\n",
            "[CV] END ................................ score: (test=0.945) total time=   0.1s\n",
            "[CV] END ................................ score: (test=0.912) total time=   0.0s\n",
            "[CV] END ................................ score: (test=0.923) total time=   0.1s\n",
            "[CV] END ................................ score: (test=0.945) total time=   0.2s\n",
            "[CV] END ................................ score: (test=0.934) total time=   0.1s\n",
            "[CV] END ................................ score: (test=0.978) total time=   0.1s\n",
            "[CV] END ................................ score: (test=0.934) total time=   0.1s\n",
            "[CV] END ................................ score: (test=0.912) total time=   0.1s\n",
            "[CV] END ................................ score: (test=0.945) total time=   0.4s\n",
            "[CV] END ................................ score: (test=0.956) total time=   0.4s\n",
            "[CV] END ................................ score: (test=0.978) total time=   0.4s\n",
            "[CV] END ................................ score: (test=0.967) total time=   0.3s\n",
            "[CV] END ................................ score: (test=0.912) total time=   0.3s\n",
            "[CV] END ................................ score: (test=0.967) total time=   0.3s\n",
            "[CV] END ................................ score: (test=0.934) total time=   0.3s\n",
            "[CV] END ................................ score: (test=0.967) total time=   0.3s\n",
            "[CV] END ................................ score: (test=0.967) total time=   0.3s\n",
            "[CV] END ................................ score: (test=0.923) total time=   0.3s\n",
            "[CV] END ................................ score: (test=0.956) total time=   0.3s\n",
            "[CV] END ................................ score: (test=0.956) total time=   0.3s\n",
            "[CV] END ................................ score: (test=0.989) total time=   0.3s\n",
            "[CV] END ................................ score: (test=0.978) total time=   0.3s\n",
            "[CV] END ................................ score: (test=0.934) total time=   0.3s\n",
            "[CV] END ................................ score: (test=0.956) total time=   0.3s\n",
            "[CV] END ................................ score: (test=0.956) total time=   0.3s\n",
            "[CV] END ................................ score: (test=0.989) total time=   0.3s\n",
            "[CV] END ................................ score: (test=0.978) total time=   0.4s\n",
            "[CV] END ................................ score: (test=0.934) total time=   0.5s\n",
            "Best C: 10, Test Accuracy: 0.9561\n"
          ]
        }
      ]
    },
    {
      "cell_type": "markdown",
      "source": [
        "25.) Write a Python program to train Logistic Regression, save the trained model using joblib, and load it again to make predictions."
      ],
      "metadata": {
        "id": "khkwKTqiZoZO"
      }
    },
    {
      "cell_type": "code",
      "source": [
        "from sklearn.datasets import load_breast_cancer\n",
        "from sklearn.model_selection import train_test_split\n",
        "from sklearn.linear_model import LogisticRegression\n",
        "from sklearn.metrics import accuracy_score\n",
        "import joblib\n",
        "\n",
        "X, y = load_breast_cancer(return_X_y=True)\n",
        "X_train, X_test, y_train, y_test = train_test_split(X, y, test_size=0.2, random_state=42)\n",
        "\n",
        "model = LogisticRegression(max_iter=1000)\n",
        "model.fit(X_train, y_train)\n",
        "y_pred = model.predict(X_test)\n",
        "print(f\"Original Accuracy: {accuracy_score(y_test, y_pred):.4f}\")\n",
        "\n",
        "joblib.dump(model, 'model.joblib')\n",
        "loaded_model = joblib.load('model.joblib')\n",
        "y_pred = loaded_model.predict(X_test)\n",
        "print(f\"Loaded Model Accuracy: {accuracy_score(y_test, y_pred):.4f}\")"
      ],
      "metadata": {
        "colab": {
          "base_uri": "https://localhost:8080/"
        },
        "id": "PkesQGqFmyRe",
        "outputId": "414556ff-690e-41bc-d72c-f61b3624c29d"
      },
      "execution_count": 71,
      "outputs": [
        {
          "output_type": "stream",
          "name": "stdout",
          "text": [
            "Original Accuracy: 0.9561\n",
            "Loaded Model Accuracy: 0.9561\n"
          ]
        }
      ]
    }
  ]
}