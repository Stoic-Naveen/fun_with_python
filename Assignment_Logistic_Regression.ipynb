{
  "nbformat": 4,
  "nbformat_minor": 0,
  "metadata": {
    "colab": {
      "provenance": [],
      "authorship_tag": "ABX9TyPG8SxbsnhSqolw7xnvLyqC"
    },
    "kernelspec": {
      "name": "python3",
      "display_name": "Python 3"
    },
    "language_info": {
      "name": "python"
    }
  },
  "cells": [
    {
      "cell_type": "markdown",
      "source": [
        "#Theoretical questions"
      ],
      "metadata": {
        "id": "PNLft3ppKk9L"
      }
    },
    {
      "cell_type": "markdown",
      "source": [
        "1.) What is Logistic Regression, and how does it differ from Linear Regression?\n",
        "\n",
        "- Logistic Regression is a statistical method used for binary classification problems. It predicts the probability of a data point belonging to a particular category.\n",
        "\n",
        "- Linear Regression predicts continuous values, while Logistic Regression predicts probabilities for categorical outcomes.\n",
        "\n",
        "\n",
        "\n",
        "\n",
        "2.) What is the mathematical equation of Logistic Regression?\n",
        "\n",
        "- The equation for Logistic Regression is :\n",
        "\n",
        "- p = 1 / (1 + e^(-(β₀ + β₁x₁ + β₂x₂ + ... + βₙxₙ)))\n",
        "\n",
        "- Where:\n",
        "\n",
        "- p is the probability of the outcome\n",
        "- e is the base of the natural logarithm\n",
        "- β₀, β₁, β₂, ..., βₙ are the coefficients\n",
        "- x₁, x₂, ..., xₙ are the independent variables.\n",
        "\n",
        "\n",
        "\n",
        "\n",
        "3.) Why do we use the Sigmoid function in Logistic Regression?\n",
        "\n",
        "- We use the Sigmoid function because it maps any real value into a probability between 0 and 1, which is essential for binary classification.\n",
        "\n",
        "\n",
        "\n",
        "\n",
        "4.) What is the cost function of Logistic Regression?\n",
        "\n",
        "- The cost function for Logistic Regression is typically the Cross-Entropy Loss (also called Log Loss) :\n",
        "\n",
        "- J(θ) = -1/m Σ [yᵢ log(hθ(xᵢ)) + (1 - yᵢ) log(1 - hθ(xᵢ))]\n",
        "\n",
        "Where:\n",
        "\n",
        "- J(θ) is the cost function\n",
        "- m is the number of training examples\n",
        "- yᵢ is the actual label (0 or 1)\n",
        "- hθ(xᵢ) is the predicted probability\n",
        "\n",
        "\n",
        "\n",
        "\n",
        "5.) What is Regularization in Logistic Regression? Why is it needed?\n",
        "\n",
        "- Regularization is a technique used to prevent overfitting in Logistic Regression.\n",
        "\n",
        "- It adds a penalty term to the cost function to discourage large coefficients.  This helps the model generalize better to unseen data.\n",
        "\n",
        "\n",
        "\n",
        "\n",
        "\n",
        "6.) Explain the difference between Lasso, Ridge, and Elastic Net regression.\n",
        "\n",
        "- Lasso (L1) Regression : Adds the absolute values of the coefficients to the penalty term. It can shrink some coefficients to exactly zero, performing feature selection.\n",
        "- Ridge (L2) Regression : Adds the squared values of the coefficients to the penalty term. It shrinks coefficients towards zero but rarely to exact zero.\n",
        "- Elastic Net Regression : A combination of Lasso and Ridge, adding both L1 and L2 penalties. It provides a balance between feature selection and coefficient shrinkage.\n",
        "\n",
        "\n",
        "\n",
        "\n",
        "7.) When should we use Elastic Net instead of Lasso or Ridge?\n",
        "\n",
        "- Elastic Net is preferred when dealing with datasets with a large number of features that are correlated. It combines the benefits of both Lasso and Ridge, providing feature selection and handling multicollinearity.\n",
        "\n",
        "\n",
        "\n",
        "\n",
        "8.) What is the impact of the regularization parameter (λ) in Logistic Regression?\n",
        "\n",
        "- The regularization parameter (λ) controls the strength of the regularization.\n",
        "- A larger λ increases the regularization strength, leading to simpler models and potentially preventing overfitting.\n",
        "- A smaller λ reduces the regularization strength, allowing the model to fit the training data more closely.\n",
        "\n",
        "\n",
        "\n",
        "\n",
        "\n",
        "9.) What are the key assumptions of Logistic Regression?\n",
        "\n",
        "- Key assumptions include :\n",
        "- Binary or ordinal dependent variable.\n",
        "- Independence of observations.\n",
        "- Linearity between the independent variables and the log-odds of the outcome.\n",
        "- Sufficiently large sample size.\n",
        "- Multicollinearity should be minimal.\n",
        "\n",
        "\n",
        "\n",
        "\n",
        "10.) What are some alternatives to Logistic Regression for classification tasks?\n",
        "\n",
        "- Alternatives include :\n",
        "- Support Vector Machines (SVM)\n",
        "- Decision Trees\n",
        "- Random Forest\n",
        "- Gradient Boosting Machines (e.g., XGBoost, LightGBM)\n",
        "- Neural Networks\n",
        "\n",
        "\n",
        "\n",
        "\n",
        "11.) What are Classification Evaluation Metrics?\n",
        "\n",
        "- Classification evaluation metrics are used to assess the performance of a classification model. Common metrics include :\n",
        "\n",
        "- Accuracy\n",
        "- Precision\n",
        "- Recall\n",
        "- F1-score\n",
        "- ROC-AUC\n",
        "- Confusion Matrix\n",
        "\n",
        "\n",
        "\n",
        "\n",
        "\n",
        "12.) How does class imbalance affect Logistic Regression?\n",
        "\n",
        "- Class imbalance, where one class has significantly more samples than the other, can bias Logistic Regression.  It can lead to a model that performs well on the majority class but poorly on the minority class.\n",
        "\n",
        "\n",
        "\n",
        "\n",
        "13.) What is Hyperparameter Tuning in Logistic Regression?\n",
        "\n",
        "- Hyperparameter tuning involves selecting the best values for the model's hyperparameters (e.g., regularization strength, solver) to optimize its performance.  Techniques like Grid Search and Randomized Search are used for this purpose.\n",
        "\n",
        "\n",
        "\n",
        "\n",
        "\n",
        "14.) What are different solvers in Logistic Regression? Which one should be used?\n",
        "\n",
        "- Solvers are algorithms used to optimize the cost function in Logistic Regression.  Different solvers include:\n",
        "- 'liblinear' : Suitable for small datasets.\n",
        "- 'lbfgs' : A good default choice for many cases.\n",
        "- 'newton-cg' : Another good option for small to medium-sized datasets.\n",
        "- 'sag' and 'saga' : Recommended for large datasets.\n",
        "\n",
        "- The choice of solver depends on the dataset size, the penalty used, and other factors.\n",
        "\n",
        "\n",
        "\n",
        "\n",
        "\n",
        "15.) How is Logistic Regression extended for multiclass classification?\n",
        "\n",
        "- Logistic Regression can be extended for multiclass classification using techniques like :\n",
        "- One-vs-Rest (OvR) : Training a binary classifier for each class against all others.\n",
        "- Softmax Regression : Generalizing the Logistic Regression equation to handle multiple classes directly.\n",
        "- One-vs-One (OvO) : Training a binary classifier for every pair of classes.\n",
        "\n",
        "\n",
        "\n",
        "\n",
        "16.) What are the advantages and disadvantages of Logistic Regression?\n",
        "\n",
        "- Advantages :\n",
        "- Simple and easy to implement.\n",
        "- Efficient to train.  \n",
        "- Provides interpretable probabilities.\n",
        "- Works well for linearly separable data.\n",
        "- Disadvantages :\n",
        "- Assumes linearity between independent variables and log-odds.\n",
        "- Can be sensitive to multicollinearity.\n",
        "- May not perform well with complex non-linear relationships.\n",
        "\n",
        "\n",
        "\n",
        "\n",
        "17.) What are some use cases of Logistic Regression?\n",
        "\n",
        "- Use cases include :\n",
        "- Medical diagnosis (e.g., disease prediction)\n",
        "- Spam detection\n",
        "- Customer churn prediction\n",
        "- Credit risk assessment\n",
        "\n",
        "\n",
        "\n",
        "\n",
        "\n",
        "18.) What is the difference between Softmax Regression and Logistic Regression?\n",
        "\n",
        "- Logistic Regression is used for binary classification, while Softmax Regression is used for multiclass classification. Softmax generalizes the Sigmoid function to multiple classes.\n",
        "\n",
        "\n",
        "\n",
        "\n",
        "\n",
        "19.) How do we choose between One-vs-Rest (OvR) and Softmax for multiclass classification?\n",
        "\n",
        "- OvR is simpler to implement but can suffer from imbalances if the classes are not well-separated. Softmax is more suitable when the classes are mutually exclusive.\n",
        "\n",
        "\n",
        "\n",
        "\n",
        "\n",
        "\n",
        "20.) How do we interpret coefficients in Logistic Regression?\n",
        "\n",
        "- Coefficients in Logistic Regression represent the change in the log-odds of the outcome variable for a one-unit change in the predictor variable, holding other variables constant.\n",
        "- A positive coefficient indicates an increased likelihood of the outcome, while a negative coefficient indicates a decreased likelihood.\n"
      ],
      "metadata": {
        "id": "Zcb9Wn8FKqUs"
      }
    },
    {
      "cell_type": "markdown",
      "source": [
        "#Practical Questions"
      ],
      "metadata": {
        "id": "dq_jBZKqZNG4"
      }
    },
    {
      "cell_type": "markdown",
      "source": [
        "1.) Write a Python program that loads a dataset, splits it into training and testing sets, applies Logistic Regression, and prints the model accuracy."
      ],
      "metadata": {
        "id": "dfoEhXpXZSOP"
      }
    },
    {
      "cell_type": "code",
      "source": [
        "import pandas as pd\n",
        "from sklearn.model_selection import train_test_split\n",
        "from sklearn.linear_model import LogisticRegression\n",
        "from sklearn.metrics import accuracy_score\n",
        "from sklearn.datasets import load_iris\n",
        "\n",
        "data=load_iris()\n",
        "df=pd.DataFrame(data.data,columns=data.feature_names)\n",
        "df['target']=data.target\n",
        "\n",
        "# Prepare the data\n",
        "X = df.drop('target', axis=1)\n",
        "y = df['target']\n",
        "\n",
        "# Split the dataset into training and testing sets\n",
        "X_train, X_test, y_train, y_test = train_test_split(X, y, test_size=0.2, random_state=42)\n",
        "\n",
        "# Apply Logistic Regression\n",
        "model = LogisticRegression()\n",
        "model.fit(X_train, y_train)\n",
        "\n",
        "# Make predictions\n",
        "y_pred = model.predict(X_test)\n",
        "\n",
        "# Print the model accuracy\n",
        "accuracy = accuracy_score(y_test, y_pred)\n",
        "print(\"Model Accuracy:\", accuracy)"
      ],
      "metadata": {
        "colab": {
          "base_uri": "https://localhost:8080/"
        },
        "id": "oQqeuowmmoL7",
        "outputId": "90e35be3-2101-44a4-cd4f-6455240b9b02"
      },
      "execution_count": 6,
      "outputs": [
        {
          "output_type": "stream",
          "name": "stdout",
          "text": [
            "Model Accuracy: 1.0\n"
          ]
        }
      ]
    },
    {
      "cell_type": "markdown",
      "source": [
        "2.) Write a Python program to apply L1 regularization (Lasso) on a dataset using LogisticRegression(penalty='l1') and print the model accuracy."
      ],
      "metadata": {
        "id": "g16VmcfRZnhN"
      }
    },
    {
      "cell_type": "code",
      "source": [
        "import pandas as pd\n",
        "from sklearn.model_selection import train_test_split\n",
        "from sklearn.linear_model import LogisticRegression\n",
        "from sklearn.metrics import accuracy_score\n",
        "from sklearn.datasets import load_iris\n",
        "\n",
        "data=load_iris()\n",
        "df=pd.DataFrame(data.data,columns=data.feature_names)\n",
        "df['target']=data.target\n",
        "\n",
        "# Prepare the data\n",
        "X = df.drop('target', axis=1)\n",
        "y = df['target']\n",
        "\n",
        "# Split the dataset\n",
        "X_train, X_test, y_train, y_test = train_test_split(X, y, test_size=0.2, random_state=42)\n",
        "\n",
        "# Apply Logistic Regression with L1 regularization (Lasso)\n",
        "model = LogisticRegression(penalty='l1', solver='liblinear')  # Use 'liblinear' solver for L1\n",
        "model.fit(X_train, y_train)\n",
        "\n",
        "# Make predictions\n",
        "y_pred = model.predict(X_test)\n",
        "\n",
        "# Print the model accuracy\n",
        "accuracy = accuracy_score(y_test, y_pred)\n",
        "print(\"Model Accuracy:\", accuracy)"
      ],
      "metadata": {
        "colab": {
          "base_uri": "https://localhost:8080/"
        },
        "id": "_1X4hOUjmov2",
        "outputId": "abcf8bec-784d-42be-fa7d-fdad23c1bb51"
      },
      "execution_count": 7,
      "outputs": [
        {
          "output_type": "stream",
          "name": "stdout",
          "text": [
            "Model Accuracy: 1.0\n"
          ]
        }
      ]
    },
    {
      "cell_type": "markdown",
      "source": [
        "3.) Write a Python program to train Logistic Regression with L2 regularization (Ridge) using LogisticRegression(penalty='l2'). Print model accuracy and coefficients."
      ],
      "metadata": {
        "id": "iYzzuoKTZr8W"
      }
    },
    {
      "cell_type": "code",
      "source": [
        "import pandas as pd\n",
        "from sklearn.model_selection import train_test_split\n",
        "from sklearn.linear_model import LogisticRegression\n",
        "from sklearn.metrics import accuracy_score\n",
        "from sklearn.datasets import load_iris\n",
        "\n",
        "data=load_iris()\n",
        "df=pd.DataFrame(data.data,columns=data.feature_names)\n",
        "df['target']=data.target\n",
        "\n",
        "# Prepare the data\n",
        "X = df.drop('target', axis=1)\n",
        "y = df['target']\n",
        "\n",
        "# Split the dataset\n",
        "X_train, X_test, y_train, y_test = train_test_split(X, y, test_size=0.2, random_state=42)\n",
        "\n",
        "# Train Logistic Regression with L2 regularization (Ridge)\n",
        "model = LogisticRegression(penalty='l2')\n",
        "model.fit(X_train, y_train)\n",
        "\n",
        "# Make predictions\n",
        "y_pred = model.predict(X_test)\n",
        "\n",
        "# Print model accuracy\n",
        "accuracy = accuracy_score(y_test, y_pred)\n",
        "print(\"Model Accuracy:\", accuracy)\n",
        "\n",
        "# Print coefficients\n",
        "print(\"Coefficients:\", model.coef_)"
      ],
      "metadata": {
        "colab": {
          "base_uri": "https://localhost:8080/"
        },
        "id": "7VSWhZ6dmpFc",
        "outputId": "c0dec504-8e4f-4d0e-f9de-a48caefbd054"
      },
      "execution_count": 8,
      "outputs": [
        {
          "output_type": "stream",
          "name": "stdout",
          "text": [
            "Model Accuracy: 1.0\n",
            "Coefficients: [[-0.39340204  0.96258576 -2.37510761 -0.99874603]\n",
            " [ 0.50840364 -0.25486503 -0.21301366 -0.77575487]\n",
            " [-0.1150016  -0.70772072  2.58812127  1.77450091]]\n"
          ]
        }
      ]
    },
    {
      "cell_type": "markdown",
      "source": [
        "4.) Write a Python program to train Logistic Regression with Elastic Net Regularization (penalty='elasticnet')."
      ],
      "metadata": {
        "id": "rWfH4fqLZryL"
      }
    },
    {
      "cell_type": "code",
      "source": [
        "import pandas as pd\n",
        "from sklearn.model_selection import train_test_split\n",
        "from sklearn.linear_model import LogisticRegression\n",
        "from sklearn.metrics import accuracy_score\n",
        "from sklearn.datasets import load_iris\n",
        "import warnings\n",
        "warnings.filterwarnings(\"ignore\")\n",
        "\n",
        "data=load_iris()\n",
        "df=pd.DataFrame(data.data,columns=data.feature_names)\n",
        "df['target']=data.target\n",
        "\n",
        "# Prepare the data\n",
        "X = df.drop('target', axis=1)\n",
        "y = df['target']\n",
        "\n",
        "# Split the dataset\n",
        "X_train, X_test, y_train, y_test = train_test_split(X, y, test_size=0.2, random_state=42)\n",
        "\n",
        "# Train Logistic Regression with Elastic Net Regularization\n",
        "model = LogisticRegression(penalty='elasticnet', solver='saga', l1_ratio=0.5)  # Use 'saga' or 'elasticnet' for Elastic Net\n",
        "model.fit(X_train, y_train)\n",
        "\n",
        "# Make predictions\n",
        "y_pred = model.predict(X_test)\n",
        "\n",
        "# Print model accuracy\n",
        "accuracy = accuracy_score(y_test, y_pred)\n",
        "print(\"Model Accuracy:\", accuracy)"
      ],
      "metadata": {
        "colab": {
          "base_uri": "https://localhost:8080/"
        },
        "id": "zbd5TPvSmpnB",
        "outputId": "1d1168eb-7052-49f8-f014-d2b90eff03c7"
      },
      "execution_count": 10,
      "outputs": [
        {
          "output_type": "stream",
          "name": "stdout",
          "text": [
            "Model Accuracy: 1.0\n"
          ]
        }
      ]
    },
    {
      "cell_type": "markdown",
      "source": [
        "5.) Write a Python program to train a Logistic Regression model for multiclass classification using multi_class='ovr'."
      ],
      "metadata": {
        "id": "MjIt3knIZrqH"
      }
    },
    {
      "cell_type": "code",
      "source": [
        "import pandas as pd\n",
        "from sklearn.model_selection import train_test_split\n",
        "from sklearn.linear_model import LogisticRegression\n",
        "from sklearn.metrics import accuracy_score\n",
        "from sklearn.datasets import load_iris\n",
        "\n",
        "data=load_iris()\n",
        "df=pd.DataFrame(data.data,columns=data.feature_names)\n",
        "df['target']=data.target\n",
        "\n",
        "# Prepare the data\n",
        "X = df.drop('target', axis=1)\n",
        "y = df['target']\n",
        "\n",
        "# Split the dataset\n",
        "X_train, X_test, y_train, y_test = train_test_split(X, y, test_size=0.2, random_state=42)\n",
        "\n",
        "# Train a Logistic Regression model for multiclass classification using multi_class='ovr'\n",
        "model = LogisticRegression(multi_class='ovr', solver='liblinear')  # Use 'liblinear' for OvR\n",
        "model.fit(X_train, y_train)\n",
        "\n",
        "# Make predictions\n",
        "y_pred = model.predict(X_test)\n",
        "\n",
        "# Print model accuracy\n",
        "accuracy = accuracy_score(y_test, y_pred)\n",
        "print(\"Model Accuracy:\", accuracy)"
      ],
      "metadata": {
        "colab": {
          "base_uri": "https://localhost:8080/"
        },
        "id": "P6qD8Q45mqCs",
        "outputId": "efef3b9d-58a7-40b7-f715-23c250bb9c0d"
      },
      "execution_count": 11,
      "outputs": [
        {
          "output_type": "stream",
          "name": "stdout",
          "text": [
            "Model Accuracy: 1.0\n"
          ]
        }
      ]
    },
    {
      "cell_type": "markdown",
      "source": [
        "6.) Write a Python program to apply GridSearchCV to tune the hyperparameters (C and penalty) of Logistic Regression. Print the best parameters and accuracy."
      ],
      "metadata": {
        "id": "Mr8P2potZrhh"
      }
    },
    {
      "cell_type": "code",
      "source": [
        "import pandas as pd\n",
        "from sklearn.model_selection import train_test_split, GridSearchCV\n",
        "from sklearn.linear_model import LogisticRegression\n",
        "from sklearn.metrics import accuracy_score\n",
        "from sklearn.datasets import load_iris\n",
        "import warnings\n",
        "warnings.filterwarnings(\"ignore\")\n",
        "\n",
        "data=load_iris()\n",
        "df=pd.DataFrame(data.data,columns=data.feature_names)\n",
        "df['target']=data.target\n",
        "\n",
        "# Prepare the data\n",
        "X = df.drop('target', axis=1)\n",
        "y = df['target']\n",
        "\n",
        "# Split the dataset\n",
        "X_train, X_test, y_train, y_test = train_test_split(X, y, test_size=0.2, random_state=42)\n",
        "\n",
        "# Define the parameter grid\n",
        "param_grid = {\n",
        "    'C': [0.001, 0.01, 0.1, 1, 10, 100],\n",
        "    'penalty': ['l1', 'l2', 'elasticnet', None],\n",
        "    'solver': ['liblinear', 'saga']\n",
        "}\n",
        "\n",
        "# Apply GridSearchCV\n",
        "model = LogisticRegression()\n",
        "grid_search = GridSearchCV(model, param_grid, cv=5)\n",
        "grid_search.fit(X_train, y_train)\n",
        "\n",
        "# Print the best parameters\n",
        "print(\"Best Parameters:\", grid_search.best_params_)\n",
        "\n",
        "# Make predictions using the best model\n",
        "y_pred = grid_search.predict(X_test)\n",
        "\n",
        "# Print the best accuracy\n",
        "accuracy = accuracy_score(y_test, y_pred)\n",
        "print(\"Best Accuracy:\", accuracy)"
      ],
      "metadata": {
        "colab": {
          "base_uri": "https://localhost:8080/"
        },
        "id": "VBm0Uvbbmqcc",
        "outputId": "2942442e-4fb6-4f60-dda1-e0b13a438ff2"
      },
      "execution_count": 12,
      "outputs": [
        {
          "output_type": "stream",
          "name": "stdout",
          "text": [
            "Best Parameters: {'C': 1, 'penalty': 'l1', 'solver': 'saga'}\n",
            "Best Accuracy: 1.0\n"
          ]
        }
      ]
    },
    {
      "cell_type": "markdown",
      "source": [
        "7.) Write a Python program to evaluate Logistic Regression using Stratified K-Fold Cross-Validation. Print the average accuracy."
      ],
      "metadata": {
        "id": "zkBCwanfZrYq"
      }
    },
    {
      "cell_type": "code",
      "source": [
        "import pandas as pd\n",
        "from sklearn.model_selection import StratifiedKFold, cross_val_score\n",
        "from sklearn.linear_model import LogisticRegression\n",
        "import numpy as np\n",
        "from sklearn.datasets import load_iris\n",
        "import warnings\n",
        "warnings.filterwarnings(\"ignore\")\n",
        "\n",
        "data=load_iris()\n",
        "df=pd.DataFrame(data.data,columns=data.feature_names)\n",
        "df['target']=data.target\n",
        "\n",
        "# Prepare the data\n",
        "X = df.drop('target', axis=1)\n",
        "y = df['target']\n",
        "\n",
        "# Apply Stratified K-Fold Cross-Validation\n",
        "model = LogisticRegression()\n",
        "skf = StratifiedKFold(n_splits=5, shuffle=True, random_state=42)\n",
        "cv_scores = cross_val_score(model, X, y, cv=skf, scoring='accuracy')\n",
        "\n",
        "# Print the average accuracy\n",
        "print(\"Average Accuracy:\", np.mean(cv_scores))"
      ],
      "metadata": {
        "colab": {
          "base_uri": "https://localhost:8080/"
        },
        "id": "xEsA8HkEmq2O",
        "outputId": "b40183ea-91e3-4dad-8743-33d49a580e22"
      },
      "execution_count": 13,
      "outputs": [
        {
          "output_type": "stream",
          "name": "stdout",
          "text": [
            "Average Accuracy: 0.9666666666666668\n"
          ]
        }
      ]
    },
    {
      "cell_type": "markdown",
      "source": [
        "8.) Write a Python program to load a dataset from a CSV file, apply Logistic Regression, and evaluate its accuracy."
      ],
      "metadata": {
        "id": "iTWmytc0ZrQm"
      }
    },
    {
      "cell_type": "code",
      "source": [
        "import pandas as pd\n",
        "from sklearn.linear_model import LogisticRegression\n",
        "\n",
        "df = pd.read_csv('/content/breast-cancer.csv')\n",
        "X = df.drop('diagnosis', axis=1)\n",
        "y = df['diagnosis']\n",
        "model = LogisticRegression(max_iter=1000).fit(X, y)\n",
        "print(\"CSV Model Accuracy:\", model.score(X, y))"
      ],
      "metadata": {
        "colab": {
          "base_uri": "https://localhost:8080/"
        },
        "id": "Re4oQVEMmrNI",
        "outputId": "0570c0a0-00de-4c2d-8104-e2c4fac443cf"
      },
      "execution_count": 35,
      "outputs": [
        {
          "output_type": "stream",
          "name": "stdout",
          "text": [
            "CSV Model Accuracy: 0.9191564147627417\n"
          ]
        }
      ]
    },
    {
      "cell_type": "markdown",
      "source": [
        "9.) Write a Python program to apply RandomizedSearchCV for tuning hyperparameters (C, penalty, solver) in Logistic Regression. Print the best parameters and accuracy."
      ],
      "metadata": {
        "id": "mKDwCfBbZrHO"
      }
    },
    {
      "cell_type": "code",
      "source": [
        "import pandas as pd\n",
        "from sklearn.model_selection import train_test_split, RandomizedSearchCV\n",
        "from sklearn.linear_model import LogisticRegression\n",
        "from sklearn.metrics import accuracy_score\n",
        "from scipy.stats import uniform\n",
        "from sklearn.datasets import load_iris\n",
        "import warnings\n",
        "warnings.filterwarnings(\"ignore\")\n",
        "\n",
        "data=load_iris()\n",
        "df=pd.DataFrame(data.data,columns=data.feature_names)\n",
        "df['target']=data.target\n",
        "\n",
        "# Prepare the data\n",
        "X = df.drop('target', axis=1)\n",
        "y = df['target']\n",
        "\n",
        "X_train, X_test, y_train, y_test = train_test_split(X, y, test_size=0.2, random_state=42)\n",
        "\n",
        "# Define the parameter distributions\n",
        "param_distributions = {\n",
        "    'C': uniform(loc=0, scale=10),\n",
        "    'penalty': ['l1', 'l2', 'elasticnet', None],\n",
        "    'solver': ['liblinear', 'saga', 'lbfgs']\n",
        "}\n",
        "\n",
        "# Apply RandomizedSearchCV\n",
        "model = LogisticRegression()\n",
        "random_search = RandomizedSearchCV(model, param_distributions, cv=5, n_iter=10)\n",
        "random_search.fit(X_train, y_train)\n",
        "\n",
        "# Print the best parameters\n",
        "print(\"Best Parameters:\", random_search.best_params_)\n",
        "\n",
        "# Make predictions using the best model\n",
        "y_pred = random_search.predict(X_test)\n",
        "\n",
        "# Print the best accuracy\n",
        "accuracy = accuracy_score(y_test, y_pred)\n",
        "print(\"Best Accuracy:\", accuracy)"
      ],
      "metadata": {
        "colab": {
          "base_uri": "https://localhost:8080/"
        },
        "id": "eCOe0waRmrhc",
        "outputId": "324c7d80-1d3f-490b-8d26-0872dfd617ec"
      },
      "execution_count": 15,
      "outputs": [
        {
          "output_type": "stream",
          "name": "stdout",
          "text": [
            "Best Parameters: {'C': np.float64(4.025478414744929), 'penalty': None, 'solver': 'saga'}\n",
            "Best Accuracy: 1.0\n"
          ]
        }
      ]
    },
    {
      "cell_type": "markdown",
      "source": [
        "10.) Write a Python program to implement One-vs-One (OvO) Multiclass Logistic Regression and print accuracy."
      ],
      "metadata": {
        "id": "kNUPnxE1Zq-G"
      }
    },
    {
      "cell_type": "code",
      "source": [
        "import pandas as pd\n",
        "from sklearn.model_selection import train_test_split\n",
        "from sklearn.linear_model import LogisticRegression\n",
        "from sklearn.metrics import accuracy_score\n",
        "from sklearn.multiclass import OneVsOneClassifier # Import directly from sklearn.multiclass\n",
        "from sklearn.datasets import load_iris\n",
        "\n",
        "# Load the dataset\n",
        "data = load_iris()\n",
        "X = data.data\n",
        "y = data.target\n",
        "\n",
        "# Split the dataset into training and testing sets\n",
        "X_train, X_test, y_train, y_test = train_test_split(X, y, test_size=0.2, random_state=42)\n",
        "\n",
        "# Implement One-vs-One (OvO) Multiclass Logistic Regression\n",
        "ovo_model = OneVsOneClassifier(LogisticRegression(solver='liblinear')) # 'liblinear' is suitable for OvO\n",
        "ovo_model.fit(X_train, y_train)\n",
        "\n",
        "# Make predictions\n",
        "y_pred = ovo_model.predict(X_test)\n",
        "\n",
        "# Print accuracy\n",
        "accuracy = accuracy_score(y_test, y_pred)\n",
        "print(\"Accuracy:\", accuracy)"
      ],
      "metadata": {
        "colab": {
          "base_uri": "https://localhost:8080/"
        },
        "id": "I49HqEfKmr4n",
        "outputId": "f910e9a1-aae9-4130-a419-e15f17d544b6"
      },
      "execution_count": 32,
      "outputs": [
        {
          "output_type": "stream",
          "name": "stdout",
          "text": [
            "Accuracy: 1.0\n"
          ]
        }
      ]
    },
    {
      "cell_type": "markdown",
      "source": [
        "11.) Write a Python program to train a Logistic Regression model and visualize the confusion matrix for binary classification."
      ],
      "metadata": {
        "id": "AcV4bXU2Zq1P"
      }
    },
    {
      "cell_type": "code",
      "source": [
        "import pandas as pd\n",
        "from sklearn.model_selection import train_test_split\n",
        "from sklearn.linear_model import LogisticRegression\n",
        "from sklearn.metrics import confusion_matrix\n",
        "import matplotlib.pyplot as plt\n",
        "import seaborn as sns\n",
        "from sklearn.datasets import load_iris\n",
        "import warnings\n",
        "warnings.filterwarnings(\"ignore\")\n",
        "\n",
        "data=load_iris()\n",
        "df=pd.DataFrame(data.data,columns=data.feature_names)\n",
        "df['target']=data.target\n",
        "\n",
        "# Prepare the data\n",
        "X = df.drop('target', axis=1)\n",
        "y = df['target']\n",
        "\n",
        "# Split the dataset\n",
        "X_train, X_test, y_train, y_test = train_test_split(X, y, test_size=0.2, random_state=42)\n",
        "\n",
        "# Train a Logistic Regression model\n",
        "model = LogisticRegression()\n",
        "model.fit(X_train, y_train)\n",
        "\n",
        "# Make predictions\n",
        "y_pred = model.predict(X_test)\n",
        "\n",
        "# Visualize the confusion matrix\n",
        "cm = confusion_matrix(y_test, y_pred)\n",
        "sns.heatmap(cm, annot=True, fmt='d')\n",
        "plt.title('Confusion Matrix')\n",
        "plt.xlabel('Predicted Label')\n",
        "plt.ylabel('True Label')\n",
        "plt.show()"
      ],
      "metadata": {
        "colab": {
          "base_uri": "https://localhost:8080/",
          "height": 472
        },
        "id": "rPQbHwIzmsKV",
        "outputId": "e005d687-39d6-4985-bc10-26878f6d21c4"
      },
      "execution_count": 19,
      "outputs": [
        {
          "output_type": "display_data",
          "data": {
            "text/plain": [
              "<Figure size 640x480 with 2 Axes>"
            ],
            "image/png": "[encoded data removed]"
          },
          "metadata": {}
        }
      ]
    },
    {
      "cell_type": "markdown",
      "source": [
        "12.) Write a Python program to train a Logistic Regression model and evaluate its performance using Precision, Recall, and F1-Score."
      ],
      "metadata": {
        "id": "Zl11dqahZqso"
      }
    },
    {
      "cell_type": "code",
      "source": [
        "import pandas as pd\n",
        "from sklearn.model_selection import train_test_split\n",
        "from sklearn.linear_model import LogisticRegression\n",
        "from sklearn.metrics import precision_score, recall_score, f1_score\n",
        "from sklearn.datasets import load_iris\n",
        "import warnings\n",
        "warnings.filterwarnings(\"ignore\")\n",
        "\n",
        "data=load_iris()\n",
        "df=pd.DataFrame(data.data,columns=data.feature_names)\n",
        "df['target']=data.target\n",
        "\n",
        "# Prepare the data\n",
        "X = df.drop('target', axis=1)\n",
        "y = df['target']\n",
        "\n",
        "# Split the dataset\n",
        "X_train, X_test, y_train, y_test = train_test_split(X, y, test_size=0.2, random_state=42)\n",
        "\n",
        "# Train a Logistic Regression model\n",
        "model = LogisticRegression()\n",
        "model.fit(X_train, y_train)\n",
        "\n",
        "# Make predictions\n",
        "y_pred = model.predict(X_test)\n",
        "\n",
        "# Evaluate performance using Precision, Recall, and F1-Score\n",
        "precision = precision_score(y_test, y_pred, average='weighted')\n",
        "recall = recall_score(y_test, y_pred, average='weighted')\n",
        "f1 = f1_score(y_test, y_pred, average='weighted')\n",
        "\n",
        "print(\"Precision:\", precision)\n",
        "print(\"Recall:\", recall)\n",
        "print(\"F1-Score:\", f1)"
      ],
      "metadata": {
        "colab": {
          "base_uri": "https://localhost:8080/"
        },
        "id": "Y8q2zPQtmspX",
        "outputId": "beece69c-507b-42fc-877d-fc932d8c39b6"
      },
      "execution_count": 23,
      "outputs": [
        {
          "output_type": "stream",
          "name": "stdout",
          "text": [
            "Precision: 1.0\n",
            "Recall: 1.0\n",
            "F1-Score: 1.0\n"
          ]
        }
      ]
    },
    {
      "cell_type": "markdown",
      "source": [
        "13.) Write a Python program to train a Logistic Regression model on imbalanced data and apply class weights to improve model performance."
      ],
      "metadata": {
        "id": "C29KUtYQZqjS"
      }
    },
    {
      "cell_type": "code",
      "source": [
        "import pandas as pd\n",
        "from sklearn.model_selection import train_test_split\n",
        "from sklearn.linear_model import LogisticRegression\n",
        "from sklearn.metrics import accuracy_score\n",
        "from sklearn.datasets import load_iris\n",
        "import warnings\n",
        "warnings.filterwarnings(\"ignore\")\n",
        "\n",
        "data=load_iris()\n",
        "df=pd.DataFrame(data.data,columns=data.feature_names)\n",
        "df['target']=data.target\n",
        "\n",
        "# Prepare the data\n",
        "X = df.drop('target', axis=1)\n",
        "y = df['target']\n",
        "\n",
        "# Split the dataset\n",
        "X_train, X_test, y_train, y_test = train_test_split(X, y, test_size=0.2, random_state=42)\n",
        "\n",
        "# Train Logistic Regression with class weights\n",
        "model = LogisticRegression(class_weight='balanced')  # Apply class weights\n",
        "model.fit(X_train, y_train)\n",
        "\n",
        "# Make predictions\n",
        "y_pred = model.predict(X_test)\n",
        "\n",
        "# Evaluate performance\n",
        "accuracy = accuracy_score(y_test, y_pred)\n",
        "print(\"Model Accuracy:\", accuracy)"
      ],
      "metadata": {
        "colab": {
          "base_uri": "https://localhost:8080/"
        },
        "id": "bRHvSDG6mtKp",
        "outputId": "8c1a5a7d-eb4b-491f-b46d-84012e5b3ea3"
      },
      "execution_count": 25,
      "outputs": [
        {
          "output_type": "stream",
          "name": "stdout",
          "text": [
            "Model Accuracy: 1.0\n"
          ]
        }
      ]
    },
    {
      "cell_type": "markdown",
      "source": [
        "14.) Write a Python program to train Logistic Regression on the Titanic dataset, handle missing values, and evaluate performance."
      ],
      "metadata": {
        "id": "4e5kKnSBZqaL"
      }
    },
    {
      "cell_type": "code",
      "source": [
        "import pandas as pd\n",
        "from sklearn.linear_model import LogisticRegression\n",
        "from sklearn.impute import SimpleImputer\n",
        "from sklearn.preprocessing import LabelEncoder\n",
        "\n",
        "df = pd.read_csv('Titanic.csv')\n",
        "X = df[['Pclass', 'Sex', 'Age', 'Fare']]\n",
        "y = df['Survived']\n",
        "\n",
        "# Preprocessing\n",
        "X['Sex'] = LabelEncoder().fit_transform(X['Sex'])\n",
        "imputer = SimpleImputer(strategy='mean')\n",
        "X_imputed = imputer.fit_transform(X)\n",
        "\n",
        "log_reg = LogisticRegression(max_iter=1000)\n",
        "log_reg.fit(X_imputed, y)\n",
        "\n",
        "print(\"Titanic Model Accuracy:\", log_reg.score(X_imputed, y))"
      ],
      "metadata": {
        "colab": {
          "base_uri": "https://localhost:8080/"
        },
        "id": "hPjhMJL-mthD",
        "outputId": "9b2c0c00-1527-432b-8165-d7becc417907"
      },
      "execution_count": 36,
      "outputs": [
        {
          "output_type": "stream",
          "name": "stdout",
          "text": [
            "Titanic Model Accuracy: 0.8002244668911336\n"
          ]
        }
      ]
    },
    {
      "cell_type": "markdown",
      "source": [
        "15.) Write a Python program to apply feature scaling (Standardization) before training a Logistic Regression model. Evaluate its accuracy and compare results with and without scaling."
      ],
      "metadata": {
        "id": "YG6NY1K2ZqQi"
      }
    },
    {
      "cell_type": "code",
      "source": [
        "from sklearn.datasets import load_breast_cancer\n",
        "from sklearn.preprocessing import StandardScaler\n",
        "from sklearn.linear_model import LogisticRegression\n",
        "\n",
        "data = load_breast_cancer()\n",
        "X = data.data\n",
        "y = data.target\n",
        "\n",
        "scaler = StandardScaler()\n",
        "X_scaled = scaler.fit_transform(X)\n",
        "\n",
        "log_reg = LogisticRegression(max_iter=1000)\n",
        "log_reg.fit(X_scaled, y)\n",
        "\n",
        "print(\"Scaled Model Accuracy:\", log_reg.score(X_scaled, y))"
      ],
      "metadata": {
        "colab": {
          "base_uri": "https://localhost:8080/"
        },
        "id": "yWoBpwyJmt4g",
        "outputId": "433f4379-a444-401f-f586-f5695c92f01d"
      },
      "execution_count": 37,
      "outputs": [
        {
          "output_type": "stream",
          "name": "stdout",
          "text": [
            "Scaled Model Accuracy: 0.9876977152899824\n"
          ]
        }
      ]
    },
    {
      "cell_type": "markdown",
      "source": [
        "16.) Write a Python program to train Logistic Regression and evaluate its performance using ROC-AUC score."
      ],
      "metadata": {
        "id": "RzN9tZQAZqHZ"
      }
    },
    {
      "cell_type": "code",
      "source": [
        "from sklearn.datasets import load_breast_cancer\n",
        "from sklearn.model_selection import train_test_split\n",
        "from sklearn.linear_model import LogisticRegression\n",
        "from sklearn.metrics import roc_auc_score\n",
        "\n",
        "data = load_breast_cancer()\n",
        "X = data.data\n",
        "y = data.target\n",
        "\n",
        "X_train, X_test, y_train, y_test = train_test_split(X, y, test_size=0.2, random_state=42)\n",
        "log_reg = LogisticRegression(max_iter=1000)\n",
        "log_reg.fit(X_train, y_train)\n",
        "\n",
        "y_scores = log_reg.predict_proba(X_test)[:, 1]\n",
        "roc_auc = roc_auc_score(y_test, y_scores)\n",
        "print(f\"ROC-AUC Score: {roc_auc:.4f}\")"
      ],
      "metadata": {
        "colab": {
          "base_uri": "https://localhost:8080/"
        },
        "id": "gNZoccDumuMB",
        "outputId": "8e6e2bf9-84dc-42fa-88cc-a0738237d0f4"
      },
      "execution_count": 38,
      "outputs": [
        {
          "output_type": "stream",
          "name": "stdout",
          "text": [
            "ROC-AUC Score: 0.9974\n"
          ]
        }
      ]
    },
    {
      "cell_type": "markdown",
      "source": [
        "17.) Write a Python program to train Logistic Regression using a custom learning rate (C=0.5) and evaluate accuracy."
      ],
      "metadata": {
        "id": "7rrvvzDgZp_V"
      }
    },
    {
      "cell_type": "code",
      "source": [
        "from sklearn.datasets import load_breast_cancer\n",
        "from sklearn.linear_model import SGDClassifier\n",
        "\n",
        "data = load_breast_cancer()\n",
        "X = data.data\n",
        "y = data.target\n",
        "\n",
        "sgd_log_reg = SGDClassifier(loss='log_loss', learning_rate='constant', eta0=0.5, max_iter=1000)\n",
        "sgd_log_reg.fit(X, y)\n",
        "\n",
        "print(\"Custom Learning Rate Accuracy:\", sgd_log_reg.score(X, y))"
      ],
      "metadata": {
        "colab": {
          "base_uri": "https://localhost:8080/"
        },
        "id": "5EywHAz6mu6I",
        "outputId": "da58f02f-3d9c-4a74-c94b-69daad784fca"
      },
      "execution_count": 39,
      "outputs": [
        {
          "output_type": "stream",
          "name": "stdout",
          "text": [
            "Custom Learning Rate Accuracy: 0.9191564147627417\n"
          ]
        }
      ]
    },
    {
      "cell_type": "markdown",
      "source": [
        "18.) Write a Python program to train Logistic Regression and identify important features based on model coefficients."
      ],
      "metadata": {
        "id": "qBulsjlVZp2O"
      }
    },
    {
      "cell_type": "code",
      "source": [
        "from sklearn.datasets import load_breast_cancer\n",
        "from sklearn.linear_model import LogisticRegression\n",
        "import matplotlib.pyplot as plt\n",
        "\n",
        "data = load_breast_cancer()\n",
        "X = data.data\n",
        "y = data.target\n",
        "feature_names = data.feature_names\n",
        "\n",
        "log_reg = LogisticRegression(max_iter=1000)\n",
        "log_reg.fit(X, y)\n",
        "\n",
        "plt.figure(figsize=(10, 6))\n",
        "plt.barh(feature_names, log_reg.coef_[0])\n",
        "plt.title(\"Feature Importance (Coefficients)\")\n",
        "plt.show()"
      ],
      "metadata": {
        "colab": {
          "base_uri": "https://localhost:8080/",
          "height": 545
        },
        "id": "5zzB2YqimvVu",
        "outputId": "2f74bd02-61ad-40ae-a15b-4146e0984a20"
      },
      "execution_count": 40,
      "outputs": [
        {
          "output_type": "display_data",
          "data": {
            "text/plain": [
              "<Figure size 1000x600 with 1 Axes>"
            ],
            "image/png": "[encoded data removed]"
          },
          "metadata": {}
        }
      ]
    },
    {
      "cell_type": "markdown",
      "source": [
        "19.) Write a Python program to train Logistic Regression and evaluate its performance using Cohen’s Kappa Score."
      ],
      "metadata": {
        "id": "NZEdBEVHZps2"
      }
    },
    {
      "cell_type": "code",
      "source": [
        "from sklearn.datasets import load_breast_cancer\n",
        "from sklearn.model_selection import train_test_split\n",
        "from sklearn.linear_model import LogisticRegression\n",
        "from sklearn.metrics import cohen_kappa_score\n",
        "\n",
        "data = load_breast_cancer()\n",
        "X = data.data\n",
        "y = data.target\n",
        "\n",
        "X_train, X_test, y_train, y_test = train_test_split(X, y, test_size=0.2, random_state=42)\n",
        "log_reg = LogisticRegression(max_iter=1000)\n",
        "log_reg.fit(X_train, y_train)\n",
        "\n",
        "y_pred = log_reg.predict(X_test)\n",
        "kappa = cohen_kappa_score(y_test, y_pred)\n",
        "print(f\"Cohen's Kappa: {kappa:.4f}\")"
      ],
      "metadata": {
        "colab": {
          "base_uri": "https://localhost:8080/"
        },
        "id": "uMwx3cq6mvuO",
        "outputId": "39592253-b294-4fbe-81de-aea3ab983db5"
      },
      "execution_count": 41,
      "outputs": [
        {
          "output_type": "stream",
          "name": "stdout",
          "text": [
            "Cohen's Kappa: 0.9053\n"
          ]
        }
      ]
    },
    {
      "cell_type": "markdown",
      "source": [
        "20.) Write a Python program to train Logistic Regression and visualize the Precision-Recall Curve for binary classification."
      ],
      "metadata": {
        "id": "ird2fysxZpje"
      }
    },
    {
      "cell_type": "code",
      "source": [
        "from sklearn.datasets import load_breast_cancer\n",
        "from sklearn.model_selection import train_test_split\n",
        "from sklearn.linear_model import LogisticRegression\n",
        "from sklearn.metrics import PrecisionRecallDisplay\n",
        "import matplotlib.pyplot as plt\n",
        "\n",
        "data = load_breast_cancer()\n",
        "X = data.data\n",
        "y = data.target\n",
        "\n",
        "X_train, X_test, y_train, y_test = train_test_split(X, y, test_size=0.2, random_state=42)\n",
        "log_reg = LogisticRegression(max_iter=1000)\n",
        "log_reg.fit(X_train, y_train)\n",
        "\n",
        "PrecisionRecallDisplay.from_estimator(log_reg, X_test, y_test)\n",
        "plt.show()"
      ],
      "metadata": {
        "colab": {
          "base_uri": "https://localhost:8080/",
          "height": 451
        },
        "id": "xJbaJR1hmwF3",
        "outputId": "f9b2a5cc-3e5d-4e59-a3ce-ddc33139132d"
      },
      "execution_count": 42,
      "outputs": [
        {
          "output_type": "display_data",
          "data": {
            "text/plain": [
              "<Figure size 640x480 with 1 Axes>"
            ],
            "image/png": "[encoded data removed]"
          },
          "metadata": {}
        }
      ]
    },
    {
      "cell_type": "markdown",
      "source": [
        "21.) Write a Python program to train Logistic Regression with different solvers (liblinear, saga, lbfgs) and compare their accuracy."
      ],
      "metadata": {
        "id": "VinroOCGZpZl"
      }
    },
    {
      "cell_type": "code",
      "source": [
        "from sklearn.datasets import load_breast_cancer\n",
        "from sklearn.linear_model import LogisticRegression\n",
        "\n",
        "data = load_breast_cancer()\n",
        "X = data.data\n",
        "y = data.target\n",
        "\n",
        "solvers = ['lbfgs', 'liblinear', 'saga']\n",
        "for solver in solvers:\n",
        "    log_reg = LogisticRegression(solver=solver, max_iter=1000)\n",
        "    log_reg.fit(X, y)\n",
        "    print(f\"{solver} Accuracy: {log_reg.score(X, y):.4f}\")"
      ],
      "metadata": {
        "colab": {
          "base_uri": "https://localhost:8080/"
        },
        "id": "GKcpDjYbmwe6",
        "outputId": "a8fc16ee-d120-4b45-b5d9-c7390e880584"
      },
      "execution_count": 43,
      "outputs": [
        {
          "output_type": "stream",
          "name": "stdout",
          "text": [
            "lbfgs Accuracy: 0.9578\n",
            "liblinear Accuracy: 0.9596\n",
            "saga Accuracy: 0.9244\n"
          ]
        }
      ]
    },
    {
      "cell_type": "markdown",
      "source": [
        "22.) Write a Python program to train Logistic Regression and evaluate its performance using Matthews Correlation Coefficient (MCC)."
      ],
      "metadata": {
        "id": "GTL8QyHUZpPY"
      }
    },
    {
      "cell_type": "code",
      "source": [
        "from sklearn.datasets import load_breast_cancer\n",
        "from sklearn.model_selection import train_test_split\n",
        "from sklearn.linear_model import LogisticRegression\n",
        "from sklearn.metrics import matthews_corrcoef\n",
        "\n",
        "data = load_breast_cancer()\n",
        "X = data.data\n",
        "y = data.target\n",
        "\n",
        "X_train, X_test, y_train, y_test = train_test_split(X, y, test_size=0.2, random_state=42)\n",
        "log_reg = LogisticRegression(max_iter=1000)\n",
        "log_reg.fit(X_train, y_train)\n",
        "\n",
        "y_pred = log_reg.predict(X_test)\n",
        "mcc = matthews_corrcoef(y_test, y_pred)\n",
        "print(f\"Matthews Correlation Coefficient: {mcc:.4f}\")"
      ],
      "metadata": {
        "colab": {
          "base_uri": "https://localhost:8080/"
        },
        "id": "kyCjxG_jmwz_",
        "outputId": "e03f64f3-3ff2-494a-e003-7ffb04773597"
      },
      "execution_count": 44,
      "outputs": [
        {
          "output_type": "stream",
          "name": "stdout",
          "text": [
            "Matthews Correlation Coefficient: 0.9068\n"
          ]
        }
      ]
    },
    {
      "cell_type": "markdown",
      "source": [
        "23.) Write a Python program to train Logistic Regression on both raw and standardized data. Compare their accuracy to see the impact of feature scaling."
      ],
      "metadata": {
        "id": "g2GKbFbqZpFA"
      }
    },
    {
      "cell_type": "code",
      "source": [
        "from sklearn.datasets import load_breast_cancer\n",
        "from sklearn.preprocessing import StandardScaler\n",
        "from sklearn.linear_model import LogisticRegression\n",
        "\n",
        "data = load_breast_cancer()\n",
        "X = data.data\n",
        "y = data.target\n",
        "\n",
        "# Without scaling\n",
        "log_reg = LogisticRegression(max_iter=1000)\n",
        "log_reg.fit(X, y)\n",
        "print(f\"Raw Data Accuracy: {log_reg.score(X, y):.4f}\")\n",
        "\n",
        "# With scaling\n",
        "scaler = StandardScaler()\n",
        "X_scaled = scaler.fit_transform(X)\n",
        "log_reg_scaled = LogisticRegression(max_iter=1000)\n",
        "log_reg_scaled.fit(X_scaled, y)\n",
        "print(f\"Scaled Data Accuracy: {log_reg_scaled.score(X_scaled, y):.4f}\")"
      ],
      "metadata": {
        "colab": {
          "base_uri": "https://localhost:8080/"
        },
        "id": "Kl6hD0VXmxf_",
        "outputId": "6fed7b72-39b1-4a1c-c777-72cf7b06df1b"
      },
      "execution_count": 45,
      "outputs": [
        {
          "output_type": "stream",
          "name": "stdout",
          "text": [
            "Raw Data Accuracy: 0.9578\n",
            "Scaled Data Accuracy: 0.9877\n"
          ]
        }
      ]
    },
    {
      "cell_type": "markdown",
      "source": [
        "24.) Write a Python program to train Logistic Regression and find the optimal C (regularization strength) using cross-validation."
      ],
      "metadata": {
        "id": "Mg54uFSPZo8K"
      }
    },
    {
      "cell_type": "code",
      "source": [
        "from sklearn.datasets import load_breast_cancer\n",
        "from sklearn.linear_model import LogisticRegression\n",
        "from sklearn.model_selection import cross_val_score\n",
        "\n",
        "data = load_breast_cancer()\n",
        "X = data.data\n",
        "y = data.target\n",
        "\n",
        "best_score = 0\n",
        "best_C = None\n",
        "for C in [0.001, 0.01, 0.1, 1, 10, 100]:\n",
        "    log_reg = LogisticRegression(C=C, max_iter=1000)\n",
        "    scores = cross_val_score(log_reg, X, y, cv=5, verbose=3)\n",
        "    mean_score = scores.mean()\n",
        "    if mean_score > best_score:\n",
        "        best_score = mean_score\n",
        "        best_C = C\n",
        "\n",
        "print(f\"Best C: {best_C}, Best CV Score: {best_score:.4f}\")"
      ],
      "metadata": {
        "colab": {
          "base_uri": "https://localhost:8080/"
        },
        "id": "AMvAioESmx5A",
        "outputId": "2a5b9331-bd41-4f93-dd98-869bb3de1fbf"
      },
      "execution_count": 49,
      "outputs": [
        {
          "output_type": "stream",
          "name": "stdout",
          "text": [
            "[CV] END ................................ score: (test=0.904) total time=   0.1s\n",
            "[CV] END ................................ score: (test=0.939) total time=   0.1s\n",
            "[CV] END ................................ score: (test=0.956) total time=   0.1s\n",
            "[CV] END ................................ score: (test=0.947) total time=   0.0s\n",
            "[CV] END ................................ score: (test=0.956) total time=   0.1s\n",
            "[CV] END ................................ score: (test=0.912) total time=   0.2s\n",
            "[CV] END ................................ score: (test=0.947) total time=   0.2s\n",
            "[CV] END ................................ score: (test=0.974) total time=   0.1s\n",
            "[CV] END ................................ score: (test=0.921) total time=   0.1s\n",
            "[CV] END ................................ score: (test=0.947) total time=   0.1s\n",
            "[CV] END ................................ score: (test=0.939) total time=   0.3s\n",
            "[CV] END ................................ score: (test=0.947) total time=   0.3s\n",
            "[CV] END ................................ score: (test=0.982) total time=   0.3s\n",
            "[CV] END ................................ score: (test=0.921) total time=   0.2s\n",
            "[CV] END ................................ score: (test=0.956) total time=   0.2s\n",
            "[CV] END ................................ score: (test=0.939) total time=   0.2s\n",
            "[CV] END ................................ score: (test=0.939) total time=   0.2s\n",
            "[CV] END ................................ score: (test=0.974) total time=   0.2s\n",
            "[CV] END ................................ score: (test=0.939) total time=   0.2s\n",
            "[CV] END ................................ score: (test=0.965) total time=   0.2s\n",
            "[CV] END ................................ score: (test=0.939) total time=   0.1s\n",
            "[CV] END ................................ score: (test=0.930) total time=   0.2s\n",
            "[CV] END ................................ score: (test=0.974) total time=   0.1s\n",
            "[CV] END ................................ score: (test=0.947) total time=   0.2s\n",
            "[CV] END ................................ score: (test=0.965) total time=   0.2s\n",
            "[CV] END ................................ score: (test=0.939) total time=   0.2s\n",
            "[CV] END ................................ score: (test=0.956) total time=   0.1s\n",
            "[CV] END ................................ score: (test=0.974) total time=   0.2s\n",
            "[CV] END ................................ score: (test=0.956) total time=   0.2s\n",
            "[CV] END ................................ score: (test=0.965) total time=   0.2s\n",
            "Best C: 100, Best CV Score: 0.9578\n"
          ]
        }
      ]
    },
    {
      "cell_type": "markdown",
      "source": [
        "25.) Write a Python program to train Logistic Regression, save the trained model using joblib, and load it again to make predictions."
      ],
      "metadata": {
        "id": "khkwKTqiZoZO"
      }
    },
    {
      "cell_type": "code",
      "source": [
        "from sklearn.datasets import load_breast_cancer\n",
        "from sklearn.linear_model import LogisticRegression\n",
        "import joblib\n",
        "\n",
        "data = load_breast_cancer()\n",
        "X = data.data\n",
        "y = data.target\n",
        "\n",
        "log_reg = LogisticRegression(max_iter=1000)\n",
        "log_reg.fit(X, y)\n",
        "\n",
        "# Save model\n",
        "joblib.dump(log_reg, 'logistic_regression_model.joblib')\n",
        "\n",
        "# Load model\n",
        "loaded_model = joblib.load('logistic_regression_model.joblib')\n",
        "print(\"Loaded Model Accuracy:\", loaded_model.score(X, y))"
      ],
      "metadata": {
        "colab": {
          "base_uri": "https://localhost:8080/"
        },
        "id": "PkesQGqFmyRe",
        "outputId": "8cc265e4-b7b7-4c9b-c3d9-1b225b32dc33"
      },
      "execution_count": 47,
      "outputs": [
        {
          "output_type": "stream",
          "name": "stdout",
          "text": [
            "Loaded Model Accuracy: 0.9578207381370826\n"
          ]
        }
      ]
    }
  ]
}