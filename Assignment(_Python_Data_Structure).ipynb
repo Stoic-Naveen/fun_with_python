{
  "nbformat": 4,
  "nbformat_minor": 0,
  "metadata": {
    "colab": {
      "provenance": [],
      "authorship_tag": "ABX9TyPptTvSiKAt/KCop2afXxYY"
    },
    "kernelspec": {
      "name": "python3",
      "display_name": "Python 3"
    },
    "language_info": {
      "name": "python"
    }
  },
  "cells": [
    {
      "cell_type": "markdown",
      "source": [
        "#Theoretical Questions"
      ],
      "metadata": {
        "id": "PSbbXl97wBHf"
      }
    },
    {
      "cell_type": "markdown",
      "source": [
        "1. What are data structures, and why are they important?\n",
        "\n",
        "Data Structures are ways of organizing and storing data in a computer's memory. They provide a structured framework for efficient data access, manipulation, and management.\n",
        "\n",
        "Importance:\n",
        "\n",
        "Efficiency: Well-chosen data structures can significantly improve the speed and performance of algorithms.\n",
        "\n",
        "Organization: They enable clear and logical representation of data, making programs easier to understand and maintain.\n",
        "\n",
        "Problem Solving: Different data structures are suited for different problems, allowing you to select the most appropriate one for a given task.\n",
        "\n",
        "\n",
        "2. Explain the difference between mutable and immutable data types with examples.\n",
        "\n",
        "Mutable: Data types whose values can be changed after they are created.\n",
        "\n",
        "Example: Lists ([1, 2, 3]), dictionaries ({'a': 1, 'b': 2}). You can modify elements within these structures.\n",
        "\n",
        "Immutable: Data types whose values cannot be changed once created. A new object is created if you want to modify it.\n",
        "\n",
        "Example: Strings (\"hello\"), tuples ((1, 2, 3)), numbers (integers, floats).\n",
        "\n",
        "\n",
        "3. What are the main differences between lists and tuples in Python?\n",
        "\n",
        "Mutability: Lists are mutable, tuples are immutable.\n",
        "\n",
        "Syntax: Lists use square brackets ([]), tuples use parentheses (()).\n",
        "\n",
        "Use Cases: Lists are suitable for dynamic collections where changes are expected. Tuples are used for representing fixed sequences of elements, ensuring data integrity.\n",
        "\n",
        "\n",
        "4. Describe how dictionaries store data.\n",
        "\n",
        "Dictionaries store data in key-value pairs.\n",
        "Each key is unique, and it's associated with a corresponding value.\n",
        "You can efficiently access a value by using its key.\n",
        "\n",
        "\n",
        "5. Why might you use a set instead of a list in Python?\n",
        "\n",
        "Sets are unordered collections of unique elements.\n",
        "\n",
        "Use them to:\n",
        "\n",
        "Check for membership quickly (in operator is efficient).\n",
        "\n",
        "Remove duplicate values from a list.\n",
        "\n",
        "Perform set operations (union, intersection, difference).\n",
        "\n",
        "\n",
        "6. What is a string in Python, and how is it different from a list?\n",
        "\n",
        "String:\n",
        "An immutable sequence of characters.\n",
        "\n",
        "Difference: Strings are specifically designed for text manipulation, while lists can hold any data type.\n",
        "\n",
        "\n",
        "7. How do tuples ensure data integrity in Python?\n",
        "\n",
        "Tuples are immutable, meaning their elements cannot be changed after creation.\n",
        "This protects the data from accidental modifications, ensuring its integrity.\n",
        "\n",
        "\n",
        "8. What is a hash table, and how does it relate to dictionaries in Python?\n",
        "\n",
        "Hash Table: A data structure that uses a hash function to map keys to indices in an array.\n",
        "\n",
        "Relation to Dictionaries: Python dictionaries are implemented using hash tables, allowing for very fast key lookups.\n",
        "\n",
        "\n",
        "9. Can lists contain different data types in Python?\n",
        "\n",
        "Yes, lists can contain elements of different data types (e.g., integers, floats, strings, even other lists).\n",
        "\n",
        "\n",
        "10. Explain why strings are immutable in Python.\n",
        "\n",
        "Strings are immutable for efficiency and to ensure data integrity.\n",
        "Since strings are often used as keys in dictionaries, immutability is crucial for consistent hash values.\n",
        "\n",
        "\n",
        "11. What advantages do dictionaries offer over lists for certain tasks?\n",
        "\n",
        "Fast lookups: You can access values directly using their keys in O(1) time.\n",
        "\n",
        "Efficient storage: Space-efficient for storing key-value pairs.\n",
        "\n",
        "Flexibility: Can store data in an unordered manner.\n",
        "\n",
        "\n",
        "12. Describe a scenario where using a tuple would be preferable over a list.\n",
        "\n",
        "When you need to represent a fixed set of values that should never change (e.g., coordinates, days of the week).\n",
        "\n",
        "\n",
        "13. How do sets handle duplicate values in Python?\n",
        "\n",
        "Sets automatically remove duplicate values, ensuring that only unique elements are present.\n",
        "\n",
        "\n",
        "14. How does the \"in\" keyword work differently for lists and dictionaries?\n",
        "\n",
        "Lists: Checks if a value is present among the elements of the list.\n",
        "\n",
        "Dictionaries: Checks if a key exists in the dictionary.\n",
        "\n",
        "\n",
        "15. Can you modify the elements of a tuple? Explain why or why not.\n",
        "\n",
        "No, you cannot modify the elements of a tuple directly because they are immutable.\n",
        "\n",
        "\n",
        "16. What is a nested dictionary, and give an example of its use case.\n",
        "\n",
        "Nested Dictionary: A dictionary where the values themselves are dictionaries.\n",
        "\n",
        "Example: Representing hierarchical data like company departments and employees.\n",
        "\n",
        "\n",
        "17. Describe the time complexity of accessing elements in a dictionary.\n",
        "\n",
        "Accessing elements in a dictionary has a time complexity of O(1) on average, meaning it's very fast and independent of the number of elements.\n",
        "\n",
        "\n",
        "18. In what situations are lists preferred over dictionaries?\n",
        "\n",
        "When you need an ordered collection of elements.\n",
        "\n",
        "When you need to access elements by their index.\n",
        "\n",
        "When you need to frequently add or remove elements.\n",
        "\n",
        "\n",
        "19. Why are dictionaries considered unordered, and how does that affect data retrieval?\n",
        "\n",
        "Dictionaries don't guarantee the order of key-value pairs.\n",
        "You cannot rely on the order of elements when iterating over a dictionary.\n",
        "You must use keys to retrieve specific values.\n",
        "\n",
        "\n",
        "20. Explain the difference between a list and a dictionary in terms of data retrieval.\n",
        "\n",
        "Lists: Access elements by their index (position).\n",
        "\n",
        "Dictionaries: Access elements by their keys.\n"
      ],
      "metadata": {
        "id": "-DT-K-DNwGcF"
      }
    },
    {
      "cell_type": "markdown",
      "source": [
        "#Practical Questions"
      ],
      "metadata": {
        "id": "lOklrdA1yrxE"
      }
    },
    {
      "cell_type": "markdown",
      "source": [
        "1. Write a code to create a string with your name and print it."
      ],
      "metadata": {
        "id": "hdsgwb_xywjC"
      }
    },
    {
      "cell_type": "code",
      "source": [
        "my_name = \"Naveen Kumar\"\n",
        "print(my_name)"
      ],
      "metadata": {
        "colab": {
          "base_uri": "https://localhost:8080/"
        },
        "id": "WXOtIxvPy627",
        "outputId": "e4c00a33-4610-4a4a-ef08-c9e50fa10408"
      },
      "execution_count": 1,
      "outputs": [
        {
          "output_type": "stream",
          "name": "stdout",
          "text": [
            "Naveen Kumar\n"
          ]
        }
      ]
    },
    {
      "cell_type": "markdown",
      "source": [
        "2. Write a code to find the length of the string \"Hello World\"."
      ],
      "metadata": {
        "id": "AYOXvbyrzTqa"
      }
    },
    {
      "cell_type": "code",
      "source": [
        "text = \"Hello World\"\n",
        "length = len(text)\n",
        "print(length)"
      ],
      "metadata": {
        "colab": {
          "base_uri": "https://localhost:8080/"
        },
        "id": "SuacM7gtzWHd",
        "outputId": "eb224dbc-cbc5-415d-f084-39bec433d2dc"
      },
      "execution_count": 2,
      "outputs": [
        {
          "output_type": "stream",
          "name": "stdout",
          "text": [
            "11\n"
          ]
        }
      ]
    },
    {
      "cell_type": "markdown",
      "source": [
        "3. Write a code to slice the first 3 characters from the string \"Python Programming\"."
      ],
      "metadata": {
        "id": "wkITEYUQzakE"
      }
    },
    {
      "cell_type": "code",
      "source": [
        "text = \"Python Programming\"\n",
        "sliced_text = text[:3]\n",
        "print(sliced_text)"
      ],
      "metadata": {
        "colab": {
          "base_uri": "https://localhost:8080/"
        },
        "id": "DXGzhWj81TPg",
        "outputId": "a036eb85-39ef-444c-8c89-2ef187bc658e"
      },
      "execution_count": 3,
      "outputs": [
        {
          "output_type": "stream",
          "name": "stdout",
          "text": [
            "Pyt\n"
          ]
        }
      ]
    },
    {
      "cell_type": "markdown",
      "source": [
        "4. Write a code to convert the string \"hello\" to uppercase."
      ],
      "metadata": {
        "id": "R3z_aL80zb3K"
      }
    },
    {
      "cell_type": "code",
      "source": [
        "text = \"hello\"\n",
        "uppercase_text = text.upper()\n",
        "print(uppercase_text)"
      ],
      "metadata": {
        "colab": {
          "base_uri": "https://localhost:8080/"
        },
        "id": "dNid9JMD1T3G",
        "outputId": "c618beef-0150-469c-8e28-deed9a0c5619"
      },
      "execution_count": 4,
      "outputs": [
        {
          "output_type": "stream",
          "name": "stdout",
          "text": [
            "HELLO\n"
          ]
        }
      ]
    },
    {
      "cell_type": "markdown",
      "source": [
        "5. Write a code to replace the word \"apple\" with \"orange\" in the string \"I like apple\"."
      ],
      "metadata": {
        "id": "7z-1PRGfzcun"
      }
    },
    {
      "cell_type": "code",
      "source": [
        "text = \"I like apple\"\n",
        "new_text = text.replace(\"apple\", \"orange\")\n",
        "print(new_text)"
      ],
      "metadata": {
        "colab": {
          "base_uri": "https://localhost:8080/"
        },
        "id": "DHtjxkMy1Ub0",
        "outputId": "bbdf2fbb-e581-4c1f-b740-d173b6aa0d7c"
      },
      "execution_count": 5,
      "outputs": [
        {
          "output_type": "stream",
          "name": "stdout",
          "text": [
            "I like orange\n"
          ]
        }
      ]
    },
    {
      "cell_type": "markdown",
      "source": [
        "6. Write a code to create a list with numbers 1 to 5 and print it."
      ],
      "metadata": {
        "id": "xHepe8p5zdW-"
      }
    },
    {
      "cell_type": "code",
      "source": [
        "numbers = list(range(1, 6))\n",
        "print(numbers)"
      ],
      "metadata": {
        "colab": {
          "base_uri": "https://localhost:8080/"
        },
        "id": "kJ2ASk0K1U49",
        "outputId": "e9175e68-c68c-42af-8205-ae408f7cde02"
      },
      "execution_count": 6,
      "outputs": [
        {
          "output_type": "stream",
          "name": "stdout",
          "text": [
            "[1, 2, 3, 4, 5]\n"
          ]
        }
      ]
    },
    {
      "cell_type": "markdown",
      "source": [
        "7. Write a code to append the number 10 to the list [1, 2, 3, 4]."
      ],
      "metadata": {
        "id": "XlFdTz7wzdz5"
      }
    },
    {
      "cell_type": "code",
      "source": [
        "numbers = [1, 2, 3, 4]\n",
        "numbers.append(10)\n",
        "print(numbers)"
      ],
      "metadata": {
        "colab": {
          "base_uri": "https://localhost:8080/"
        },
        "id": "lxPC5RhP1VWa",
        "outputId": "93ddd5d2-901e-4496-9619-c89824ccc351"
      },
      "execution_count": 7,
      "outputs": [
        {
          "output_type": "stream",
          "name": "stdout",
          "text": [
            "[1, 2, 3, 4, 10]\n"
          ]
        }
      ]
    },
    {
      "cell_type": "markdown",
      "source": [
        "8. Write a code to remove the number 3 from the list [1, 2, 3, 4, 5]"
      ],
      "metadata": {
        "id": "D1U3bcUXzeI-"
      }
    },
    {
      "cell_type": "code",
      "source": [
        "numbers = [1, 2, 3, 4, 5]\n",
        "numbers.remove(3)\n",
        "print(numbers)"
      ],
      "metadata": {
        "colab": {
          "base_uri": "https://localhost:8080/"
        },
        "id": "JJtPD9hU1WEe",
        "outputId": "3ce344bc-2546-4e30-db78-20c46f90fe5c"
      },
      "execution_count": 8,
      "outputs": [
        {
          "output_type": "stream",
          "name": "stdout",
          "text": [
            "[1, 2, 4, 5]\n"
          ]
        }
      ]
    },
    {
      "cell_type": "markdown",
      "source": [
        "9. Write a code to access the second element in the list ['a', 'b', 'c', 'd']."
      ],
      "metadata": {
        "id": "XXhyp7XYzent"
      }
    },
    {
      "cell_type": "code",
      "source": [
        "my_list = ['a', 'b', 'c', 'd']\n",
        "second_element = my_list[1]\n",
        "print(second_element)"
      ],
      "metadata": {
        "colab": {
          "base_uri": "https://localhost:8080/"
        },
        "id": "kC5Qu7XL1Whq",
        "outputId": "15d0fc23-4699-4840-ec6f-6d85ebae865f"
      },
      "execution_count": 9,
      "outputs": [
        {
          "output_type": "stream",
          "name": "stdout",
          "text": [
            "b\n"
          ]
        }
      ]
    },
    {
      "cell_type": "markdown",
      "source": [
        "10. Write a code to reverse the list [10, 20, 30, 40, 50]."
      ],
      "metadata": {
        "id": "E6r781_azfCA"
      }
    },
    {
      "cell_type": "code",
      "source": [
        "numbers = [10, 20, 30, 40, 50]\n",
        "reversed_numbers = numbers[::-1]\n",
        "print(reversed_numbers)"
      ],
      "metadata": {
        "colab": {
          "base_uri": "https://localhost:8080/"
        },
        "id": "HB48WJLq1XL2",
        "outputId": "4a978583-f785-47f2-ef3f-f11bccc04f36"
      },
      "execution_count": 10,
      "outputs": [
        {
          "output_type": "stream",
          "name": "stdout",
          "text": [
            "[50, 40, 30, 20, 10]\n"
          ]
        }
      ]
    },
    {
      "cell_type": "markdown",
      "source": [
        "11. Write a code to create a tuple with the elements 10, 20, 30 and print it."
      ],
      "metadata": {
        "id": "F4QmaQU1zfZL"
      }
    },
    {
      "cell_type": "code",
      "source": [
        "my_tuple = (10, 20, 30)\n",
        "print(my_tuple)"
      ],
      "metadata": {
        "colab": {
          "base_uri": "https://localhost:8080/"
        },
        "id": "djQ0I7HG1X-Y",
        "outputId": "1dc6cb47-5394-495a-bba4-d09b40516f88"
      },
      "execution_count": 11,
      "outputs": [
        {
          "output_type": "stream",
          "name": "stdout",
          "text": [
            "(10, 20, 30)\n"
          ]
        }
      ]
    },
    {
      "cell_type": "markdown",
      "source": [
        "12. Write a code to access the first element of the tuple ('apple', 'banana', 'cherry')."
      ],
      "metadata": {
        "id": "0ZjNKwsYzftw"
      }
    },
    {
      "cell_type": "code",
      "source": [
        "my_tuple = ('apple', 'banana', 'cherry')\n",
        "first_element = my_tuple[0]\n",
        "print(first_element)"
      ],
      "metadata": {
        "colab": {
          "base_uri": "https://localhost:8080/"
        },
        "id": "4EOqN8Ho1YbR",
        "outputId": "9f821ba8-2ba4-4867-b247-7190e5b0ffe7"
      },
      "execution_count": 12,
      "outputs": [
        {
          "output_type": "stream",
          "name": "stdout",
          "text": [
            "apple\n"
          ]
        }
      ]
    },
    {
      "cell_type": "markdown",
      "source": [
        "13. Write a code to count how many times the number 2 appears in the tuple (1, 2, 3, 2, 4, 2)."
      ],
      "metadata": {
        "id": "AyD9XIOyzf_v"
      }
    },
    {
      "cell_type": "code",
      "source": [
        "my_tuple = (1, 2, 3, 2, 4, 2)\n",
        "count = my_tuple.count(2)\n",
        "print(count)"
      ],
      "metadata": {
        "colab": {
          "base_uri": "https://localhost:8080/"
        },
        "id": "WAbKTB1w1Yxr",
        "outputId": "dc7f6672-ad9e-4238-d18a-d3c895191f25"
      },
      "execution_count": 13,
      "outputs": [
        {
          "output_type": "stream",
          "name": "stdout",
          "text": [
            "3\n"
          ]
        }
      ]
    },
    {
      "cell_type": "markdown",
      "source": [
        "14. Write a code to find the index of the element \"cat\" in the tuple ('dog', 'cat', 'rabbit')."
      ],
      "metadata": {
        "id": "1xTEQ3y7zgWI"
      }
    },
    {
      "cell_type": "code",
      "source": [
        "my_tuple = ('dog', 'cat', 'rabbit')\n",
        "index = my_tuple.index('cat')\n",
        "print(index)"
      ],
      "metadata": {
        "colab": {
          "base_uri": "https://localhost:8080/"
        },
        "id": "Hh10AzlB1ZMv",
        "outputId": "c4502703-ee5b-41dd-b42e-7c4a7c133329"
      },
      "execution_count": 14,
      "outputs": [
        {
          "output_type": "stream",
          "name": "stdout",
          "text": [
            "1\n"
          ]
        }
      ]
    },
    {
      "cell_type": "markdown",
      "source": [
        "15. Write a code to check if the element \"banana\" is in the tuple ('apple', 'orange', 'banana')."
      ],
      "metadata": {
        "id": "GUKv_Ujhzgpa"
      }
    },
    {
      "cell_type": "code",
      "source": [
        "my_tuple = ('apple', 'orange', 'banana')\n",
        "is_present = 'banana' in my_tuple\n",
        "print(is_present)"
      ],
      "metadata": {
        "colab": {
          "base_uri": "https://localhost:8080/"
        },
        "id": "vLaUjDL91Zkc",
        "outputId": "ce01fd66-13d5-47be-c346-b458e0b7fdbc"
      },
      "execution_count": 15,
      "outputs": [
        {
          "output_type": "stream",
          "name": "stdout",
          "text": [
            "True\n"
          ]
        }
      ]
    },
    {
      "cell_type": "markdown",
      "source": [
        "16. Write a code to create a set with the elements 1, 2, 3, 4, 5 and print it."
      ],
      "metadata": {
        "id": "QvJ-iE8mzhBW"
      }
    },
    {
      "cell_type": "code",
      "source": [
        "my_set = {1, 2, 3, 4, 5}\n",
        "print(my_set)"
      ],
      "metadata": {
        "colab": {
          "base_uri": "https://localhost:8080/"
        },
        "id": "XytJ3nMu1Z_g",
        "outputId": "30f81270-0eef-4579-aa2c-a61757cc994b"
      },
      "execution_count": 16,
      "outputs": [
        {
          "output_type": "stream",
          "name": "stdout",
          "text": [
            "{1, 2, 3, 4, 5}\n"
          ]
        }
      ]
    },
    {
      "cell_type": "markdown",
      "source": [
        "17. Write a code to add the element 6 to the set {1, 2, 3, 4}."
      ],
      "metadata": {
        "id": "j_DrChr9zhdN"
      }
    },
    {
      "cell_type": "code",
      "source": [
        "my_set = {1, 2, 3, 4}\n",
        "my_set.add(6)\n",
        "print(my_set)"
      ],
      "metadata": {
        "colab": {
          "base_uri": "https://localhost:8080/"
        },
        "id": "rHiUFvFx1ao7",
        "outputId": "efb3d651-3afd-43e8-9cff-302887c9338c"
      },
      "execution_count": 17,
      "outputs": [
        {
          "output_type": "stream",
          "name": "stdout",
          "text": [
            "{1, 2, 3, 4, 6}\n"
          ]
        }
      ]
    },
    {
      "cell_type": "markdown",
      "source": [
        "#Practical Questions repeat after this point in the assignment i.e. question 11 to 17 are same as question 18 to 24 in the same order."
      ],
      "metadata": {
        "id": "r9X8Epak01GF"
      }
    }
  ]
}