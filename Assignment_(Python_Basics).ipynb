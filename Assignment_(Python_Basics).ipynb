{
  "nbformat": 4,
  "nbformat_minor": 0,
  "metadata": {
    "colab": {
      "provenance": [],
      "authorship_tag": "ABX9TyPjnLRFT7146PIf0QjrV+/s"
    },
    "kernelspec": {
      "name": "python3",
      "display_name": "Python 3"
    },
    "language_info": {
      "name": "python"
    }
  },
  "cells": [
    {
      "cell_type": "markdown",
      "source": [
        "#Assignment (Python Basics)"
      ],
      "metadata": {
        "id": "BAbHM1p3iHpG"
      }
    },
    {
      "cell_type": "markdown",
      "source": [
        "#Theoretical Questions"
      ],
      "metadata": {
        "id": "WyBHEiqCxpOf"
      }
    },
    {
      "cell_type": "markdown",
      "source": [
        "1.) What is Python, and why is it popular?\n",
        "- What is Python?\n",
        "\n",
        "Python is a high-level programming language known for its readability and versatility. Its simple syntax and emphasis on clarity make it a popular choice for beginners and experienced programmers alike.\n",
        "\n",
        "- Why is Python so popular?\n",
        "\n",
        "**Beginner-friendly :**  Easy to learn and understand.\n",
        "\n",
        "**Versatile :**  Used for web development, data science, machine learning, and more.\n",
        "\n",
        "**Large community :**  Extensive resources and support available.\n",
        "\n",
        "**Cross-platform :** Runs on various operating systems.\n",
        "\n",
        "**Open-source:** Free to use and distribute.\n",
        "\n",
        "Hence, Python's combination of simplicity, versatility, and a strong community makes it a powerful and popular language for a wide range of applications."
      ],
      "metadata": {
        "id": "KW9pTcGPicz6"
      }
    },
    {
      "cell_type": "markdown",
      "source": [
        "2.) What is an interpreter in Python?\n",
        "- In Python, an interpreter is a program that reads and executes your code line by line. It translates each line into machine-understandable instructions. Executes them immediately, providing interactive feedback. Python interpreter determines data types during execution making Python a flexible and beginner-friendly language."
      ],
      "metadata": {
        "id": "7IMzQvA1ks_v"
      }
    },
    {
      "cell_type": "markdown",
      "source": [
        "3.) What are pre-defined keywords in Python?\n",
        "- In Python, keywords are predefined words with special meanings. They form the foundation of the language's syntax and cannot be used as variable names, function names, or any other identifiers."
      ],
      "metadata": {
        "id": "se6J1_Pomr51"
      }
    },
    {
      "cell_type": "markdown",
      "source": [
        "4.) Can keywords be used as variable names?\n",
        "- No"
      ],
      "metadata": {
        "id": "ba_1h8v8pptr"
      }
    },
    {
      "cell_type": "markdown",
      "source": [
        "5.) What is mutability in Python?\n",
        "- In Python, mutability refers to the ability of an object to be changed after it's created.\n",
        "\n",
        "  Mutable objects can be modified in place without creating a new object.\n",
        "\n",
        "\n",
        "    Examples include :\n",
        "\n",
        "- Lists\n",
        "- Dictionaries\n",
        "\n",
        "- Sets\n",
        "\n",
        "Immutable objects cannot be changed after they're created. Any operation that appears to modify them actually creates a new object with the modified value.\n",
        "\n",
        "    Examples include:\n",
        "\n",
        "- Numbers (integers, floats)\n",
        "\n",
        "- Strings\n",
        "- Tuples"
      ],
      "metadata": {
        "id": "fyY96bpFp5Zj"
      }
    },
    {
      "cell_type": "markdown",
      "source": [
        "6.) Why are lists mutable, but tuples are immutable?\n",
        "- Lists are designed for flexibility and frequent modifications.\n",
        "\n",
        "- Tuples are more efficient, hashable (for dictionary keys), and ensure data integrity by preventing accidental changes."
      ],
      "metadata": {
        "id": "AHlni1Vyr90y"
      }
    },
    {
      "cell_type": "markdown",
      "source": [
        "7.) What is the difference between “==” and “is” operators in Python?\n",
        "- **==**  checks for value equality (whether the values of two objects are the same).\n",
        "\n",
        "- **is**  checks for object identity (whether two variables refer to the same object in memory)."
      ],
      "metadata": {
        "id": "S9MJCkj9vXnO"
      }
    },
    {
      "cell_type": "markdown",
      "source": [
        "8.) What are logical operators in Python?\n",
        "- Logical operators are used to combine or negate boolean expressions : We have 3 logical operators in Python namely,\n",
        "\n",
        "- and : Returns True if both operands are True.\n",
        "- or : Returns True if at least one operand is True.\n",
        "- not : Reverses the boolean value of its operand."
      ],
      "metadata": {
        "id": "vyYbVPzEvv90"
      }
    },
    {
      "cell_type": "markdown",
      "source": [
        "9.) What is type casting in Python?\n",
        "- Type casting is the process of converting a value from one data type to another (e.g., string to integer)."
      ],
      "metadata": {
        "id": "b7QHmn22wSlt"
      }
    },
    {
      "cell_type": "markdown",
      "source": [
        "10.) What is the difference between implicit and explicit type casting?\n",
        "- **Implicit :** Python automatically converts data types in certain situations (e.g., adding an integer to a float).\n",
        "\n",
        "- **Explicit :** You use built-in functions like int(), float(), str() to manually convert data types."
      ],
      "metadata": {
        "id": "2AuwbXJwwcEe"
      }
    },
    {
      "cell_type": "markdown",
      "source": [
        "11.) What is the purpose of conditional statements in Python?\n",
        "- Conditional statements (if, elif, else) control the flow of execution based on whether a condition is True or False."
      ],
      "metadata": {
        "id": "GkIAAYQMw09K"
      }
    },
    {
      "cell_type": "markdown",
      "source": [
        "12.)  How does the elif statement work?\n",
        "- elif is used to check additional conditions if the previous if condition is False. Only one block of code within an if-elif-else chain will execute."
      ],
      "metadata": {
        "id": "eAMNOm0Fw_6w"
      }
    },
    {
      "cell_type": "markdown",
      "source": [
        "13.) What is the difference between for and while loops?\n",
        "- **for loops** iterate over a sequence (e.g., list, string) or a range of numbers.\n",
        "\n",
        "- **while loops** execute as long as a given condition remains True."
      ],
      "metadata": {
        "id": "jqJMmvKDxMEU"
      }
    },
    {
      "cell_type": "markdown",
      "source": [
        "14.) Describe a scenario where a while loop is more suitable than a for loop.\n",
        "- When you don't know the exact number of iterations in advance, or when the loop condition depends on a changing value."
      ],
      "metadata": {
        "id": "o0huQh3-xbV6"
      }
    },
    {
      "cell_type": "markdown",
      "source": [
        "#Practical Questions"
      ],
      "metadata": {
        "id": "w4lHsRZIxmXa"
      }
    },
    {
      "cell_type": "markdown",
      "source": [
        "1.) Write a Python program to print \"Hello, World!."
      ],
      "metadata": {
        "id": "czKdRnYtyHZ-"
      }
    },
    {
      "cell_type": "code",
      "source": [
        "print(\"Hello, World!\")"
      ],
      "metadata": {
        "colab": {
          "base_uri": "https://localhost:8080/"
        },
        "id": "9ifekioHyNTT",
        "outputId": "ebcf9ce1-440e-4e03-d168-b839f7fe149b"
      },
      "execution_count": null,
      "outputs": [
        {
          "output_type": "stream",
          "name": "stdout",
          "text": [
            "Hello, World!\n"
          ]
        }
      ]
    },
    {
      "cell_type": "markdown",
      "source": [
        "2.) Write a Python program that displays your name and age."
      ],
      "metadata": {
        "id": "1CmbJfO6yWM1"
      }
    },
    {
      "cell_type": "code",
      "source": [
        "name=\"Naveen Kumar\"\n",
        "age=25\n",
        "print(\"Name:\",name,\" \", \"Age:\",age)"
      ],
      "metadata": {
        "colab": {
          "base_uri": "https://localhost:8080/"
        },
        "id": "nuX8ZXijybVf",
        "outputId": "ff747dd5-bacf-49d6-ed54-16d4da4586ce"
      },
      "execution_count": null,
      "outputs": [
        {
          "output_type": "stream",
          "name": "stdout",
          "text": [
            "Name: Naveen Kumar   Age: 25\n"
          ]
        }
      ]
    },
    {
      "cell_type": "markdown",
      "source": [
        "3.) Write code to print all the pre-defined keywords in Python using the keyword library."
      ],
      "metadata": {
        "id": "VSBwhzYYzBVf"
      }
    },
    {
      "cell_type": "code",
      "source": [
        "import keyword\n",
        "print (keyword.kwlist)"
      ],
      "metadata": {
        "colab": {
          "base_uri": "https://localhost:8080/"
        },
        "id": "GpNtxWpJzG5c",
        "outputId": "b2ebd7e0-553c-44a4-bb54-4bb76035676d"
      },
      "execution_count": null,
      "outputs": [
        {
          "output_type": "stream",
          "name": "stdout",
          "text": [
            "['False', 'None', 'True', 'and', 'as', 'assert', 'async', 'await', 'break', 'class', 'continue', 'def', 'del', 'elif', 'else', 'except', 'finally', 'for', 'from', 'global', 'if', 'import', 'in', 'is', 'lambda', 'nonlocal', 'not', 'or', 'pass', 'raise', 'return', 'try', 'while', 'with', 'yield']\n"
          ]
        }
      ]
    },
    {
      "cell_type": "code",
      "source": [
        "help(\"keywords\")"
      ],
      "metadata": {
        "colab": {
          "base_uri": "https://localhost:8080/"
        },
        "id": "aTWYDR7LzSUI",
        "outputId": "7cd7bbd5-129e-4679-e156-5ed132b77082"
      },
      "execution_count": null,
      "outputs": [
        {
          "output_type": "stream",
          "name": "stdout",
          "text": [
            "\n",
            "Here is a list of the Python keywords.  Enter any keyword to get more help.\n",
            "\n",
            "False               class               from                or\n",
            "None                continue            global              pass\n",
            "True                def                 if                  raise\n",
            "and                 del                 import              return\n",
            "as                  elif                in                  try\n",
            "assert              else                is                  while\n",
            "async               except              lambda              with\n",
            "await               finally             nonlocal            yield\n",
            "break               for                 not                 \n",
            "\n"
          ]
        }
      ]
    },
    {
      "cell_type": "markdown",
      "source": [
        "4.) Write a program that checks if a given word is a Python keyword."
      ],
      "metadata": {
        "id": "rAXCmE8DzicI"
      }
    },
    {
      "cell_type": "code",
      "source": [
        "word= input(\"Enter a word  \")\n",
        "if keyword.iskeyword(word):\n",
        "    print(word, \"is a keyword.\")\n",
        "else:\n",
        "    print(word, \"is not a keyword.\")"
      ],
      "metadata": {
        "colab": {
          "base_uri": "https://localhost:8080/"
        },
        "id": "eimE1SnfzpBf",
        "outputId": "bdc94452-fde6-4490-da82-2278b8189057"
      },
      "execution_count": null,
      "outputs": [
        {
          "output_type": "stream",
          "name": "stdout",
          "text": [
            "Enter a word  Naveen\n",
            "Naveen is not a keyword.\n"
          ]
        }
      ]
    },
    {
      "cell_type": "markdown",
      "source": [
        "5.) Create a list and tuple in Python, and demonstrate how attempting to change an element works differently\n",
        "for each."
      ],
      "metadata": {
        "id": "GFhXfbKE0PZa"
      }
    },
    {
      "cell_type": "code",
      "source": [
        "my_list = [1, 2, 3]\n",
        "my_tuple = (1, 2, 3)\n",
        "\n",
        "my_list[0] = 10  # Modifies the list\n",
        "# my_tuple[0] = 10  # Raises TypeError\n",
        "\n",
        "print(my_list)\n",
        "print(my_tuple)"
      ],
      "metadata": {
        "colab": {
          "base_uri": "https://localhost:8080/"
        },
        "id": "x8ujADyJ0X5e",
        "outputId": "4760fd49-53f9-44f2-fbec-31fc528da399"
      },
      "execution_count": null,
      "outputs": [
        {
          "output_type": "stream",
          "name": "stdout",
          "text": [
            "[10, 2, 3]\n",
            "(1, 2, 3)\n"
          ]
        }
      ]
    },
    {
      "cell_type": "markdown",
      "source": [
        "6.) Write a function to demonstrate the behavior of mutable and immutable arguments."
      ],
      "metadata": {
        "id": "wDfgaPwJ0fn_"
      }
    },
    {
      "cell_type": "code",
      "source": [
        "def modify_list(lst):\n",
        "    lst.append(4)\n",
        "\n",
        "def modify_tuple(tup):\n",
        "    tup = tup + (4,)  # Creates a new tuple\n",
        "\n",
        "my_list = [1, 2, 3]\n",
        "my_tuple = (1, 2, 3)\n",
        "\n",
        "modify_list(my_list)\n",
        "print(my_list)  # [1, 2, 3, 4]\n",
        "\n",
        "modify_tuple(my_tuple)\n",
        "print(my_tuple)  # (1, 2, 3)"
      ],
      "metadata": {
        "colab": {
          "base_uri": "https://localhost:8080/"
        },
        "id": "L2ulLcFU0kiD",
        "outputId": "6e12d219-fbde-44c0-f4f6-c12f6c6a2273"
      },
      "execution_count": null,
      "outputs": [
        {
          "output_type": "stream",
          "name": "stdout",
          "text": [
            "[1, 2, 3, 4]\n",
            "(1, 2, 3)\n"
          ]
        }
      ]
    },
    {
      "cell_type": "markdown",
      "source": [
        "7.) Write a function to demonstrate the behavior of mutable and immutable arguments."
      ],
      "metadata": {
        "id": "SsGX_HQv0odm"
      }
    },
    {
      "cell_type": "code",
      "source": [
        "def modify_list(lst):\n",
        "    lst.append(4)\n",
        "\n",
        "def modify_tuple(tup):\n",
        "    tup = tup + (4,)  # Creates a new tuple\n",
        "\n",
        "my_list = [1, 2, 3]\n",
        "my_tuple = (1, 2, 3)\n",
        "\n",
        "modify_list(my_list)\n",
        "print(my_list)  # [1, 2, 3, 4]\n",
        "\n",
        "modify_tuple(my_tuple)\n",
        "print(my_tuple)  # (1, 2, 3)"
      ],
      "metadata": {
        "colab": {
          "base_uri": "https://localhost:8080/"
        },
        "id": "7DhPyhZx1bLr",
        "outputId": "bf4be1f1-fb74-4d03-a77e-c3f6859d2566"
      },
      "execution_count": null,
      "outputs": [
        {
          "output_type": "stream",
          "name": "stdout",
          "text": [
            "[1, 2, 3, 4]\n",
            "(1, 2, 3)\n"
          ]
        }
      ]
    },
    {
      "cell_type": "markdown",
      "source": [
        "8.) Write a program to demonstrate the use of logical operators."
      ],
      "metadata": {
        "id": "We8onsbP0rLC"
      }
    },
    {
      "cell_type": "code",
      "source": [
        "a = True\n",
        "b = False\n",
        "\n",
        "print(\" . True and False give output - \", a and b)  # False\n",
        "print(\" . True or False gives output - \", a or b)   # True\n",
        "print(\" . not True gives output - \", not a, \"\\n\",\". not false gives output - \", not b)    # False  # True"
      ],
      "metadata": {
        "colab": {
          "base_uri": "https://localhost:8080/"
        },
        "id": "24cwz9Fn1fs1",
        "outputId": "e07ea30b-87e1-4d20-98ad-0a6999bb7b4e"
      },
      "execution_count": null,
      "outputs": [
        {
          "output_type": "stream",
          "name": "stdout",
          "text": [
            " . True and False give output -  False\n",
            " . True or False gives output -  True\n",
            " . not True gives output -  False \n",
            " . not false gives output -  True\n"
          ]
        }
      ]
    },
    {
      "cell_type": "markdown",
      "source": [
        "9.) Write a Python program to convert user input from string to integer, float, and boolean types."
      ],
      "metadata": {
        "id": "Gfe6VwyU0swW"
      }
    },
    {
      "cell_type": "code",
      "source": [
        "user_input = input(\"Enter a value: \")\n",
        "\n",
        "float_value = float(user_input)\n",
        "int_value = int(float(user_input))\n",
        "bool_value = bool(user_input)  # True if non-empty string\n",
        "\n",
        "print(int_value, float_value, bool_value)"
      ],
      "metadata": {
        "colab": {
          "base_uri": "https://localhost:8080/"
        },
        "id": "a6Xf3UFq1gbn",
        "outputId": "4695f803-331a-48be-c686-920c8f765758"
      },
      "execution_count": null,
      "outputs": [
        {
          "output_type": "stream",
          "name": "stdout",
          "text": [
            "Enter a value: 5.6\n",
            "5 5.6 True\n"
          ]
        }
      ]
    },
    {
      "cell_type": "markdown",
      "source": [
        "10.) Write code to demonstrate type casting with list elements."
      ],
      "metadata": {
        "id": "yjryA0qu0uYA"
      }
    },
    {
      "cell_type": "code",
      "source": [
        "my_list = [\"1\", \"2.5\", \"True\"]\n",
        "\n",
        "int_list = [int(float(x)) if '.' in x else (1 if bool(x) == True else 0) for x in my_list]  # Was raising ValueError on direct conversion\n",
        "print(int_list)"
      ],
      "metadata": {
        "colab": {
          "base_uri": "https://localhost:8080/"
        },
        "id": "RaJl_naZ1hhb",
        "outputId": "270760e0-069e-4f1c-b4fd-b56960af118b"
      },
      "execution_count": null,
      "outputs": [
        {
          "output_type": "stream",
          "name": "stdout",
          "text": [
            "[1, 2, 1]\n"
          ]
        }
      ]
    },
    {
      "cell_type": "markdown",
      "source": [
        "11.) Write a program that checks if a number is positive, negative, or zero."
      ],
      "metadata": {
        "id": "BAUDGIEW0vf3"
      }
    },
    {
      "cell_type": "code",
      "source": [
        "num = int(input(\"Enter a number: \"))\n",
        "\n",
        "if num > 0:\n",
        "    print(\"Positive\")\n",
        "elif num < 0:\n",
        "    print(\"Negative\")\n",
        "else:\n",
        "    print(\"Zero\")"
      ],
      "metadata": {
        "colab": {
          "base_uri": "https://localhost:8080/"
        },
        "id": "c4FqqBWU1iGI",
        "outputId": "b0591f93-cdb1-49c0-b26c-5e9563b7e9dc"
      },
      "execution_count": 2,
      "outputs": [
        {
          "output_type": "stream",
          "name": "stdout",
          "text": [
            "Enter a number: -560\n",
            "Negative\n"
          ]
        }
      ]
    },
    {
      "cell_type": "markdown",
      "source": [
        "12.) Write a for loop to print numbers from 1 to 10."
      ],
      "metadata": {
        "id": "CBcefdan0wn_"
      }
    },
    {
      "cell_type": "code",
      "source": [
        "for i in range(1, 11):\n",
        "    print(i)"
      ],
      "metadata": {
        "colab": {
          "base_uri": "https://localhost:8080/"
        },
        "id": "P0KMUzvP1ioO",
        "outputId": "49c4ac20-0bb7-471b-9439-e56d950baf13"
      },
      "execution_count": null,
      "outputs": [
        {
          "output_type": "stream",
          "name": "stdout",
          "text": [
            "1\n",
            "2\n",
            "3\n",
            "4\n",
            "5\n",
            "6\n",
            "7\n",
            "8\n",
            "9\n",
            "10\n"
          ]
        }
      ]
    },
    {
      "cell_type": "markdown",
      "source": [
        "13.) Write a Python program to find the sum of all even numbers between 1 and 50."
      ],
      "metadata": {
        "id": "rFQuWzJy0xsd"
      }
    },
    {
      "cell_type": "code",
      "source": [
        "sum_even = 0\n",
        "for i in range(2, 51, 2):\n",
        "    sum_even += i\n",
        "print(sum_even)"
      ],
      "metadata": {
        "colab": {
          "base_uri": "https://localhost:8080/"
        },
        "id": "YiEG-Dzk1jEH",
        "outputId": "32e7543b-650a-4e15-d121-21c9041376f2"
      },
      "execution_count": null,
      "outputs": [
        {
          "output_type": "stream",
          "name": "stdout",
          "text": [
            "650\n"
          ]
        }
      ]
    },
    {
      "cell_type": "markdown",
      "source": [
        "14.) Write a program to reverse a string using a while loop."
      ],
      "metadata": {
        "id": "6UEAlTPI00el"
      }
    },
    {
      "cell_type": "code",
      "source": [
        "string = input(\"Enter a string \")\n",
        "reversed_string = \"\"\n",
        "i = len(string) - 1\n",
        "\n",
        "while i >= 0:\n",
        "    reversed_string += string[i]\n",
        "    i -= 1\n",
        "\n",
        "print(\"The reversed string is \", reversed_string)"
      ],
      "metadata": {
        "colab": {
          "base_uri": "https://localhost:8080/"
        },
        "id": "CuCXAdy21jsc",
        "outputId": "134f62ee-ead7-4e0b-e316-312488992490"
      },
      "execution_count": null,
      "outputs": [
        {
          "output_type": "stream",
          "name": "stdout",
          "text": [
            "Enter a string Hello\n",
            "The reversed string is  olleH\n"
          ]
        }
      ]
    },
    {
      "cell_type": "markdown",
      "source": [
        "15.) Write a Python program to calculate the factorial of a number provided by the user using a while loop."
      ],
      "metadata": {
        "id": "nyk0-Pfd05ls"
      }
    },
    {
      "cell_type": "code",
      "source": [
        "num = int(input(\"Enter a number: \"))\n",
        "factorial = 1\n",
        "\n",
        "while num > 0:\n",
        "    factorial *= num\n",
        "    num -= 1\n",
        "\n",
        "print(\"Factorial:\", factorial)"
      ],
      "metadata": {
        "colab": {
          "base_uri": "https://localhost:8080/"
        },
        "id": "bdEZvCwt1kFN",
        "outputId": "79380d9a-6573-43f7-c113-18a9412001da"
      },
      "execution_count": 1,
      "outputs": [
        {
          "output_type": "stream",
          "name": "stdout",
          "text": [
            "Enter a number: 6\n",
            "Factorial: 720\n"
          ]
        }
      ]
    }
  ]
}