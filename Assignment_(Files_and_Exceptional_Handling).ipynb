{
  "nbformat": 4,
  "nbformat_minor": 0,
  "metadata": {
    "colab": {
      "provenance": [],
      "authorship_tag": "ABX9TyOZiKPy7r9vV8cDT/HLV0Vx"
    },
    "kernelspec": {
      "name": "python3",
      "display_name": "Python 3"
    },
    "language_info": {
      "name": "python"
    }
  },
  "cells": [
    {
      "cell_type": "markdown",
      "source": [
        "#Theoretical Questions"
      ],
      "metadata": {
        "id": "n7LhwIgQoJyc"
      }
    },
    {
      "cell_type": "markdown",
      "source": [
        "1. What is the difference between interpreted and compiled languages?\n",
        "\n",
        "- **Compiled Languages:**\n",
        "\n",
        "Source code is translated into machine code (executable) by a compiler before execution.\n",
        "\n",
        "**Examples:** C, C++, Java (bytecode)\n",
        "\n",
        "Typically faster execution due to direct machine code interaction.\n",
        "\n",
        "\n",
        "- **Interpreted Languages:**\n",
        "\n",
        "Source code is executed line by line by an interpreter.\n",
        "\n",
        "**Examples:** Python, JavaScript, Ruby\n",
        "\n",
        "More flexible and easier to debug, but generally slower execution.\n",
        "\n",
        "2. What is exception handling in Python?\n",
        "\n",
        "- A mechanism to gracefully handle errors that occur during program execution.\n",
        "Prevents crashes and allows the program to take appropriate actions (e.g., logging, displaying error messages).\n",
        "\n",
        "\n",
        "3. What is the purpose of the finally block in exception handling?\n",
        "\n",
        "- Code within the finally block always executes, regardless of whether an exception occurred or not.\n",
        "Useful for cleanup tasks like closing files or releasing resources.\n",
        "\n",
        "\n",
        "4. What is logging in Python?\n",
        "\n",
        "- A built-in module (logging) for creating and managing logs of events happening within a program.\n",
        "Helps with debugging, monitoring, and analyzing program behavior.\n",
        "\n",
        "5. What is the significance of the _ _del_ _ method in Python?\n",
        "\n",
        "- Called by the garbage collector when an object is about to be destroyed.\n",
        "Used for cleanup tasks specific to the object (e.g., closing file handles).\n",
        "\n",
        "6. What is the difference between import and from... import in Python?\n",
        "\n",
        "- **import module_name:** Imports the entire module, so you need to use module_name.function( ) or module_name.variable.\n",
        "\n",
        "- **from module_name import function_name:** Imports only the specified function or variable, allowing direct use without the module prefix.\n",
        "\n",
        "\n",
        "7. How can you handle multiple exceptions in Python?\n",
        "\n",
        "- Use multiple except blocks with different exception types.\n",
        "\n",
        "- Use a single except block with a tuple of exception types.\n",
        "\n",
        "- Use a single except block with a base exception class (e.g., Exception).\n",
        "\n",
        "\n",
        "8. What is the purpose of the with statement when handling files in Python?\n",
        "\n",
        "- Ensures that a file is properly closed even if an exception occurs within the with block.\n",
        "\n",
        "- Simplifies file handling and prevents resource leaks.\n",
        "\n",
        "\n",
        "9. What is the difference between multithreading and multiprocessing?\n",
        "\n",
        "- **Multithreading:** Creates multiple threads within a single process, sharing the same memory space. Limited by the Global Interpreter Lock (GIL) in Python.\n",
        "\n",
        "- **Multiprocessing:** Creates multiple processes, each with its own memory space and independent execution. Better for CPU-bound tasks.\n",
        "\n",
        "\n",
        "10. What are the advantages of using logging in a program?\n",
        "\n",
        "- **Debugging:** Helps pinpoint errors and identify the source of problems.\n",
        "\n",
        "- **Monitoring:** Track program behavior and performance over time.\n",
        "\n",
        "- **Auditing:** Record user actions or system events for security and compliance.\n",
        "\n",
        "- **Analysis:** Extract valuable insights from program logs for improvement.\n",
        "\n",
        "\n",
        "11. What is memory management in Python?\n",
        "\n",
        "- The process of allocating and deallocating memory for objects during program execution.\n",
        "- Python has a garbage collector that automatically reclaims unused memory.\n",
        "\n",
        "\n",
        "12. What are the basic steps involved in exception handling in Python?\n",
        "\n",
        "- **try block:** Encloses the code that might raise an exception.\n",
        "\n",
        "- **except block(s):** Specify the types of exceptions to catch and the code to execute in response.\n",
        "\n",
        "- **finally block (optional):** Code that always executes, regardless of whether an exception occurred.\n",
        "\n",
        "\n",
        "13. Why is memory management important in Python?\n",
        "\n",
        "- Prevents memory leaks, which can lead to slowdowns and crashes.\n",
        "\n",
        "- Ensures efficient use of system resources.\n",
        "\n",
        "\n",
        "14. What is the role of try and except in exception handling?\n",
        "\n",
        "- **try:** Encloses the code that might raise an exception.\n",
        "\n",
        "- **except:** Defines the actions to take when a specific exception occurs.\n",
        "\n",
        "\n",
        "15. How does Python's garbage collection system work?\n",
        "\n",
        "- Uses reference counting to track the number of references to an object.\n",
        "When an object's reference count reaches zero, it is automatically reclaimed.\n",
        "\n",
        "- Also includes a cycle-detecting garbage collector for more complex scenarios.\n",
        "\n",
        "\n",
        "16. What is the purpose of the else block in exception handling?\n",
        "\n",
        "- Code within the else block executes only if no exceptions occurred in the try block.\n",
        "\n",
        "- Often used for code that should run if the try block succeeds.\n",
        "\n",
        "\n",
        "17. What are the common logging levels in Python?\n",
        "\n",
        "- DEBUG\n",
        "\n",
        "- INFO\n",
        "\n",
        "- WARNING\n",
        "\n",
        "- ERROR\n",
        "\n",
        "- CRITICAL\n",
        "\n",
        "\n",
        "18. What is the difference between os.fork( ) and multiprocessing in Python?\n",
        "\n",
        "- **os.fork( )** is a system call for creating a child process. It's lower-level and provides less control than the multiprocessing module.\n",
        "\n",
        "- **multiprocessing** is a higher-level module that simplifies creating and managing multiple processes in Python.\n",
        "\n",
        "\n",
        "19. What is the importance of closing a file in Python?\n",
        "\n",
        "- Releases the operating system's resources associated with the file.\n",
        "\n",
        "- Prevents data corruption or loss.\n",
        "\n",
        "- Ensures that other programs can access the file.\n",
        "\n",
        "\n",
        "20. What is the difference between file.read( ) and file.readline( ) in Python?\n",
        "\n",
        "- **file.read( ):** Reads the entire contents of the file as a single string.\n",
        "\n",
        "- **file.readline( ):** Reads a single line from the file, including the newline character.\n",
        "\n",
        "\n",
        "\n",
        "21. What is the logging module in Python used for?\n",
        "\n",
        "- Creating and managing logs of events happening within a program.\n",
        "\n",
        "- Helps with debugging, monitoring, and analyzing program behavior.\n",
        "\n",
        "\n",
        "\n",
        "22. What is the os module in Python used for in file handling?\n",
        "\n",
        "- Provides functions for interacting with the operating system, including:\n",
        "Creating, renaming, and deleting files and directories.\n",
        "\n",
        "- Getting file information (size, modification time, etc.).\n",
        "\n",
        "- Changing the current working directory.\n",
        "\n",
        "\n",
        "\n",
        "23. What are the challenges associated with memory management in Python?\n",
        "\n",
        "- **Circular references:** Objects can hold references to each other, preventing the garbage collector from reclaiming them.\n",
        "\n",
        "- **Large objects:** Can consume significant amounts of memory, leading to performance issues.\n",
        "\n",
        "\n",
        "\n",
        "24. How do you raise an exception manually in Python?\n",
        "\n",
        "- Use the raise statement followed by the exception class and an optional error message.\n",
        "\n",
        "- **Example:** raise ValueError(\"Invalid input\")\n",
        "\n",
        "\n",
        "\n",
        "\n",
        "25. Why is it important to use multithreading in certain applications?\n",
        "\n",
        "- Can improve performance in I/O-bound tasks (e.g., network requests, file operations) by overlapping I/O with computation.\n",
        "\n",
        "- Can make user interfaces more responsive.\n",
        "\n",
        "- However, one should be mindful of the GIL limitations in Python.\n",
        "\n"
      ],
      "metadata": {
        "id": "ZUSZfmZzoPXb"
      }
    },
    {
      "cell_type": "markdown",
      "source": [
        "#Practical Questions"
      ],
      "metadata": {
        "id": "NRa4qkjksbNj"
      }
    },
    {
      "cell_type": "markdown",
      "source": [
        "1.) How can you open a file for writing in Python and write a string to it?"
      ],
      "metadata": {
        "id": "rllBSLJJse-b"
      }
    },
    {
      "cell_type": "code",
      "source": [
        "file=open(\"Assignment.txt\", \"w\")\n",
        "file.write(\"Answer to first practical question of Files and Exceptional Handling Assignment.\\nI am now going to solve the second question using the same file.\\nHow do you do guys?\\nThis is another line added.\\nLet's add one more line.\\nThis is so much fun.\\nBye Bye see you all in the next question.\")\n",
        "file.close()"
      ],
      "metadata": {
        "id": "IMM-35KlvAwe"
      },
      "execution_count": 2,
      "outputs": []
    },
    {
      "cell_type": "markdown",
      "source": [
        "2.) Write a Python program to read the contents of a file and print each line."
      ],
      "metadata": {
        "id": "sHr3jTuQtTvP"
      }
    },
    {
      "cell_type": "code",
      "source": [
        "#To print file content without \\n\n",
        "file=open(\"Assignment.txt\", \"r\")\n",
        "print(file.tell(),\"\\n\")\n",
        "file.seek(0)\n",
        "print(file.tell(),\"\\n\")\n",
        "for line in file:\n",
        "  print(line)\n",
        "file.close()"
      ],
      "metadata": {
        "colab": {
          "base_uri": "https://localhost:8080/"
        },
        "id": "5I00LTVDvBPO",
        "outputId": "a3b1d845-f5da-4c96-9c33-98395b508e83"
      },
      "execution_count": 3,
      "outputs": [
        {
          "output_type": "stream",
          "name": "stdout",
          "text": [
            "0 \n",
            "\n",
            "0 \n",
            "\n",
            "Answer to first practical question of Files and Exceptional Handling Assignment.\n",
            "\n",
            "I am now going to solve the second question using the same file.\n",
            "\n",
            "How do you do guys?\n",
            "\n",
            "This is another line added.\n",
            "\n",
            "Let's add one more line.\n",
            "\n",
            "This is so much fun.\n",
            "\n",
            "Bye Bye see you all in the next question.\n"
          ]
        }
      ]
    },
    {
      "cell_type": "code",
      "source": [
        "#To work with file text, individual lines stored as elements of a list\n",
        "file=open(\"Assignment.txt\", \"r\")\n",
        "print(file.tell(),\"\\n\")\n",
        "file.seek(0)\n",
        "print(file.tell(),\"\\n\")\n",
        "f=file.readlines()\n",
        "print(f)\n",
        "file.close()"
      ],
      "metadata": {
        "colab": {
          "base_uri": "https://localhost:8080/"
        },
        "id": "j9J-Y8gyz2eC",
        "outputId": "6f64da91-5abd-45c7-ffac-bd7df1f0b668"
      },
      "execution_count": 4,
      "outputs": [
        {
          "output_type": "stream",
          "name": "stdout",
          "text": [
            "0 \n",
            "\n",
            "0 \n",
            "\n",
            "['Answer to first practical question of Files and Exceptional Handling Assignment.\\n', 'I am now going to solve the second question using the same file.\\n', 'How do you do guys?\\n', 'This is another line added.\\n', \"Let's add one more line.\\n\", 'This is so much fun.\\n', 'Bye Bye see you all in the next question.']\n"
          ]
        }
      ]
    },
    {
      "cell_type": "markdown",
      "source": [
        "3.) How would you handle a case where the file doesn't exist while trying to open it for reading?"
      ],
      "metadata": {
        "id": "YtpKRGwUtTo9"
      }
    },
    {
      "cell_type": "code",
      "source": [
        "File=input(\"Enter a file name with .txt extension \")\n",
        "try:\n",
        "  file=open(File, \"r\")\n",
        "  print(\"\\nFile opened for reading and the contents line by line are.\\n \")\n",
        "  for line in file:\n",
        "    print(line)\n",
        "  print(\"\\nFile closed\")\n",
        "  file.close()\n",
        "except FileNotFoundError:\n",
        "  print(f\"File: '{File}' not found.\")\n",
        "  l=input(\"Do you want me to close the process or create a new file with the same name. Answer in Yes or No \")\n",
        "  if l==\"Yes\" or l==\"yes\":\n",
        "   file=open(File, \"w\")\n",
        "   print(\"New file created \")\n",
        "   file.close()\n",
        "  if l==\"No\" or l==\"no\":\n",
        "   print(\"Process terminated.\")"
      ],
      "metadata": {
        "colab": {
          "base_uri": "https://localhost:8080/"
        },
        "id": "xGfgEWA5vBgN",
        "outputId": "d383c24c-7409-4abf-aff9-083c12e1ec97"
      },
      "execution_count": 13,
      "outputs": [
        {
          "output_type": "stream",
          "name": "stdout",
          "text": [
            "Enter a file name with .txt extension my_file.txt\n",
            "File: 'my_file.txt' not found.\n",
            "Do you want me to close the process or create a new file with the same name. Answer in Yes or No Yes\n",
            "New file created \n"
          ]
        }
      ]
    },
    {
      "cell_type": "markdown",
      "source": [
        "4.) Write a Python script that reads from one file and writes its content to another file."
      ],
      "metadata": {
        "id": "zFdcSXgqtTg7"
      }
    },
    {
      "cell_type": "code",
      "source": [
        "def copy_file(source_file, destination_file):\n",
        "  try:\n",
        "    with open(source_file, 'r') as read_file:\n",
        "      with open(destination_file, 'a') as write_file:  # 'a' for append mode\n",
        "        for line in read_file:\n",
        "          write_file.write(line)\n",
        "    print(f\"File '{source_file}' copied to '{destination_file}' successfully.\")\n",
        "\n",
        "  except FileNotFoundError:\n",
        "    print(f\"Error: Source file '{source_file}' not found.\")\n",
        "  except Exception as e:\n",
        "    print(f\"An error occurred: {e}\")\n",
        "\n",
        "source_file = input(\"Enter the source file path: \")\n",
        "destination_file = input(\"Enter the destination file path: \")\n",
        "\n",
        "copy_file(source_file, destination_file)"
      ],
      "metadata": {
        "colab": {
          "base_uri": "https://localhost:8080/"
        },
        "id": "06-2H-dvvBx5",
        "outputId": "fbe92f58-a8ee-4732-c98d-55b88c9884e4"
      },
      "execution_count": 6,
      "outputs": [
        {
          "output_type": "stream",
          "name": "stdout",
          "text": [
            "Enter the source file path: Assignment.txt\n",
            "Enter the destination file path: Assignment.txt\n",
            "File 'Assignment.txt' copied to 'Assignment.txt' successfully.\n"
          ]
        }
      ]
    },
    {
      "cell_type": "markdown",
      "source": [
        "5.) How would you catch and handle division by zero error in Python?"
      ],
      "metadata": {
        "id": "vl6DvaJztTaX"
      }
    },
    {
      "cell_type": "code",
      "source": [
        "try:\n",
        "    numerator = int(input(\"Enter the numerator: \"))\n",
        "    denominator = int(input(\"Enter the denominator: \"))\n",
        "    result = numerator / denominator\n",
        "    print(\"Result:\", result)\n",
        "\n",
        "except ZeroDivisionError:\n",
        "    print(\"Error: Division by zero is not allowed.\")\n",
        "\n",
        "except ValueError:\n",
        "    print(\"Error: Please enter valid integers.\")\n",
        "\n",
        "except Exception as e:\n",
        "    print(f\"An unexpected error occurred: {e}\")"
      ],
      "metadata": {
        "colab": {
          "base_uri": "https://localhost:8080/"
        },
        "id": "yjaVT9AwvCTf",
        "outputId": "7b106751-534b-4219-e746-033c0b461cff"
      },
      "execution_count": null,
      "outputs": [
        {
          "output_type": "stream",
          "name": "stdout",
          "text": [
            "Enter the numerator: 99\n",
            "Enter the denominator: 33\n",
            "Result: 3.0\n"
          ]
        }
      ]
    },
    {
      "cell_type": "markdown",
      "source": [
        "6.) Write a Python program that logs an error message to a log file when a division by zero exception occurs."
      ],
      "metadata": {
        "id": "QbEJDKM8tTTY"
      }
    },
    {
      "cell_type": "code",
      "source": [
        "import logging\n",
        "\n",
        "def divide_numbers(numerator, denominator):\n",
        "    try:\n",
        "        result = numerator / denominator\n",
        "        return result\n",
        "    except ZeroDivisionError as e:\n",
        "        logging.basicConfig(filename='error.txt', level=logging.ERROR)\n",
        "        logging.error(f\"ZeroDivisionError: {e}\")\n",
        "        return None\n",
        "\n",
        "numerator = int(input(\"Enter the numerator: \"))\n",
        "denominator = int(input(\"Enter the denominator: \"))\n",
        "\n",
        "result = divide_numbers(numerator, denominator)\n",
        "\n",
        "if result is not None:\n",
        "    print(\"Result:\", result)\n",
        "else:\n",
        "    print(\"Error: Division by zero.\")"
      ],
      "metadata": {
        "colab": {
          "base_uri": "https://localhost:8080/"
        },
        "id": "EJZopToZvDAy",
        "outputId": "6368280c-1367-4b50-c4d2-bcb2cbc095f2"
      },
      "execution_count": null,
      "outputs": [
        {
          "name": "stdout",
          "output_type": "stream",
          "text": [
            "Enter the numerator: 99\n",
            "Enter the denominator: 0\n"
          ]
        },
        {
          "output_type": "stream",
          "name": "stderr",
          "text": [
            "ERROR:root:ZeroDivisionError: division by zero\n"
          ]
        },
        {
          "output_type": "stream",
          "name": "stdout",
          "text": [
            "Error: Division by zero.\n"
          ]
        }
      ]
    },
    {
      "cell_type": "code",
      "source": [
        "import logging\n",
        "\n",
        "def divide_numbers(numerator, denominator):\n",
        "    try:\n",
        "        result = numerator / denominator\n",
        "        return result\n",
        "    except ZeroDivisionError as e:\n",
        "        logging.basicConfig(filename='error.log', level=logging.ERROR,\n",
        "                            format=\"%(asctime)s - %(levelname)s - %(message)s\")\n",
        "        logging.error(f\"ZeroDivisionError: {e}\")\n",
        "        return None\n",
        "\n",
        "numerator = int(input(\"Enter the numerator: \"))\n",
        "denominator = int(input(\"Enter the denominator: \"))\n",
        "\n",
        "result = divide_numbers(numerator, denominator)\n",
        "\n",
        "if result is not None:\n",
        "    print(\"Result:\", result)\n",
        "else:\n",
        "    print(\"Error: Division by zero.\")\n",
        "\n",
        "try:\n",
        "    with open('error.log', 'r') as log_file:\n",
        "        for line in log_file:\n",
        "            print(line.strip())\n",
        "except FileNotFoundError:\n",
        "    print(\"Log file not found (this is expected if no error occurred).\")"
      ],
      "metadata": {
        "colab": {
          "base_uri": "https://localhost:8080/"
        },
        "id": "YK14NOKPz8NM",
        "outputId": "13551f7e-9933-47bc-a767-794c58b41ba6"
      },
      "execution_count": 58,
      "outputs": [
        {
          "output_type": "stream",
          "name": "stdout",
          "text": [
            "Enter the numerator: 99\n",
            "Enter the denominator: 27\n",
            "Result: 3.6666666666666665\n",
            "Log file not found (this is expected if no error occurred).\n"
          ]
        }
      ]
    },
    {
      "cell_type": "markdown",
      "source": [
        "7.) How do you log information at different levels (INFO, ERROR, WARNING) in Python using the logging module?"
      ],
      "metadata": {
        "id": "Uha7dJrftTMp"
      }
    },
    {
      "cell_type": "code",
      "source": [
        "import logging\n",
        "\n",
        "logging.basicConfig(level=logging.DEBUG, format='%(asctime)s - %(levelname)s - %(message)s')\n",
        "\n",
        "#Logging at different levels\n",
        "logging.debug(\"This is a debug message.\")\n",
        "logging.info(\"This is an info message.\")\n",
        "logging.warning(\"This is a warning message.\")\n",
        "logging.error(\"This is an error message.\")\n",
        "logging.critical(\"This is a critical error message.\")\n"
      ],
      "metadata": {
        "id": "cMHIaU2NvDmC"
      },
      "execution_count": null,
      "outputs": []
    },
    {
      "cell_type": "markdown",
      "source": [
        "8.) Write a program to handle a file opening error using exception handling."
      ],
      "metadata": {
        "id": "LP-5vurDtTFh"
      }
    },
    {
      "cell_type": "code",
      "source": [
        "try:\n",
        "    with open(\"my_file.txt\", \"r\") as file:\n",
        "        file_contents = file.read()\n",
        "        print(file_contents)\n",
        "\n",
        "except FileNotFoundError:\n",
        "    print(\"Error: File 'my_file.txt' not found.\")\n",
        "\n",
        "except Exception as e:\n",
        "    print(f\"An unexpected error occurred: {e}\")"
      ],
      "metadata": {
        "id": "nlV3CEgLvEFB"
      },
      "execution_count": null,
      "outputs": []
    },
    {
      "cell_type": "markdown",
      "source": [
        "9.) How can you read a file line by line and store its content in a list in Python?"
      ],
      "metadata": {
        "id": "EnA6jFQWtS-i"
      }
    },
    {
      "cell_type": "code",
      "source": [
        "def read_file_into_list(filename):\n",
        "  with open(filename, 'r') as file:\n",
        "    lines = file.readlines()\n",
        "  return lines\n",
        "\n",
        "file_lines = read_file_into_list('Assignment.txt')\n",
        "print(file_lines)"
      ],
      "metadata": {
        "id": "arg7vBy7vEis",
        "colab": {
          "base_uri": "https://localhost:8080/"
        },
        "outputId": "30a5c99f-a9aa-44b7-f1a1-342f99894573"
      },
      "execution_count": 7,
      "outputs": [
        {
          "output_type": "stream",
          "name": "stdout",
          "text": [
            "['Answer to first practical question of Files and Exceptional Handling Assignment.\\n', 'I am now going to solve the second question using the same file.\\n', 'How do you do guys?\\n', 'This is another line added.\\n', \"Let's add one more line.\\n\", 'This is so much fun.\\n', 'Bye Bye see you all in the next question.Answer to first practical question of Files and Exceptional Handling Assignment.\\n', 'I am now going to solve the second question using the same file.\\n', 'How do you do guys?\\n', 'This is another line added.\\n', \"Let's add one more line.\\n\", 'This is so much fun.\\n', 'Bye Bye see you all in the next question.']\n"
          ]
        }
      ]
    },
    {
      "cell_type": "markdown",
      "source": [
        "10.) How can you append data to an existing file in Python?"
      ],
      "metadata": {
        "id": "qbKns9WytS3_"
      }
    },
    {
      "cell_type": "code",
      "source": [
        "def append_to_file(filename, data):\n",
        "  with open(filename, 'a') as file:\n",
        "    file.write(data + '\\n')\n",
        "\n",
        "append_to_file('Assignment.txt', 'This is new data.')"
      ],
      "metadata": {
        "id": "5GKoeXx-vE5k"
      },
      "execution_count": 8,
      "outputs": []
    },
    {
      "cell_type": "markdown",
      "source": [
        "11.) Write a Python program that uses a try-except block to handle an error when attempting to access a\n",
        "dictionary key that doesn't exist."
      ],
      "metadata": {
        "id": "QhPSPp6rtSxA"
      }
    },
    {
      "cell_type": "code",
      "source": [
        "my_dict = {'name': 'Alice', 'age': 30}\n",
        "\n",
        "try:\n",
        "    # Attempt to access the key 'city'\n",
        "    city = my_dict['city']\n",
        "    print(f\"City: {city}\")\n",
        "\n",
        "except KeyError:\n",
        "    print(\"KeyError: 'city' key not found in the dictionary.\")\n",
        "\n",
        "print(\"Program continues after exception handling.\")"
      ],
      "metadata": {
        "id": "U_wA50kVvFTr",
        "colab": {
          "base_uri": "https://localhost:8080/"
        },
        "outputId": "d53b7c25-690d-4442-cb84-a31e260c71c8"
      },
      "execution_count": 9,
      "outputs": [
        {
          "output_type": "stream",
          "name": "stdout",
          "text": [
            "KeyError: 'city' key not found in the dictionary.\n",
            "Program continues after exception handling.\n"
          ]
        }
      ]
    },
    {
      "cell_type": "markdown",
      "source": [
        "12.) Write a program that demonstrates using multiple except blocks to handle different types of exceptions."
      ],
      "metadata": {
        "id": "0qK6S59JtSqR"
      }
    },
    {
      "cell_type": "code",
      "source": [
        "def divide_numbers(a, b):\n",
        "  try:\n",
        "    result = a / b\n",
        "    return result\n",
        "\n",
        "  except ZeroDivisionError:\n",
        "    print(\"Error: Division by zero is not allowed.\")\n",
        "    return None\n",
        "\n",
        "  except TypeError:\n",
        "    print(\"Error: Invalid input types for division.\")\n",
        "    return None\n",
        "\n",
        "  except Exception as e:\n",
        "    print(f\"An unexpected error occurred: {e}\")\n",
        "    return None\n",
        "\n",
        "result1 = divide_numbers(10, 2)\n",
        "result2 = divide_numbers(10, 0)\n",
        "result3 = divide_numbers(10, \"2\")\n",
        "\n",
        "print(f\"Result 1: {result1}\")\n",
        "print(f\"Result 2: {result2}\")\n",
        "print(f\"Result 3: {result3}\")"
      ],
      "metadata": {
        "id": "9oBxY5z9vF1f",
        "colab": {
          "base_uri": "https://localhost:8080/"
        },
        "outputId": "e9c61575-1524-4ec7-910a-b97c9d248cdf"
      },
      "execution_count": 10,
      "outputs": [
        {
          "output_type": "stream",
          "name": "stdout",
          "text": [
            "Error: Division by zero is not allowed.\n",
            "Error: Invalid input types for division.\n",
            "Result 1: 5.0\n",
            "Result 2: None\n",
            "Result 3: None\n"
          ]
        }
      ]
    },
    {
      "cell_type": "markdown",
      "source": [
        "13.) How would you check if a file exists before attempting to read it in Python?"
      ],
      "metadata": {
        "id": "duNMNpaUtSjf"
      }
    },
    {
      "cell_type": "code",
      "source": [
        "import os\n",
        "\n",
        "def check_file_exists(filename):\n",
        "  return os.path.exists(filename)\n",
        "\n",
        "file_path = \"Assignment.txt\"\n",
        "\n",
        "if check_file_exists(file_path):\n",
        "  print(f\"File '{file_path}' exists.\")\n",
        "else:\n",
        "  print(f\"File '{file_path}' does not exist.\")"
      ],
      "metadata": {
        "id": "oSBF4wXRvGfc",
        "colab": {
          "base_uri": "https://localhost:8080/"
        },
        "outputId": "7c752479-4f79-41aa-f09d-5bafc0c87237"
      },
      "execution_count": 11,
      "outputs": [
        {
          "output_type": "stream",
          "name": "stdout",
          "text": [
            "File 'Assignment.txt' exists.\n"
          ]
        }
      ]
    },
    {
      "cell_type": "markdown",
      "source": [
        "14.) Write a program that uses the logging module to log both informational and error messages."
      ],
      "metadata": {
        "id": "zMAOASCztScY"
      }
    },
    {
      "cell_type": "code",
      "source": [
        "import logging\n",
        "\n",
        "logging.basicConfig(filename='my_log.log', level=logging.INFO,\n",
        "                    format='%(asctime)s - %(levelname)s - %(message)s')\n",
        "\n",
        "def divide(x, y):\n",
        "    try:\n",
        "        result = x / y\n",
        "        logging.info(f\"Division successful: {x} / {y} = {result}\")\n",
        "        return result\n",
        "    except ZeroDivisionError:\n",
        "        logging.error(\"Error: Division by zero.\")\n",
        "        return None\n",
        "\n",
        "result1 = divide(10, 2)\n",
        "result2 = divide(10, 0)\n",
        "\n",
        "print(f\"Result 1: {result1}\")\n",
        "print(f\"Result 2: {result2}\")"
      ],
      "metadata": {
        "id": "td1btnlHvHDp",
        "colab": {
          "base_uri": "https://localhost:8080/"
        },
        "outputId": "0303b672-03a5-4c0c-ad7a-11dc57e772a1"
      },
      "execution_count": 12,
      "outputs": [
        {
          "output_type": "stream",
          "name": "stderr",
          "text": [
            "ERROR:root:Error: Division by zero.\n"
          ]
        },
        {
          "output_type": "stream",
          "name": "stdout",
          "text": [
            "Result 1: 5.0\n",
            "Result 2: None\n"
          ]
        }
      ]
    },
    {
      "cell_type": "markdown",
      "source": [
        "15.) Write a Python program that prints the content of a file and handles the case when the file is empty."
      ],
      "metadata": {
        "id": "2gwyJ7iQtSVn"
      }
    },
    {
      "cell_type": "code",
      "source": [
        "def print_file_content(filename):\n",
        "  try:\n",
        "    with open(filename, 'r') as file:\n",
        "      content = file.read()\n",
        "      if content:\n",
        "        print(content)\n",
        "      else:\n",
        "        print(f\"The file '{filename}' is empty.\")\n",
        "  except FileNotFoundError:\n",
        "    print(f\"Error: File '{filename}' not found.\")\n",
        "\n",
        "filename = \"my_file.txt\"\n",
        "print_file_content(filename)"
      ],
      "metadata": {
        "id": "Jyb-UbkuvHi5",
        "colab": {
          "base_uri": "https://localhost:8080/"
        },
        "outputId": "ad600a5f-1b71-48a6-995f-a63af279c0eb"
      },
      "execution_count": 14,
      "outputs": [
        {
          "output_type": "stream",
          "name": "stdout",
          "text": [
            "The file 'my_file.txt' is empty.\n"
          ]
        }
      ]
    },
    {
      "cell_type": "markdown",
      "source": [
        "16.) Demonstrate how to use memory profiling to check the memory usage of a small program."
      ],
      "metadata": {
        "id": "A3xR0T_LtSOq"
      }
    },
    {
      "cell_type": "code",
      "source": [
        "!pip install memory-profiler\n",
        "\n",
        "import numpy as np\n",
        "from memory_profiler import memory_usage\n",
        "\n",
        "def my_function():\n",
        "    large_list = [i for i in range(1000000)]\n",
        "    large_array = np.array(large_list)\n",
        "    result = np.sum(large_array)\n",
        "    return result\n",
        "\n",
        "mem_usage = memory_usage((my_function,))\n",
        "\n",
        "print(\"Memory usage: \", mem_usage)\n"
      ],
      "metadata": {
        "colab": {
          "base_uri": "https://localhost:8080/"
        },
        "id": "QPI0Wc6V9R9C",
        "outputId": "b0cb6e3e-aaa3-4d6f-9e17-07dafcaa9479"
      },
      "execution_count": 17,
      "outputs": [
        {
          "output_type": "stream",
          "name": "stdout",
          "text": [
            "Requirement already satisfied: memory-profiler in /usr/local/lib/python3.11/dist-packages (0.61.0)\n",
            "Requirement already satisfied: psutil in /usr/local/lib/python3.11/dist-packages (from memory-profiler) (5.9.5)\n",
            "Memory usage:  [178.50390625, 178.640625, 183.22265625, 187.62890625, 192.375, 197.12109375, 201.45703125, 205.79296875, 207.640625, 207.640625, 207.640625, 207.640625, 207.640625, 207.640625, 207.640625, 207.640625, 207.640625, 207.640625, 202.640625, 185.640625, 179.640625]\n"
          ]
        }
      ]
    },
    {
      "cell_type": "markdown",
      "source": [
        "17.) Write a Python program to create and write a list of numbers to a file, one number per line."
      ],
      "metadata": {
        "id": "pXzKKAhCtSHk"
      }
    },
    {
      "cell_type": "code",
      "source": [
        "numbers = [1, 2, 3, 4, 5, 6, 7, 8, 9, 10]\n",
        "\n",
        "filename = \"numbers.txt\"\n",
        "\n",
        "with open(filename, \"w\") as file:\n",
        "    for number in numbers:\n",
        "        file.write(str(number) + \"\\n\")\n",
        "\n",
        "print(f\"Numbers have been written to {filename}\")\n"
      ],
      "metadata": {
        "id": "TzM3j456vIZ0",
        "colab": {
          "base_uri": "https://localhost:8080/"
        },
        "outputId": "0fb91504-1965-4400-a808-1c279ffb0874"
      },
      "execution_count": 20,
      "outputs": [
        {
          "output_type": "stream",
          "name": "stdout",
          "text": [
            "Numbers have been written to numbers.txt\n"
          ]
        }
      ]
    },
    {
      "cell_type": "markdown",
      "source": [
        "18.) How would you implement a basic logging setup that logs to a file with rotation after 1MB?"
      ],
      "metadata": {
        "id": "6pEC22wctSAl"
      }
    },
    {
      "cell_type": "code",
      "source": [
        "import logging\n",
        "from logging.handlers import RotatingFileHandler\n",
        "\n",
        "logger = logging.getLogger(\"MyLogger\")\n",
        "logger.setLevel(logging.INFO)\n",
        "\n",
        "formatter = logging.Formatter('%(asctime)s - %(name)s - %(levelname)s - %(message)s')\n",
        "\n",
        "handler = RotatingFileHandler(\"my_log.log\", maxBytes=1*1024*1024, backupCount=3)\n",
        "\n",
        "handler.setFormatter(formatter)\n",
        "\n",
        "logger.addHandler(handler)\n",
        "\n",
        "for i in range(100):\n",
        "    logger.info(f\"Log message {i}\")\n"
      ],
      "metadata": {
        "id": "qP4LznT6vI6p",
        "colab": {
          "base_uri": "https://localhost:8080/"
        },
        "outputId": "d49af608-b579-4561-b4f6-487aa2b02a46"
      },
      "execution_count": 1,
      "outputs": [
        {
          "output_type": "stream",
          "name": "stderr",
          "text": [
            "INFO:MyLogger:Log message 0\n",
            "INFO:MyLogger:Log message 1\n",
            "INFO:MyLogger:Log message 2\n",
            "INFO:MyLogger:Log message 3\n",
            "INFO:MyLogger:Log message 4\n",
            "INFO:MyLogger:Log message 5\n",
            "INFO:MyLogger:Log message 6\n",
            "INFO:MyLogger:Log message 7\n",
            "INFO:MyLogger:Log message 8\n",
            "INFO:MyLogger:Log message 9\n",
            "INFO:MyLogger:Log message 10\n",
            "INFO:MyLogger:Log message 11\n",
            "INFO:MyLogger:Log message 12\n",
            "INFO:MyLogger:Log message 13\n",
            "INFO:MyLogger:Log message 14\n",
            "INFO:MyLogger:Log message 15\n",
            "INFO:MyLogger:Log message 16\n",
            "INFO:MyLogger:Log message 17\n",
            "INFO:MyLogger:Log message 18\n",
            "INFO:MyLogger:Log message 19\n",
            "INFO:MyLogger:Log message 20\n",
            "INFO:MyLogger:Log message 21\n",
            "INFO:MyLogger:Log message 22\n",
            "INFO:MyLogger:Log message 23\n",
            "INFO:MyLogger:Log message 24\n",
            "INFO:MyLogger:Log message 25\n",
            "INFO:MyLogger:Log message 26\n",
            "INFO:MyLogger:Log message 27\n",
            "INFO:MyLogger:Log message 28\n",
            "INFO:MyLogger:Log message 29\n",
            "INFO:MyLogger:Log message 30\n",
            "INFO:MyLogger:Log message 31\n",
            "INFO:MyLogger:Log message 32\n",
            "INFO:MyLogger:Log message 33\n",
            "INFO:MyLogger:Log message 34\n",
            "INFO:MyLogger:Log message 35\n",
            "INFO:MyLogger:Log message 36\n",
            "INFO:MyLogger:Log message 37\n",
            "INFO:MyLogger:Log message 38\n",
            "INFO:MyLogger:Log message 39\n",
            "INFO:MyLogger:Log message 40\n",
            "INFO:MyLogger:Log message 41\n",
            "INFO:MyLogger:Log message 42\n",
            "INFO:MyLogger:Log message 43\n",
            "INFO:MyLogger:Log message 44\n",
            "INFO:MyLogger:Log message 45\n",
            "INFO:MyLogger:Log message 46\n",
            "INFO:MyLogger:Log message 47\n",
            "INFO:MyLogger:Log message 48\n",
            "INFO:MyLogger:Log message 49\n",
            "INFO:MyLogger:Log message 50\n",
            "INFO:MyLogger:Log message 51\n",
            "INFO:MyLogger:Log message 52\n",
            "INFO:MyLogger:Log message 53\n",
            "INFO:MyLogger:Log message 54\n",
            "INFO:MyLogger:Log message 55\n",
            "INFO:MyLogger:Log message 56\n",
            "INFO:MyLogger:Log message 57\n",
            "INFO:MyLogger:Log message 58\n",
            "INFO:MyLogger:Log message 59\n",
            "INFO:MyLogger:Log message 60\n",
            "INFO:MyLogger:Log message 61\n",
            "INFO:MyLogger:Log message 62\n",
            "INFO:MyLogger:Log message 63\n",
            "INFO:MyLogger:Log message 64\n",
            "INFO:MyLogger:Log message 65\n",
            "INFO:MyLogger:Log message 66\n",
            "INFO:MyLogger:Log message 67\n",
            "INFO:MyLogger:Log message 68\n",
            "INFO:MyLogger:Log message 69\n",
            "INFO:MyLogger:Log message 70\n",
            "INFO:MyLogger:Log message 71\n",
            "INFO:MyLogger:Log message 72\n",
            "INFO:MyLogger:Log message 73\n",
            "INFO:MyLogger:Log message 74\n",
            "INFO:MyLogger:Log message 75\n",
            "INFO:MyLogger:Log message 76\n",
            "INFO:MyLogger:Log message 77\n",
            "INFO:MyLogger:Log message 78\n",
            "INFO:MyLogger:Log message 79\n",
            "INFO:MyLogger:Log message 80\n",
            "INFO:MyLogger:Log message 81\n",
            "INFO:MyLogger:Log message 82\n",
            "INFO:MyLogger:Log message 83\n",
            "INFO:MyLogger:Log message 84\n",
            "INFO:MyLogger:Log message 85\n",
            "INFO:MyLogger:Log message 86\n",
            "INFO:MyLogger:Log message 87\n",
            "INFO:MyLogger:Log message 88\n",
            "INFO:MyLogger:Log message 89\n",
            "INFO:MyLogger:Log message 90\n",
            "INFO:MyLogger:Log message 91\n",
            "INFO:MyLogger:Log message 92\n",
            "INFO:MyLogger:Log message 93\n",
            "INFO:MyLogger:Log message 94\n",
            "INFO:MyLogger:Log message 95\n",
            "INFO:MyLogger:Log message 96\n",
            "INFO:MyLogger:Log message 97\n",
            "INFO:MyLogger:Log message 98\n",
            "INFO:MyLogger:Log message 99\n"
          ]
        }
      ]
    },
    {
      "cell_type": "markdown",
      "source": [
        "19.) Write a program that handles both IndexError and KeyError using a try-except block."
      ],
      "metadata": {
        "id": "xnDFu-O1tR5T"
      }
    },
    {
      "cell_type": "code",
      "source": [
        "# Sample list and dictionary\n",
        "sample_list = [1, 2, 3, 4, 5]\n",
        "sample_dict = {'a': 1, 'b': 2, 'c': 3}\n",
        "\n",
        "try:\n",
        "    list_value = sample_list[10]\n",
        "except IndexError as e:\n",
        "    print(f\"IndexError occurred: {e}\")\n",
        "\n",
        "try:\n",
        "    dict_value = sample_dict['z']\n",
        "except KeyError as e:\n",
        "    print(f\"KeyError occurred: {e}\")\n"
      ],
      "metadata": {
        "id": "FJCwYr9MvJZY"
      },
      "execution_count": null,
      "outputs": []
    },
    {
      "cell_type": "markdown",
      "source": [
        "20.) How would you open a file and read its contents using a context manager in Python?"
      ],
      "metadata": {
        "id": "-YbpXwPItRyO"
      }
    },
    {
      "cell_type": "code",
      "source": [
        "\n",
        "filename = \"example.txt\"\n",
        "\n",
        "with open(filename, \"w\") as file:\n",
        "    file.write(\"This is an example text file.\\nHere's another line.\")\n",
        "\n",
        "\n",
        "with open(filename, \"r\") as file:\n",
        "    contents = file.read()\n",
        "\n",
        "print(contents)\n"
      ],
      "metadata": {
        "id": "OdnARaEXvJ4G",
        "colab": {
          "base_uri": "https://localhost:8080/"
        },
        "outputId": "a8b80ebd-18bf-4f13-9426-2837e9c96202"
      },
      "execution_count": 2,
      "outputs": [
        {
          "output_type": "stream",
          "name": "stdout",
          "text": [
            "This is an example text file.\n",
            "Here's another line.\n"
          ]
        }
      ]
    },
    {
      "cell_type": "markdown",
      "source": [
        "21.) Write a Python program that reads a file and prints the number of occurrences of a specific word."
      ],
      "metadata": {
        "id": "PNCHrGaCtRpo"
      }
    },
    {
      "cell_type": "code",
      "source": [
        "import re\n",
        "\n",
        "filename = \"sample.txt\"\n",
        "contents = \"\"\"Hello world! This is a sample text file.\n",
        "This file is created to demonstrate counting word occurrences.\n",
        "Let's count how many times the word 'sample' appears in this file.\"\"\"\n",
        "\n",
        "with open(filename, \"w\") as file:\n",
        "    file.write(contents)\n",
        "\n",
        "def count_word_occurrences(filename, word):\n",
        "    try:\n",
        "        with open(filename, \"r\") as file:\n",
        "            text = file.read()\n",
        "        word_count = len(re.findall(rf'\\b{re.escape(word)}\\b', text, re.IGNORECASE))\n",
        "        print(f\"The word '{word}' appears {word_count} times in the file '{filename}'.\")\n",
        "    except FileNotFoundError:\n",
        "        print(f\"The file '{filename}' does not exist.\")\n",
        "    except Exception as e:\n",
        "        print(f\"An error occurred: {e}\")\n",
        "\n",
        "count_word_occurrences(\"sample.txt\", \"sample\")\n"
      ],
      "metadata": {
        "id": "gGvZ_ODUvKS7",
        "colab": {
          "base_uri": "https://localhost:8080/"
        },
        "outputId": "b3c712a4-fe60-49e8-cb74-7dde15e308cb"
      },
      "execution_count": 5,
      "outputs": [
        {
          "output_type": "stream",
          "name": "stdout",
          "text": [
            "The word 'sample' appears 2 times in the file 'sample.txt'.\n"
          ]
        }
      ]
    },
    {
      "cell_type": "markdown",
      "source": [
        "22.) How can you check if a file is empty before attempting to read its contents?"
      ],
      "metadata": {
        "id": "B4YRkrv6tQS7"
      }
    },
    {
      "cell_type": "code",
      "source": [
        "import os\n",
        "\n",
        "def is_file_empty(filename):\n",
        "    return os.path.getsize(filename) == 0\n",
        "\n",
        "filename = \"example.txt\"\n",
        "\n",
        "with open(filename, \"w\") as file:\n",
        "    file.write(\"\")\n",
        "\n",
        "if is_file_empty(filename):\n",
        "    print(f\"The file '{filename}' is empty.\")\n",
        "else:\n",
        "    with open(filename, \"r\") as file:\n",
        "        contents = file.read()\n",
        "        print(contents)\n"
      ],
      "metadata": {
        "id": "zz--6UpKvK6P",
        "colab": {
          "base_uri": "https://localhost:8080/"
        },
        "outputId": "626a158e-72cb-40d1-f233-fb1a07bae009"
      },
      "execution_count": 7,
      "outputs": [
        {
          "output_type": "stream",
          "name": "stdout",
          "text": [
            "The file 'example.txt' is empty.\n"
          ]
        }
      ]
    },
    {
      "cell_type": "markdown",
      "source": [
        "23.) Write a Python program that writes to a log file when an error occurs during file handling."
      ],
      "metadata": {
        "id": "qAwuALFAtQs6"
      }
    },
    {
      "cell_type": "code",
      "source": [
        "import logging\n",
        "\n",
        "logging.basicConfig(filename='error_log.txt', level=logging.ERROR,\n",
        "                    format='%(asctime)s - %(levelname)s - %(message)s')\n",
        "\n",
        "def read_file(filename):\n",
        "    try:\n",
        "        with open(filename, \"r\") as file:\n",
        "            contents = file.read()\n",
        "            print(contents)\n",
        "    except FileNotFoundError:\n",
        "        error_message = f\"The file '{filename}' does not exist.\"\n",
        "        print(error_message)\n",
        "        logging.error(error_message)\n",
        "    except Exception as e:\n",
        "        error_message = f\"An error occurred: {e}\"\n",
        "        print(error_message)\n",
        "        logging.error(error_message)\n",
        "\n",
        "with open(\"example.txt\", \"w\") as file:\n",
        "    file.write(\"This is an example file.\")\n",
        "\n",
        "read_file(\"example.txt\")\n",
        "\n",
        "read_file(\"non_existing_file.txt\")\n"
      ],
      "metadata": {
        "id": "k7oe38vLvLR8",
        "colab": {
          "base_uri": "https://localhost:8080/"
        },
        "outputId": "b8acef67-f8ee-4fa5-b3d7-cb889e2a53e7"
      },
      "execution_count": 8,
      "outputs": [
        {
          "output_type": "stream",
          "name": "stderr",
          "text": [
            "ERROR:root:The file 'non_existing_file.txt' does not exist.\n"
          ]
        },
        {
          "output_type": "stream",
          "name": "stdout",
          "text": [
            "This is an example file.\n",
            "The file 'non_existing_file.txt' does not exist.\n"
          ]
        }
      ]
    }
  ]
}